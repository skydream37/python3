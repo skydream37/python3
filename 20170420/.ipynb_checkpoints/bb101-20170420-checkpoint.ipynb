{
 "cells": [
  {
   "cell_type": "code",
   "execution_count": 45,
   "metadata": {
    "collapsed": true,
    "scrolled": true
   },
   "outputs": [],
   "source": [
    "# 這是一個註解\n",
    "# In Jupyter, 用 <ctrl-/> 來 toggle comment\n",
    "# 支援多行同時註解"
   ]
  },
  {
   "cell_type": "markdown",
   "metadata": {
    "collapsed": true
   },
   "source": [
    "# Python coding style\n",
    "# https://www.python.org/dev/peps/pep-0008/"
   ]
  },
  {
   "cell_type": "code",
   "execution_count": 47,
   "metadata": {},
   "outputs": [
    {
     "name": "stdout",
     "output_type": "stream",
     "text": [
      "Hi i am indented\n"
     ]
    }
   ],
   "source": [
    "# 用縮排來定義一個code block\n",
    "# In Jyputer, 用 <Tab> or <ctrl-]> or <ctrl-[> 來調整縮排\n",
    "# 支援多行同時縮排\n",
    "if True:\n",
    "    print(\"Hi i am indented\")"
   ]
  },
  {
   "cell_type": "markdown",
   "metadata": {},
   "source": [
    "# 在Python裡面, 所有的東西都是一個Object"
   ]
  },
  {
   "cell_type": "markdown",
   "metadata": {
    "collapsed": true
   },
   "source": [
    "# Integer"
   ]
  },
  {
   "cell_type": "code",
   "execution_count": 8,
   "metadata": {},
   "outputs": [
    {
     "data": {
      "text/plain": [
       "1"
      ]
     },
     "execution_count": 8,
     "metadata": {},
     "output_type": "execute_result"
    }
   ],
   "source": [
    "1"
   ]
  },
  {
   "cell_type": "code",
   "execution_count": 9,
   "metadata": {},
   "outputs": [
    {
     "data": {
      "text/plain": [
       "int"
      ]
     },
     "execution_count": 9,
     "metadata": {},
     "output_type": "execute_result"
    }
   ],
   "source": [
    "# 用type()來簡查型態\n",
    "type(1)"
   ]
  },
  {
   "cell_type": "code",
   "execution_count": 10,
   "metadata": {},
   "outputs": [
    {
     "data": {
      "text/plain": [
       "2"
      ]
     },
     "execution_count": 10,
     "metadata": {},
     "output_type": "execute_result"
    }
   ],
   "source": [
    "1 + 1"
   ]
  },
  {
   "cell_type": "code",
   "execution_count": 11,
   "metadata": {},
   "outputs": [
    {
     "data": {
      "text/plain": [
       "1"
      ]
     },
     "execution_count": 11,
     "metadata": {},
     "output_type": "execute_result"
    }
   ],
   "source": [
    "2 - 1"
   ]
  },
  {
   "cell_type": "code",
   "execution_count": 12,
   "metadata": {},
   "outputs": [
    {
     "data": {
      "text/plain": [
       "4"
      ]
     },
     "execution_count": 12,
     "metadata": {},
     "output_type": "execute_result"
    }
   ],
   "source": [
    "2 * 2"
   ]
  },
  {
   "cell_type": "code",
   "execution_count": 13,
   "metadata": {},
   "outputs": [
    {
     "data": {
      "text/plain": [
       "2.0"
      ]
     },
     "execution_count": 13,
     "metadata": {},
     "output_type": "execute_result"
    }
   ],
   "source": [
    "4 / 2"
   ]
  },
  {
   "cell_type": "code",
   "execution_count": 14,
   "metadata": {},
   "outputs": [
    {
     "data": {
      "text/plain": [
       "1"
      ]
     },
     "execution_count": 14,
     "metadata": {},
     "output_type": "execute_result"
    }
   ],
   "source": [
    "5 % 2"
   ]
  },
  {
   "cell_type": "code",
   "execution_count": 16,
   "metadata": {},
   "outputs": [
    {
     "data": {
      "text/plain": [
       "8"
      ]
     },
     "execution_count": 16,
     "metadata": {},
     "output_type": "execute_result"
    }
   ],
   "source": [
    "2 ** 3 # 2^3"
   ]
  },
  {
   "cell_type": "code",
   "execution_count": 17,
   "metadata": {},
   "outputs": [
    {
     "data": {
      "text/plain": [
       "'1'"
      ]
     },
     "execution_count": 17,
     "metadata": {},
     "output_type": "execute_result"
    }
   ],
   "source": [
    "# 型態轉換 int -> str\n",
    "str(1) # Cast to str type"
   ]
  },
  {
   "cell_type": "markdown",
   "metadata": {
    "collapsed": true
   },
   "source": [
    "# String"
   ]
  },
  {
   "cell_type": "code",
   "execution_count": 28,
   "metadata": {},
   "outputs": [
    {
     "data": {
      "text/plain": [
       "\"I'm a string\""
      ]
     },
     "execution_count": 28,
     "metadata": {},
     "output_type": "execute_result"
    }
   ],
   "source": [
    "\"I'm a string\""
   ]
  },
  {
   "cell_type": "code",
   "execution_count": 25,
   "metadata": {},
   "outputs": [
    {
     "data": {
      "text/plain": [
       "'I am also a string'"
      ]
     },
     "execution_count": 25,
     "metadata": {},
     "output_type": "execute_result"
    }
   ],
   "source": [
    "'I am also a string'"
   ]
  },
  {
   "cell_type": "code",
   "execution_count": null,
   "metadata": {
    "collapsed": true
   },
   "outputs": [],
   "source": [
    "# 通常一個句子類型的字串會用\"\"\n",
    "# 較短的如dict的key會用''"
   ]
  },
  {
   "cell_type": "code",
   "execution_count": 23,
   "metadata": {},
   "outputs": [
    {
     "data": {
      "text/plain": [
       "'I am ano\\nther string'"
      ]
     },
     "execution_count": 23,
     "metadata": {},
     "output_type": "execute_result"
    }
   ],
   "source": [
    "# 三個\"\"\"可以跨行\n",
    "\"\"\"I am ano\n",
    "ther string\"\"\""
   ]
  },
  {
   "cell_type": "code",
   "execution_count": 26,
   "metadata": {},
   "outputs": [
    {
     "data": {
      "text/plain": [
       "'This is the \\nlast string'"
      ]
     },
     "execution_count": 26,
     "metadata": {},
     "output_type": "execute_result"
    }
   ],
   "source": [
    "# 三個'''也可以跨行\n",
    "'''This is the \n",
    "last string'''"
   ]
  },
  {
   "cell_type": "code",
   "execution_count": 27,
   "metadata": {},
   "outputs": [
    {
     "data": {
      "text/plain": [
       "'My name is Ian'"
      ]
     },
     "execution_count": 27,
     "metadata": {},
     "output_type": "execute_result"
    }
   ],
   "source": [
    "# 把兩個字串合併在一起\n",
    "\"My name is \" + \"Ian\""
   ]
  },
  {
   "cell_type": "code",
   "execution_count": 32,
   "metadata": {},
   "outputs": [
    {
     "data": {
      "text/plain": [
       "'My name is Ian, I program Python'"
      ]
     },
     "execution_count": 32,
     "metadata": {},
     "output_type": "execute_result"
    }
   ],
   "source": [
    "name = \"Ian\"\n",
    "lang = \"Python\"\n",
    "\n",
    "\"My name is \" + name + \", I program \" + lang"
   ]
  },
  {
   "cell_type": "code",
   "execution_count": null,
   "metadata": {
    "collapsed": true
   },
   "outputs": [],
   "source": [
    "# 比較好的字串組合\n",
    "# 使用str object的.format()方法"
   ]
  },
  {
   "cell_type": "code",
   "execution_count": 30,
   "metadata": {},
   "outputs": [
    {
     "data": {
      "text/plain": [
       "'My name is {}, I program {}'"
      ]
     },
     "execution_count": 30,
     "metadata": {},
     "output_type": "execute_result"
    }
   ],
   "source": [
    "\"My name is {}, I program {}\""
   ]
  },
  {
   "cell_type": "code",
   "execution_count": 31,
   "metadata": {
    "scrolled": true
   },
   "outputs": [
    {
     "data": {
      "text/plain": [
       "'My name is Ian, I program Python'"
      ]
     },
     "execution_count": 31,
     "metadata": {},
     "output_type": "execute_result"
    }
   ],
   "source": [
    "\"My name is {}, I program {}\".format(\"Ian\", \"Python\")"
   ]
  },
  {
   "cell_type": "code",
   "execution_count": 33,
   "metadata": {},
   "outputs": [
    {
     "data": {
      "text/plain": [
       "'My name is Ian, I program Python'"
      ]
     },
     "execution_count": 33,
     "metadata": {},
     "output_type": "execute_result"
    }
   ],
   "source": [
    "\"My name is {}, I program {}\".format(name, lang)"
   ]
  },
  {
   "cell_type": "markdown",
   "metadata": {
    "collapsed": true
   },
   "source": [
    "### 注意"
   ]
  },
  {
   "cell_type": "code",
   "execution_count": 38,
   "metadata": {},
   "outputs": [
    {
     "ename": "TypeError",
     "evalue": "must be str, not int",
     "output_type": "error",
     "traceback": [
      "\u001b[0;31m---------------------------------------------------------------------------\u001b[0m",
      "\u001b[0;31mTypeError\u001b[0m                                 Traceback (most recent call last)",
      "\u001b[0;32m<ipython-input-38-8488167dc13a>\u001b[0m in \u001b[0;36m<module>\u001b[0;34m()\u001b[0m\n\u001b[1;32m      1\u001b[0m \u001b[0mnum\u001b[0m \u001b[0;34m=\u001b[0m \u001b[0;36m12\u001b[0m\u001b[0;34m\u001b[0m\u001b[0m\n\u001b[0;32m----> 2\u001b[0;31m \u001b[0;34m\"My name is \"\u001b[0m \u001b[0;34m+\u001b[0m \u001b[0mname\u001b[0m \u001b[0;34m+\u001b[0m \u001b[0;34m\", I program \"\u001b[0m \u001b[0;34m+\u001b[0m \u001b[0mlang\u001b[0m \u001b[0;34m+\u001b[0m \u001b[0;34m\", I have \"\u001b[0m \u001b[0;34m+\u001b[0m \u001b[0mnum\u001b[0m \u001b[0;34m+\u001b[0m \u001b[0;34m\" dogs\"\u001b[0m\u001b[0;34m\u001b[0m\u001b[0m\n\u001b[0m",
      "\u001b[0;31mTypeError\u001b[0m: must be str, not int"
     ]
    }
   ],
   "source": [
    "# 想要把數字跟str合併在一起,會有型態錯誤\n",
    "# 因為int跟str把+號看成不同意思\n",
    "num = 12\n",
    "\"My name is \" + name + \", I program \" + lang + \", I have \" + num + \" dogs\""
   ]
  },
  {
   "cell_type": "code",
   "execution_count": 36,
   "metadata": {},
   "outputs": [
    {
     "data": {
      "text/plain": [
       "'My name is Ian, I program Python, I have 12 dogs'"
      ]
     },
     "execution_count": 36,
     "metadata": {},
     "output_type": "execute_result"
    }
   ],
   "source": [
    "# 用format就沒有這個問題\n",
    "\"My name is {}, I program {}, I have {} dogs\".format(name, lang, num)"
   ]
  },
  {
   "cell_type": "code",
   "execution_count": 39,
   "metadata": {},
   "outputs": [
    {
     "data": {
      "text/plain": [
       "'My name is Ian,\\nI program Python,\\nI have 12 dogs'"
      ]
     },
     "execution_count": 39,
     "metadata": {},
     "output_type": "execute_result"
    }
   ],
   "source": [
    "# format多行\n",
    "\"\"\"My name is {},\n",
    "I program {},\n",
    "I have {} dogs\"\"\".format(name, lang, num)"
   ]
  },
  {
   "cell_type": "code",
   "execution_count": 40,
   "metadata": {},
   "outputs": [
    {
     "data": {
      "text/plain": [
       "'My name is Ian, I program Python, I have 12 dogs'"
      ]
     },
     "execution_count": 40,
     "metadata": {},
     "output_type": "execute_result"
    }
   ],
   "source": [
    "# Code within (), can be multi lined\n",
    "# 在小括號裡面的code, 可以換行\n",
    "\"My name is {}, I program {}, I have {} dogs\".format(name,\n",
    "                                                     lang,\n",
    "                                                     num)"
   ]
  },
  {
   "cell_type": "code",
   "execution_count": 50,
   "metadata": {},
   "outputs": [
    {
     "data": {
      "text/plain": [
       "'My name is Ian, I program Python'"
      ]
     },
     "execution_count": 50,
     "metadata": {},
     "output_type": "execute_result"
    }
   ],
   "source": [
    "# Old way of doing multi line code\n",
    "# 老式的多行code\n",
    "# 缺點： 要管理一堆 \\\n",
    "\"My name is \" + name\\\n",
    "+ \", I program \"\\\n",
    "+ lang"
   ]
  },
  {
   "cell_type": "code",
   "execution_count": 51,
   "metadata": {},
   "outputs": [
    {
     "data": {
      "text/plain": [
       "'My name is Ian, I program Python'"
      ]
     },
     "execution_count": 51,
     "metadata": {},
     "output_type": "execute_result"
    }
   ],
   "source": [
    "# New way, just put them inside ()\n",
    "# 在code兩邊加上()就好, 方便又美觀\n",
    "(\"My name is \" + name\n",
    "+ \", I program \"\n",
    "+ lang)"
   ]
  },
  {
   "cell_type": "code",
   "execution_count": 52,
   "metadata": {},
   "outputs": [
    {
     "data": {
      "text/plain": [
       "'hi'"
      ]
     },
     "execution_count": 52,
     "metadata": {},
     "output_type": "execute_result"
    }
   ],
   "source": [
    "\"hi\""
   ]
  },
  {
   "cell_type": "code",
   "execution_count": 53,
   "metadata": {},
   "outputs": [
    {
     "data": {
      "text/plain": [
       "'HI'"
      ]
     },
     "execution_count": 53,
     "metadata": {},
     "output_type": "execute_result"
    }
   ],
   "source": [
    "\"hi\".upper()"
   ]
  },
  {
   "cell_type": "code",
   "execution_count": 3,
   "metadata": {
    "collapsed": true
   },
   "outputs": [],
   "source": [
    "# 字串(str)也是object, 我們來玩玩str object的methods"
   ]
  },
  {
   "cell_type": "code",
   "execution_count": 5,
   "metadata": {
    "collapsed": true
   },
   "outputs": [],
   "source": [
    "x = \"hi from taiwan\""
   ]
  },
  {
   "cell_type": "code",
   "execution_count": 6,
   "metadata": {},
   "outputs": [
    {
     "data": {
      "text/plain": [
       "'Hi From Taiwan'"
      ]
     },
     "execution_count": 6,
     "metadata": {},
     "output_type": "execute_result"
    }
   ],
   "source": [
    "x.title()"
   ]
  },
  {
   "cell_type": "code",
   "execution_count": 57,
   "metadata": {},
   "outputs": [
    {
     "data": {
      "text/plain": [
       "['hi', 'from', 'taiwan']"
      ]
     },
     "execution_count": 57,
     "metadata": {},
     "output_type": "execute_result"
    }
   ],
   "source": [
    "# 斷開字串, 預設使用空白斷開\n",
    "x = \"hi from taiwan\"\n",
    "x.split()"
   ]
  },
  {
   "cell_type": "code",
   "execution_count": 60,
   "metadata": {},
   "outputs": [
    {
     "data": {
      "text/plain": [
       "['hi', 'from', 'taiwan']"
      ]
     },
     "execution_count": 60,
     "metadata": {},
     "output_type": "execute_result"
    }
   ],
   "source": [
    "# 使用,斷開\n",
    "x = \"hi,from,taiwan\"\n",
    "x.split(\",\")"
   ]
  },
  {
   "cell_type": "code",
   "execution_count": 58,
   "metadata": {},
   "outputs": [
    {
     "data": {
      "text/plain": [
       "'hi from taiwan'"
      ]
     },
     "execution_count": 58,
     "metadata": {},
     "output_type": "execute_result"
    }
   ],
   "source": [
    "# strip可以把兩邊的空白去掉\n",
    "x = \"    hi from taiwan    \"\n",
    "x.strip()"
   ]
  },
  {
   "cell_type": "code",
   "execution_count": 59,
   "metadata": {},
   "outputs": [
    {
     "data": {
      "text/plain": [
       "'name,lang,dogs'"
      ]
     },
     "execution_count": 59,
     "metadata": {},
     "output_type": "execute_result"
    }
   ],
   "source": [
    "# join可以用一個str把list of str合併起來\n",
    "\",\".join([\"name\", \"lang\", \"dogs\"])"
   ]
  },
  {
   "cell_type": "code",
   "execution_count": 61,
   "metadata": {},
   "outputs": [
    {
     "data": {
      "text/plain": [
       "'    hi from japan    '"
      ]
     },
     "execution_count": 61,
     "metadata": {},
     "output_type": "execute_result"
    }
   ],
   "source": [
    "# replace...\n",
    "x = \"    hi from taiwan    \"\n",
    "x.replace(\"taiwan\", \"japan\")"
   ]
  },
  {
   "cell_type": "code",
   "execution_count": 62,
   "metadata": {},
   "outputs": [
    {
     "data": {
      "text/plain": [
       "True"
      ]
     },
     "execution_count": 62,
     "metadata": {},
     "output_type": "execute_result"
    }
   ],
   "source": [
    "# 測試一個字串有沒有在另外一個字串裡,return boolean\n",
    "x = \"    hi from taiwan    \"\n",
    "\"taiwan\" in x"
   ]
  },
  {
   "cell_type": "code",
   "execution_count": 63,
   "metadata": {},
   "outputs": [
    {
     "data": {
      "text/plain": [
       "False"
      ]
     },
     "execution_count": 63,
     "metadata": {},
     "output_type": "execute_result"
    }
   ],
   "source": [
    "x = \"    hi from taiwan    \"\n",
    "\"japan\" in x"
   ]
  },
  {
   "cell_type": "markdown",
   "metadata": {},
   "source": [
    "# Boolean"
   ]
  },
  {
   "cell_type": "code",
   "execution_count": 64,
   "metadata": {},
   "outputs": [
    {
     "data": {
      "text/plain": [
       "False"
      ]
     },
     "execution_count": 64,
     "metadata": {},
     "output_type": "execute_result"
    }
   ],
   "source": [
    "# Boolean\n",
    "True\n",
    "False"
   ]
  },
  {
   "cell_type": "code",
   "execution_count": 65,
   "metadata": {},
   "outputs": [
    {
     "data": {
      "text/plain": [
       "False"
      ]
     },
     "execution_count": 65,
     "metadata": {},
     "output_type": "execute_result"
    }
   ],
   "source": [
    "1 > 2"
   ]
  },
  {
   "cell_type": "code",
   "execution_count": 68,
   "metadata": {},
   "outputs": [
    {
     "data": {
      "text/plain": [
       "True"
      ]
     },
     "execution_count": 68,
     "metadata": {},
     "output_type": "execute_result"
    }
   ],
   "source": [
    "3 <= 10"
   ]
  },
  {
   "cell_type": "markdown",
   "metadata": {
    "collapsed": true
   },
   "source": [
    "# List"
   ]
  },
  {
   "cell_type": "code",
   "execution_count": 20,
   "metadata": {},
   "outputs": [
    {
     "data": {
      "text/plain": [
       "[1, 2, 3]"
      ]
     },
     "execution_count": 20,
     "metadata": {},
     "output_type": "execute_result"
    }
   ],
   "source": [
    "[1,2,3]"
   ]
  },
  {
   "cell_type": "code",
   "execution_count": 21,
   "metadata": {},
   "outputs": [
    {
     "data": {
      "text/plain": [
       "list"
      ]
     },
     "execution_count": 21,
     "metadata": {},
     "output_type": "execute_result"
    }
   ],
   "source": [
    "type([1,2,3])"
   ]
  },
  {
   "cell_type": "code",
   "execution_count": 22,
   "metadata": {
    "collapsed": true
   },
   "outputs": [],
   "source": [
    "num_list = [1,2,3]"
   ]
  },
  {
   "cell_type": "code",
   "execution_count": 23,
   "metadata": {},
   "outputs": [
    {
     "data": {
      "text/plain": [
       "1"
      ]
     },
     "execution_count": 23,
     "metadata": {},
     "output_type": "execute_result"
    }
   ],
   "source": [
    "num_list[0]"
   ]
  },
  {
   "cell_type": "code",
   "execution_count": 24,
   "metadata": {},
   "outputs": [
    {
     "data": {
      "text/plain": [
       "2"
      ]
     },
     "execution_count": 24,
     "metadata": {},
     "output_type": "execute_result"
    }
   ],
   "source": [
    "num_list[1]"
   ]
  },
  {
   "cell_type": "code",
   "execution_count": 25,
   "metadata": {},
   "outputs": [
    {
     "data": {
      "text/plain": [
       "[1, 2]"
      ]
     },
     "execution_count": 25,
     "metadata": {},
     "output_type": "execute_result"
    }
   ],
   "source": [
    "num_list[:2]"
   ]
  },
  {
   "cell_type": "code",
   "execution_count": 26,
   "metadata": {},
   "outputs": [
    {
     "data": {
      "text/plain": [
       "[3]"
      ]
     },
     "execution_count": 26,
     "metadata": {},
     "output_type": "execute_result"
    }
   ],
   "source": [
    "num_list[2:]"
   ]
  },
  {
   "cell_type": "code",
   "execution_count": 27,
   "metadata": {},
   "outputs": [
    {
     "data": {
      "text/plain": [
       "[2]"
      ]
     },
     "execution_count": 27,
     "metadata": {},
     "output_type": "execute_result"
    }
   ],
   "source": [
    "num_list[1:2]"
   ]
  },
  {
   "cell_type": "code",
   "execution_count": 28,
   "metadata": {},
   "outputs": [
    {
     "data": {
      "text/plain": [
       "[2, 4]"
      ]
     },
     "execution_count": 28,
     "metadata": {},
     "output_type": "execute_result"
    }
   ],
   "source": [
    "num_list = [1,2,3,4,5,6,7,8]\n",
    "num_list[1:5:2] # [start:end:step]"
   ]
  },
  {
   "cell_type": "code",
   "execution_count": 29,
   "metadata": {
    "collapsed": true
   },
   "outputs": [],
   "source": [
    "my_long_str = \"hello world\""
   ]
  },
  {
   "cell_type": "code",
   "execution_count": 30,
   "metadata": {},
   "outputs": [
    {
     "data": {
      "text/plain": [
       "'h'"
      ]
     },
     "execution_count": 30,
     "metadata": {},
     "output_type": "execute_result"
    }
   ],
   "source": [
    "my_long_str[0]"
   ]
  },
  {
   "cell_type": "code",
   "execution_count": 31,
   "metadata": {},
   "outputs": [
    {
     "data": {
      "text/plain": [
       "'hello '"
      ]
     },
     "execution_count": 31,
     "metadata": {},
     "output_type": "execute_result"
    }
   ],
   "source": [
    "my_long_str[:6]"
   ]
  },
  {
   "cell_type": "code",
   "execution_count": 32,
   "metadata": {
    "collapsed": true
   },
   "outputs": [],
   "source": [
    "my_list = []"
   ]
  },
  {
   "cell_type": "code",
   "execution_count": 33,
   "metadata": {
    "collapsed": true
   },
   "outputs": [],
   "source": [
    "my_list.append('python')"
   ]
  },
  {
   "cell_type": "code",
   "execution_count": 34,
   "metadata": {},
   "outputs": [
    {
     "data": {
      "text/plain": [
       "['python']"
      ]
     },
     "execution_count": 34,
     "metadata": {},
     "output_type": "execute_result"
    }
   ],
   "source": [
    "my_list"
   ]
  },
  {
   "cell_type": "code",
   "execution_count": 35,
   "metadata": {
    "collapsed": true
   },
   "outputs": [],
   "source": [
    "my_list.append('ruby')"
   ]
  },
  {
   "cell_type": "code",
   "execution_count": 36,
   "metadata": {},
   "outputs": [
    {
     "data": {
      "text/plain": [
       "['python', 'ruby']"
      ]
     },
     "execution_count": 36,
     "metadata": {},
     "output_type": "execute_result"
    }
   ],
   "source": [
    "my_list"
   ]
  },
  {
   "cell_type": "code",
   "execution_count": 37,
   "metadata": {
    "collapsed": true
   },
   "outputs": [],
   "source": [
    "my_list.append('javascript')"
   ]
  },
  {
   "cell_type": "code",
   "execution_count": 38,
   "metadata": {},
   "outputs": [
    {
     "data": {
      "text/plain": [
       "['python', 'ruby', 'javascript']"
      ]
     },
     "execution_count": 38,
     "metadata": {},
     "output_type": "execute_result"
    }
   ],
   "source": [
    "my_list"
   ]
  },
  {
   "cell_type": "code",
   "execution_count": 39,
   "metadata": {},
   "outputs": [
    {
     "data": {
      "text/plain": [
       "'javascript'"
      ]
     },
     "execution_count": 39,
     "metadata": {},
     "output_type": "execute_result"
    }
   ],
   "source": [
    "my_list[-1]"
   ]
  },
  {
   "cell_type": "code",
   "execution_count": 40,
   "metadata": {
    "collapsed": true
   },
   "outputs": [],
   "source": [
    "del my_list[-1]"
   ]
  },
  {
   "cell_type": "code",
   "execution_count": 41,
   "metadata": {},
   "outputs": [
    {
     "data": {
      "text/plain": [
       "['python', 'ruby']"
      ]
     },
     "execution_count": 41,
     "metadata": {},
     "output_type": "execute_result"
    }
   ],
   "source": [
    "my_list"
   ]
  },
  {
   "cell_type": "code",
   "execution_count": 42,
   "metadata": {},
   "outputs": [
    {
     "data": {
      "text/plain": [
       "'ruby'"
      ]
     },
     "execution_count": 42,
     "metadata": {},
     "output_type": "execute_result"
    }
   ],
   "source": [
    "my_list.pop()"
   ]
  },
  {
   "cell_type": "code",
   "execution_count": 43,
   "metadata": {},
   "outputs": [
    {
     "data": {
      "text/plain": [
       "['python']"
      ]
     },
     "execution_count": 43,
     "metadata": {},
     "output_type": "execute_result"
    }
   ],
   "source": [
    "my_list"
   ]
  },
  {
   "cell_type": "code",
   "execution_count": 44,
   "metadata": {
    "collapsed": true
   },
   "outputs": [],
   "source": [
    "my_list = ['python', 'ruby', 'javascript']"
   ]
  },
  {
   "cell_type": "code",
   "execution_count": 45,
   "metadata": {},
   "outputs": [
    {
     "data": {
      "text/plain": [
       "True"
      ]
     },
     "execution_count": 45,
     "metadata": {},
     "output_type": "execute_result"
    }
   ],
   "source": [
    "'python' in my_list"
   ]
  },
  {
   "cell_type": "code",
   "execution_count": 46,
   "metadata": {},
   "outputs": [
    {
     "data": {
      "text/plain": [
       "False"
      ]
     },
     "execution_count": 46,
     "metadata": {},
     "output_type": "execute_result"
    }
   ],
   "source": [
    "'java' in my_list"
   ]
  },
  {
   "cell_type": "code",
   "execution_count": 47,
   "metadata": {},
   "outputs": [
    {
     "data": {
      "text/plain": [
       "11"
      ]
     },
     "execution_count": 47,
     "metadata": {},
     "output_type": "execute_result"
    }
   ],
   "source": [
    "len(my_long_str)"
   ]
  },
  {
   "cell_type": "code",
   "execution_count": 48,
   "metadata": {
    "scrolled": true
   },
   "outputs": [
    {
     "data": {
      "text/plain": [
       "3"
      ]
     },
     "execution_count": 48,
     "metadata": {},
     "output_type": "execute_result"
    }
   ],
   "source": [
    "len(my_list)"
   ]
  },
  {
   "cell_type": "code",
   "execution_count": 49,
   "metadata": {},
   "outputs": [
    {
     "data": {
      "text/plain": [
       "['python', 'ruby', 'javascript', 'java']"
      ]
     },
     "execution_count": 49,
     "metadata": {},
     "output_type": "execute_result"
    }
   ],
   "source": [
    "your_list = ['java']\n",
    "my_list + your_list"
   ]
  },
  {
   "cell_type": "code",
   "execution_count": 50,
   "metadata": {
    "collapsed": true
   },
   "outputs": [],
   "source": [
    "my_list.extend(your_list)"
   ]
  },
  {
   "cell_type": "code",
   "execution_count": 51,
   "metadata": {},
   "outputs": [
    {
     "data": {
      "text/plain": [
       "['python', 'ruby', 'javascript', 'java']"
      ]
     },
     "execution_count": 51,
     "metadata": {},
     "output_type": "execute_result"
    }
   ],
   "source": [
    "my_list"
   ]
  },
  {
   "cell_type": "code",
   "execution_count": 53,
   "metadata": {
    "collapsed": true
   },
   "outputs": [],
   "source": [
    "# mutable    -> list.append(), list.extend(), del list[1] ....etc 會改變list這個變數的值\n",
    "# immutable -> list1 + list2  計算的結果會被return, 沒有值會被改變"
   ]
  },
  {
   "cell_type": "markdown",
   "metadata": {},
   "source": [
    "# Dictionary (key - value)"
   ]
  },
  {
   "cell_type": "code",
   "execution_count": 61,
   "metadata": {
    "collapsed": true
   },
   "outputs": [],
   "source": [
    "mydict = {\"fist_name\": \"Ian\",\n",
    "         \"last_name\": \"Chen\",\n",
    "         \"email\": \"ianchen06@gmail.com\",\n",
    "         \"website\": \"https://ianchenhq.com\",\n",
    "         \"num_dogs\": 12,\n",
    "         \"langs\": ['python', 'ruby', 'javascript']}"
   ]
  },
  {
   "cell_type": "code",
   "execution_count": 77,
   "metadata": {
    "collapsed": true
   },
   "outputs": [],
   "source": [
    "# 查詢 dictionary"
   ]
  },
  {
   "cell_type": "code",
   "execution_count": 62,
   "metadata": {},
   "outputs": [
    {
     "data": {
      "text/plain": [
       "'Ian'"
      ]
     },
     "execution_count": 62,
     "metadata": {},
     "output_type": "execute_result"
    }
   ],
   "source": [
    "mydict['fist_name']"
   ]
  },
  {
   "cell_type": "code",
   "execution_count": 63,
   "metadata": {},
   "outputs": [
    {
     "data": {
      "text/plain": [
       "'Chen'"
      ]
     },
     "execution_count": 63,
     "metadata": {},
     "output_type": "execute_result"
    }
   ],
   "source": [
    "mydict['last_name']"
   ]
  },
  {
   "cell_type": "code",
   "execution_count": 64,
   "metadata": {},
   "outputs": [
    {
     "data": {
      "text/plain": [
       "'ianchen06@gmail.com'"
      ]
     },
     "execution_count": 64,
     "metadata": {},
     "output_type": "execute_result"
    }
   ],
   "source": [
    "mydict['email']"
   ]
  },
  {
   "cell_type": "code",
   "execution_count": 60,
   "metadata": {},
   "outputs": [
    {
     "data": {
      "text/plain": [
       "12"
      ]
     },
     "execution_count": 60,
     "metadata": {},
     "output_type": "execute_result"
    }
   ],
   "source": [
    "mydict['num_dogs']"
   ]
  },
  {
   "cell_type": "code",
   "execution_count": 65,
   "metadata": {},
   "outputs": [
    {
     "data": {
      "text/plain": [
       "['python', 'ruby', 'javascript']"
      ]
     },
     "execution_count": 65,
     "metadata": {},
     "output_type": "execute_result"
    }
   ],
   "source": [
    "mydict['langs']"
   ]
  },
  {
   "cell_type": "code",
   "execution_count": 66,
   "metadata": {
    "collapsed": true
   },
   "outputs": [],
   "source": [
    "# 新增一個key value pair\n",
    "mydict['address'] = 'Taipei'"
   ]
  },
  {
   "cell_type": "code",
   "execution_count": 67,
   "metadata": {},
   "outputs": [
    {
     "data": {
      "text/plain": [
       "{'address': 'Taipei',\n",
       " 'email': 'ianchen06@gmail.com',\n",
       " 'fist_name': 'Ian',\n",
       " 'langs': ['python', 'ruby', 'javascript'],\n",
       " 'last_name': 'Chen',\n",
       " 'num_dogs': 12,\n",
       " 'website': 'https://ianchenhq.com'}"
      ]
     },
     "execution_count": 67,
     "metadata": {},
     "output_type": "execute_result"
    }
   ],
   "source": [
    "mydict"
   ]
  },
  {
   "cell_type": "code",
   "execution_count": 78,
   "metadata": {
    "collapsed": true
   },
   "outputs": [],
   "source": [
    "# 修改現有key value pair\n",
    "mydict['num_dogs'] = 3"
   ]
  },
  {
   "cell_type": "code",
   "execution_count": 69,
   "metadata": {},
   "outputs": [
    {
     "data": {
      "text/plain": [
       "{'address': 'Taipei',\n",
       " 'email': 'ianchen06@gmail.com',\n",
       " 'fist_name': 'Ian',\n",
       " 'langs': ['python', 'ruby', 'javascript'],\n",
       " 'last_name': 'Chen',\n",
       " 'num_dogs': 3,\n",
       " 'website': 'https://ianchenhq.com'}"
      ]
     },
     "execution_count": 69,
     "metadata": {},
     "output_type": "execute_result"
    }
   ],
   "source": [
    "mydict"
   ]
  },
  {
   "cell_type": "code",
   "execution_count": 70,
   "metadata": {
    "collapsed": true
   },
   "outputs": [],
   "source": [
    "# 刪除一筆key value pair\n",
    "del mydict['num_dogs']"
   ]
  },
  {
   "cell_type": "code",
   "execution_count": 71,
   "metadata": {},
   "outputs": [
    {
     "data": {
      "text/plain": [
       "{'address': 'Taipei',\n",
       " 'email': 'ianchen06@gmail.com',\n",
       " 'fist_name': 'Ian',\n",
       " 'langs': ['python', 'ruby', 'javascript'],\n",
       " 'last_name': 'Chen',\n",
       " 'website': 'https://ianchenhq.com'}"
      ]
     },
     "execution_count": 71,
     "metadata": {},
     "output_type": "execute_result"
    }
   ],
   "source": [
    "mydict"
   ]
  },
  {
   "cell_type": "code",
   "execution_count": 72,
   "metadata": {},
   "outputs": [
    {
     "ename": "KeyError",
     "evalue": "'cars'",
     "output_type": "error",
     "traceback": [
      "\u001b[0;31m---------------------------------------------------------------------------\u001b[0m",
      "\u001b[0;31mKeyError\u001b[0m                                  Traceback (most recent call last)",
      "\u001b[0;32m<ipython-input-72-e7cc0103306a>\u001b[0m in \u001b[0;36m<module>\u001b[0;34m()\u001b[0m\n\u001b[0;32m----> 1\u001b[0;31m \u001b[0mmydict\u001b[0m\u001b[0;34m[\u001b[0m\u001b[0;34m'cars'\u001b[0m\u001b[0;34m]\u001b[0m\u001b[0;34m\u001b[0m\u001b[0m\n\u001b[0m",
      "\u001b[0;31mKeyError\u001b[0m: 'cars'"
     ]
    }
   ],
   "source": [
    "# 當我們query一個不存在的key的時候,會有錯誤\n",
    "mydict['cars']"
   ]
  },
  {
   "cell_type": "code",
   "execution_count": 76,
   "metadata": {},
   "outputs": [
    {
     "data": {
      "text/plain": [
       "False"
      ]
     },
     "execution_count": 76,
     "metadata": {},
     "output_type": "execute_result"
    }
   ],
   "source": [
    "# 可以用in來查詢一個key是否存在於dict當中\n",
    "'cars' in mydict"
   ]
  },
  {
   "cell_type": "code",
   "execution_count": 73,
   "metadata": {
    "collapsed": true
   },
   "outputs": [],
   "source": [
    "# 更好的query方法, 用get() method\n",
    "# 如果沒有這個key, return None\n",
    "mydict.get('cars')"
   ]
  },
  {
   "cell_type": "code",
   "execution_count": 75,
   "metadata": {},
   "outputs": [
    {
     "data": {
      "text/plain": [
       "'no car'"
      ]
     },
     "execution_count": 75,
     "metadata": {},
     "output_type": "execute_result"
    }
   ],
   "source": [
    "# 或者可以給它預設值, no car\n",
    "mydict.get('cars', 'no car')"
   ]
  },
  {
   "cell_type": "code",
   "execution_count": 79,
   "metadata": {},
   "outputs": [
    {
     "data": {
      "text/plain": [
       "'Taipei'"
      ]
     },
     "execution_count": 79,
     "metadata": {},
     "output_type": "execute_result"
    }
   ],
   "source": [
    "mydict.get('address')"
   ]
  },
  {
   "cell_type": "markdown",
   "metadata": {},
   "source": [
    "# Control Flow and Iterables"
   ]
  },
  {
   "cell_type": "code",
   "execution_count": null,
   "metadata": {
    "collapsed": true
   },
   "outputs": [],
   "source": [
    "# Iterable"
   ]
  },
  {
   "cell_type": "code",
   "execution_count": 80,
   "metadata": {
    "collapsed": true
   },
   "outputs": [],
   "source": [
    "langs = ['python', 'ruby', 'javascript']"
   ]
  },
  {
   "cell_type": "code",
   "execution_count": 81,
   "metadata": {},
   "outputs": [
    {
     "name": "stdout",
     "output_type": "stream",
     "text": [
      "I can program python\n",
      "I can program ruby\n",
      "I can program javascript\n"
     ]
    }
   ],
   "source": [
    "for lang in langs:\n",
    "    print(\"I can program {}\".format(lang))"
   ]
  },
  {
   "cell_type": "code",
   "execution_count": 83,
   "metadata": {},
   "outputs": [
    {
     "name": "stdout",
     "output_type": "stream",
     "text": [
      "cat is an animal\n",
      "dog is an animal\n",
      "bird is an animal\n"
     ]
    }
   ],
   "source": [
    "for animal in ['cat', 'dog', 'bird']:\n",
    "    print(\"{} is an animal\".format(animal))"
   ]
  },
  {
   "cell_type": "code",
   "execution_count": 85,
   "metadata": {},
   "outputs": [
    {
     "name": "stdout",
     "output_type": "stream",
     "text": [
      "x is 0\n",
      "x is 1\n",
      "x is 2\n",
      "x is 3\n"
     ]
    }
   ],
   "source": [
    "x = 0\n",
    "while x < 4:\n",
    "    print(\"x is {}\".format(x))\n",
    "    x += 1 # 等於x++ or x = x + 1"
   ]
  },
  {
   "cell_type": "code",
   "execution_count": 97,
   "metadata": {},
   "outputs": [
    {
     "name": "stdout",
     "output_type": "stream",
     "text": [
      "0\n",
      "1\n",
      "2\n",
      "3\n",
      "4\n",
      "5\n",
      "6\n",
      "7\n",
      "8\n",
      "9\n"
     ]
    }
   ],
   "source": [
    "for i in range(10):\n",
    "    print(i)"
   ]
  },
  {
   "cell_type": "code",
   "execution_count": 99,
   "metadata": {},
   "outputs": [
    {
     "name": "stdout",
     "output_type": "stream",
     "text": [
      "1\n",
      "2\n",
      "3\n",
      "4\n",
      "5\n",
      "6\n",
      "7\n",
      "8\n",
      "9\n",
      "10\n"
     ]
    }
   ],
   "source": [
    "for i in range(1,11):\n",
    "    print(i)"
   ]
  },
  {
   "cell_type": "code",
   "execution_count": 103,
   "metadata": {},
   "outputs": [
    {
     "name": "stdout",
     "output_type": "stream",
     "text": [
      "10\n",
      "9\n",
      "8\n",
      "7\n",
      "6\n",
      "5\n",
      "4\n",
      "3\n",
      "2\n",
      "1\n"
     ]
    }
   ],
   "source": [
    "for i in range(10,0,-1):\n",
    "    print(i)"
   ]
  },
  {
   "cell_type": "code",
   "execution_count": null,
   "metadata": {
    "collapsed": true
   },
   "outputs": [],
   "source": [
    "# if-else"
   ]
  },
  {
   "cell_type": "code",
   "execution_count": 86,
   "metadata": {},
   "outputs": [
    {
     "name": "stdout",
     "output_type": "stream",
     "text": [
      "knows Python!\n"
     ]
    }
   ],
   "source": [
    "if 'python' in langs:\n",
    "    print(\"knows Python!\")"
   ]
  },
  {
   "cell_type": "code",
   "execution_count": 89,
   "metadata": {
    "collapsed": true
   },
   "outputs": [],
   "source": [
    "if 'janapese' in langs:\n",
    "    print(\"knows Japanese!\")"
   ]
  },
  {
   "cell_type": "code",
   "execution_count": 92,
   "metadata": {},
   "outputs": [
    {
     "name": "stdout",
     "output_type": "stream",
     "text": [
      "does not know Python :(\n"
     ]
    }
   ],
   "source": [
    "langs = ['ruby']\n",
    "if 'python' in langs:\n",
    "    print(\"knows Python!\")\n",
    "else:\n",
    "    print(\"does not know Python :(\")"
   ]
  },
  {
   "cell_type": "code",
   "execution_count": 95,
   "metadata": {},
   "outputs": [
    {
     "name": "stdout",
     "output_type": "stream",
     "text": [
      "programming starter\n"
     ]
    }
   ],
   "source": [
    "langs = ['python', 'ruby', 'javascript']\n",
    "if len(langs) > 3:\n",
    "    print(\"programming ninja\")\n",
    "elif len(langs) > 1 :\n",
    "    print(\"programming starter\")\n",
    "else:\n",
    "    print(\"muggle\")"
   ]
  },
  {
   "cell_type": "code",
   "execution_count": 108,
   "metadata": {
    "collapsed": true
   },
   "outputs": [],
   "source": [
    "header_str = \"\"\"Accept:text/html,application/xhtml+xml,application/xml;q=0.9,image/webp,*/*;q=0.8\n",
    "Accept-Encoding:gzip, deflate, sdch\n",
    "Accept-Language:en-US,en;q=0.8\n",
    "Connection:keep-alive\n",
    "Cookie:__asc=f9bad91c15b8a117b57e7112b10; __auc=f9bad91c15b8a117b57e7112b10; _ga=GA1.3.1354850009.1492670053; _gat=1; __gads=ID=173de187635fb21b:T=1492670053:S=ALNI_MaLUOXI06p68JrJhvo0dgEI3XLUaA\n",
    "Host:news.cts.com.tw\n",
    "Referer:http://www.cts.com.tw/\n",
    "Upgrade-Insecure-Requests:1\n",
    "User-Agent:Mozilla/5.0 (X11; Linux x86_64) AppleWebKit/537.36 (KHTML, like Gecko) Chrome/57.0.2987.133 Safari/537.36\"\"\"\n",
    "\n",
    "# 寫一個程式, 把上面的header_str傳換成下面的header_dict結構\n",
    "# 提示: str object的methods好用, konw your dictionary\n",
    "# header_dict = {\"Accept\": \"text/html,application/xhtml+xml,application/xml;q=0.9,image/webp,*/*;q=0.8\",\n",
    "#                \"Accept-Encoding\": \"gzip, deflate, sdch\",\n",
    "#                                 ...\n",
    "#               }"
   ]
  },
  {
   "cell_type": "code",
   "execution_count": 109,
   "metadata": {},
   "outputs": [
    {
     "data": {
      "text/plain": [
       "\"'Accept:text/html,application/xhtml+xml,application/xml;q=0.9,image/webp,*/*;q=0.8\\\\nAccept-Encoding:gzip, deflate, sdch\\\\nAccept-Language:en-US,en;q=0.8\\\\nConnection:keep-alive\\\\nCookie:__asc=f9bad91c15b8a117b57e7112b10; __auc=f9bad91c15b8a117b57e7112b10; _ga=GA1.3.1354850009.1492670053; _gat=1; __gads=ID=173de187635fb21b:T=1492670053:S=ALNI_MaLUOXI06p68JrJhvo0dgEI3XLUaA\\\\nHost:news.cts.com.tw\\\\nReferer:http://www.cts.com.tw/\\\\nUpgrade-Insecure-Requests:1\\\\nUser-Agent:Mozilla/5.0 (X11; Linux x86_64) AppleWebKit/537.36 (KHTML, like Gecko) Chrome/57.0.2987.133 Safari/537.36'\""
      ]
     },
     "execution_count": 109,
     "metadata": {},
     "output_type": "execute_result"
    }
   ],
   "source": [
    "# repr -> object representation, 用python的眼睛看變數\n",
    "# 這是在python的眼裡看到的header_str\n",
    "repr(header_str)"
   ]
  },
  {
   "cell_type": "code",
   "execution_count": 133,
   "metadata": {},
   "outputs": [
    {
     "data": {
      "text/plain": [
       "['Accept:text/html,application/xhtml+xml,application/xml;q=0.9,image/webp,*/*;q=0.8',\n",
       " 'Accept-Encoding:gzip, deflate, sdch',\n",
       " 'Accept-Language:en-US,en;q=0.8',\n",
       " 'Connection:keep-alive',\n",
       " 'Cookie:__asc=f9bad91c15b8a117b57e7112b10; __auc=f9bad91c15b8a117b57e7112b10; _ga=GA1.3.1354850009.1492670053; _gat=1; __gads=ID=173de187635fb21b:T=1492670053:S=ALNI_MaLUOXI06p68JrJhvo0dgEI3XLUaA',\n",
       " 'Host:news.cts.com.tw',\n",
       " 'Referer:http://www.cts.com.tw/',\n",
       " 'Upgrade-Insecure-Requests:1',\n",
       " 'User-Agent:Mozilla/5.0 (X11; Linux x86_64) AppleWebKit/537.36 (KHTML, like Gecko) Chrome/57.0.2987.133 Safari/537.36']"
      ]
     },
     "execution_count": 133,
     "metadata": {},
     "output_type": "execute_result"
    }
   ],
   "source": [
    "# 用換行符號\\n來split, 得到一個list,\n",
    "# 每一個list裡面的element, 就是一行\n",
    "rows = header_str.split(\"\\n\")\n",
    "rows"
   ]
  },
  {
   "cell_type": "code",
   "execution_count": 137,
   "metadata": {},
   "outputs": [
    {
     "data": {
      "text/plain": [
       "{'Accept': 'text/html,application/xhtml+xml,application/xml;q=0.9,image/webp,*/*;q=0.8',\n",
       " 'Accept-Encoding': 'gzip, deflate, sdch',\n",
       " 'Accept-Language': 'en-US,en;q=0.8',\n",
       " 'Connection': 'keep-alive',\n",
       " 'Cookie': '__asc=f9bad91c15b8a117b57e7112b10; __auc=f9bad91c15b8a117b57e7112b10; _ga=GA1.3.1354850009.1492670053; _gat=1; __gads=ID=173de187635fb21b:T=1492670053:S=ALNI_MaLUOXI06p68JrJhvo0dgEI3XLUaA',\n",
       " 'Host': 'news.cts.com.tw',\n",
       " 'Referer': 'http://www.cts.com.tw/',\n",
       " 'Upgrade-Insecure-Requests': '1',\n",
       " 'User-Agent': 'Mozilla/5.0 (X11; Linux x86_64) AppleWebKit/537.36 (KHTML, like Gecko) Chrome/57.0.2987.133 Safari/537.36'}"
      ]
     },
     "execution_count": 137,
     "metadata": {},
     "output_type": "execute_result"
    }
   ],
   "source": [
    "header_dict = {}\n",
    "for row in rows:\n",
    "    kv_list = row.split(\":\") # 把每一行用: split()開\n",
    "    \n",
    "    # kv_list = ['key1', 'https', '//ianchenhq.com']\n",
    "    key = kv_list[0] \n",
    "    val = ':'.join(kv_list[1:]) # 再用:把1到結尾的element重新組合起來 -> https://ianchenhq.com\n",
    "    header_dict[key] = val\n",
    "header_dict"
   ]
  },
  {
   "cell_type": "markdown",
   "metadata": {},
   "source": [
    "# Functions"
   ]
  },
  {
   "cell_type": "code",
   "execution_count": 139,
   "metadata": {
    "collapsed": true
   },
   "outputs": [],
   "source": [
    "def add(x,y):\n",
    "    return x + y"
   ]
  },
  {
   "cell_type": "code",
   "execution_count": 140,
   "metadata": {},
   "outputs": [
    {
     "data": {
      "text/plain": [
       "5"
      ]
     },
     "execution_count": 140,
     "metadata": {},
     "output_type": "execute_result"
    }
   ],
   "source": [
    "add(2,3)"
   ]
  },
  {
   "cell_type": "code",
   "execution_count": 152,
   "metadata": {
    "collapsed": true
   },
   "outputs": [],
   "source": [
    "def gen_header(header_str):\n",
    "    \"\"\"This function generates a header_dict from Chrome dev tool for requests library\n",
    "    \n",
    "    :param header_str: The header string copied from Chrome developer tool.\n",
    "    :type header_str: str\n",
    "    :returns: header dictionary\n",
    "    \"\"\"\n",
    "    header_dict = {}\n",
    "    rows = header_str.split(\"\\n\")\n",
    "    for row in rows:\n",
    "        kv_list = row.split(\":\") # 把每一行用: split()開\n",
    "\n",
    "        # kv_list = ['key1', 'https', '//ianchenhq.com']\n",
    "        key = kv_list[0] \n",
    "        val = ':'.join(kv_list[1:]) # 再用:把1到結尾的element重新組合起來 -> https://ianchenhq.com\n",
    "        header_dict[key] = val\n",
    "    return header_dict"
   ]
  },
  {
   "cell_type": "code",
   "execution_count": 153,
   "metadata": {
    "collapsed": true
   },
   "outputs": [],
   "source": [
    "header_str = \"\"\"Accept:text/html,application/xhtml+xml,application/xml;q=0.9,image/webp,*/*;q=0.8\n",
    "Accept-Encoding:gzip, deflate, sdch\n",
    "Accept-Language:en-US,en;q=0.8\n",
    "Cache-Control:max-age=0\n",
    "Connection:keep-alive\n",
    "Cookie:__gads=ID=173de187635fb21b:T=1492670053:S=ALNI_MaLUOXI06p68JrJhvo0dgEI3XLUaA; _ga=GA1.3.1354850009.1492670053; __asc=861b1b4815b8a3b62f5d3884c74; __auc=f9bad91c15b8a117b57e7112b10\n",
    "Host:news.cts.com.tw\n",
    "If-Modified-Since:Thu, 20 Apr 2017 07:50:03 GMT\n",
    "If-None-Match:W/\"339260852\"\n",
    "Referer:http://news.cts.com.tw/real/\n",
    "Upgrade-Insecure-Requests:1\n",
    "User-Agent:Mozilla/5.0 (X11; Linux x86_64) AppleWebKit/537.36 (KHTML, like Gecko) Chrome/57.0.2987.133 Safari/537.36\"\"\""
   ]
  },
  {
   "cell_type": "code",
   "execution_count": 154,
   "metadata": {
    "collapsed": true
   },
   "outputs": [],
   "source": [
    "header_dict = gen_header(header_str)"
   ]
  },
  {
   "cell_type": "markdown",
   "metadata": {},
   "source": [
    "# Modules"
   ]
  },
  {
   "cell_type": "code",
   "execution_count": 155,
   "metadata": {},
   "outputs": [
    {
     "data": {
      "text/plain": [
       "<Response [200]>"
      ]
     },
     "execution_count": 155,
     "metadata": {},
     "output_type": "execute_result"
    }
   ],
   "source": [
    "import requests\n",
    "requests.get(\"http://news.cts.com.tw/real/\", headers=header_dict)"
   ]
  },
  {
   "cell_type": "code",
   "execution_count": 150,
   "metadata": {
    "collapsed": true
   },
   "outputs": [],
   "source": [
    "from toolbox import gen_header"
   ]
  },
  {
   "cell_type": "code",
   "execution_count": 163,
   "metadata": {},
   "outputs": [
    {
     "data": {
      "text/plain": [
       "<function __main__.gen_header>"
      ]
     },
     "execution_count": 163,
     "metadata": {},
     "output_type": "execute_result"
    }
   ],
   "source": [
    "gen_header"
   ]
  },
  {
   "cell_type": "code",
   "execution_count": 156,
   "metadata": {
    "collapsed": true
   },
   "outputs": [],
   "source": [
    "import toolbox"
   ]
  },
  {
   "cell_type": "code",
   "execution_count": 164,
   "metadata": {},
   "outputs": [
    {
     "data": {
      "text/plain": [
       "<function toolbox.gen_header>"
      ]
     },
     "execution_count": 164,
     "metadata": {},
     "output_type": "execute_result"
    }
   ],
   "source": [
    "toolbox.gen_header"
   ]
  },
  {
   "cell_type": "code",
   "execution_count": 158,
   "metadata": {
    "collapsed": true
   },
   "outputs": [],
   "source": [
    "import toolbox as tb"
   ]
  },
  {
   "cell_type": "code",
   "execution_count": 165,
   "metadata": {},
   "outputs": [
    {
     "data": {
      "text/plain": [
       "<function toolbox.gen_header>"
      ]
     },
     "execution_count": 165,
     "metadata": {},
     "output_type": "execute_result"
    }
   ],
   "source": [
    "tb.gen_header"
   ]
  },
  {
   "cell_type": "code",
   "execution_count": 175,
   "metadata": {
    "collapsed": true
   },
   "outputs": [],
   "source": [
    "# bad, use only if you know what you're doing\n",
    "from toolbox import *"
   ]
  },
  {
   "cell_type": "markdown",
   "metadata": {},
   "source": [
    "# Misc"
   ]
  },
  {
   "cell_type": "code",
   "execution_count": 174,
   "metadata": {
    "collapsed": true
   },
   "outputs": [],
   "source": [
    "# list comprehension"
   ]
  },
  {
   "cell_type": "code",
   "execution_count": 166,
   "metadata": {
    "collapsed": true
   },
   "outputs": [],
   "source": [
    "langs = ['python', 'ruby', 'java']\n",
    "cap_langs = []\n",
    "for lang in langs:\n",
    "    cap_langs.append(lang.title())"
   ]
  },
  {
   "cell_type": "code",
   "execution_count": 167,
   "metadata": {},
   "outputs": [
    {
     "data": {
      "text/plain": [
       "['Python', 'Ruby', 'Java']"
      ]
     },
     "execution_count": 167,
     "metadata": {},
     "output_type": "execute_result"
    }
   ],
   "source": [
    "cap_langs"
   ]
  },
  {
   "cell_type": "code",
   "execution_count": 168,
   "metadata": {
    "collapsed": true
   },
   "outputs": [],
   "source": [
    "cap_langs = [lang.title() for lang in langs]"
   ]
  },
  {
   "cell_type": "code",
   "execution_count": 169,
   "metadata": {},
   "outputs": [
    {
     "data": {
      "text/plain": [
       "['Python', 'Ruby', 'Java']"
      ]
     },
     "execution_count": 169,
     "metadata": {},
     "output_type": "execute_result"
    }
   ],
   "source": [
    "cap_langs"
   ]
  },
  {
   "cell_type": "code",
   "execution_count": 170,
   "metadata": {
    "collapsed": true
   },
   "outputs": [],
   "source": [
    "cool_langs = [lang.title() for lang in langs if lang == 'python']"
   ]
  },
  {
   "cell_type": "code",
   "execution_count": 171,
   "metadata": {},
   "outputs": [
    {
     "data": {
      "text/plain": [
       "['Python']"
      ]
     },
     "execution_count": 171,
     "metadata": {},
     "output_type": "execute_result"
    }
   ],
   "source": [
    "cool_langs"
   ]
  },
  {
   "cell_type": "code",
   "execution_count": 172,
   "metadata": {
    "collapsed": true
   },
   "outputs": [],
   "source": [
    "uncool_langs = [lang.title() for lang in langs if lang != 'python']"
   ]
  },
  {
   "cell_type": "code",
   "execution_count": 173,
   "metadata": {},
   "outputs": [
    {
     "data": {
      "text/plain": [
       "['Ruby', 'Java']"
      ]
     },
     "execution_count": 173,
     "metadata": {},
     "output_type": "execute_result"
    }
   ],
   "source": [
    "uncool_langs"
   ]
  },
  {
   "cell_type": "markdown",
   "metadata": {},
   "source": [
    "# Practice"
   ]
  },
  {
   "cell_type": "code",
   "execution_count": 176,
   "metadata": {
    "collapsed": true
   },
   "outputs": [],
   "source": [
    "# Do a word count on Donald Tumps speech\n",
    "# List the top 10 most used words"
   ]
  },
  {
   "cell_type": "code",
   "execution_count": 1,
   "metadata": {
    "collapsed": true
   },
   "outputs": [],
   "source": [
    "trump_speech = \"\"\" Chief Justice Roberts, President Carter, President Clinton, President Bush, President Obama, fellow Americans, and people of the world: thank you.\n",
    "\n",
    "We, the citizens of America, are now joined in a great national effort to rebuild our country and to restore its promise for all of our people.\n",
    "\n",
    "Together, we will determine the course of America and the world for years to come.\n",
    "\n",
    "We will face challenges. We will confront hardships. But we will get the job done.\n",
    "\n",
    "Every four years, we gather on these steps to carry out the orderly and peaceful transfer of power, and we are grateful to President Obama and First Lady Michelle Obama for their gracious aid throughout this transition. They have been magnificent.\n",
    "\n",
    "Today’s ceremony, however, has very special meaning. Because today we are not merely transferring power from one Administration to another, or from one party to another – but we are transferring power from Washington, D.C. and giving it back to you, the American People.\n",
    "\n",
    "For too long, a small group in our nation’s Capital has reaped the rewards of government while the people have borne the cost.\n",
    "\n",
    "Washington flourished – but the people did not share in its wealth.\n",
    "\n",
    "Politicians prospered – but the jobs left, and the factories closed.\n",
    "\n",
    "The establishment protected itself, but not the citizens of our country.\n",
    "\n",
    "Their victories have not been your victories; their triumphs have not been your triumphs; and while they celebrated in our nation’s Capital, there was little to celebrate for struggling families all across our land.\n",
    "\n",
    "That all changes – starting right here, and right now, because this moment is your moment: it belongs to you.\n",
    "\n",
    "It belongs to everyone gathered here today and everyone watching all across America. \n",
    "\n",
    "This is your day. This is your celebration.\n",
    "\n",
    "And this, the United States of America, is your country.\n",
    "\n",
    "What truly matters is not which party controls our government, but whether our government is controlled by the people.\n",
    "\n",
    "January 20th 2017, will be remembered as the day the people became the rulers of this nation again. \n",
    "\n",
    "The forgotten men and women of our country will be forgotten no longer.\n",
    "\n",
    "Everyone is listening to you now.\n",
    "\n",
    "You came by the tens of millions to become part of a historic movement the likes of which the world has never seen before.\n",
    "\n",
    "At the center of this movement is a crucial conviction: that a nation exists to serve its citizens.\n",
    "\n",
    "Americans want great schools for their children, safe neighborhoods for their families, and good jobs for themselves.\n",
    "\n",
    "These are the just and reasonable demands of a righteous public.\n",
    "\n",
    "But for too many of our citizens, a different reality exists: Mothers and children trapped in poverty in our inner cities; rusted-out factories scattered like tombstones across the landscape of our nation; an education system, flush with cash, but which leaves our young and beautiful students deprived of knowledge; and the crime and gangs and drugs that have stolen too many lives and robbed our country of so much unrealized potential.\n",
    "\n",
    "This American carnage stops right here and stops right now.\n",
    "\n",
    "We are one nation – and their pain is our pain.  Their dreams are our dreams; and their success will be our success.  We share one heart, one home, and one glorious destiny.\n",
    "\n",
    "The oath of office I take today is an oath of allegiance to all Americans.\n",
    "\n",
    "For many decades, we’ve enriched foreign industry at the expense of American industry;\n",
    "\n",
    "Subsidized the armies of other countries while allowing for the very sad depletion of our military;\n",
    "\n",
    "We've defended other nation’s borders while refusing to defend our own;\n",
    "\n",
    "And spent trillions of dollars overseas while America's infrastructure has fallen into disrepair and decay.\n",
    "\n",
    "We’ve made other countries rich while the wealth, strength, and confidence of our country has disappeared over the horizon.\n",
    "\n",
    "One by one, the factories shuttered and left our shores, with not even a thought about the millions upon millions of American workers left behind.\n",
    "\n",
    "The wealth of our middle class has been ripped from their homes and then redistributed across the entire world.\n",
    "\n",
    "But that is the past. And now we are looking only to the future.\n",
    "\n",
    "We assembled here today are issuing a new decree to be heard in every city, in every foreign capital, and in every hall of power.\n",
    "\n",
    "From this day forward, a new vision will govern our land.\n",
    "\n",
    "From this moment on, it’s going to be America First.\n",
    "\n",
    "Every decision on trade, on taxes, on immigration, on foreign affairs, will be made to benefit American workers and American families.\n",
    "\n",
    "We must protect our borders from the ravages of other countries making our products, stealing our companies, and destroying our jobs.  Protection will lead to great prosperity and strength.\n",
    "\n",
    "I will fight for you with every breath in my body – and I will never, ever let you down.\n",
    "\n",
    "America will start winning again, winning like never before.\n",
    "\n",
    "We will bring back our jobs. We will bring back our borders.  We will bring back our wealth.  And we will bring back our dreams.\n",
    "\n",
    "We will build new roads, and highways, and bridges, and airports, and tunnels, and railways all across our wonderful nation.\n",
    "\n",
    "We will get our people off of welfare and back to work – rebuilding our country with American hands and American labor.\n",
    "\n",
    "We will follow two simple rules: Buy American and Hire American.\n",
    "\n",
    "We will seek friendship and goodwill with the nations of the world – but we do so with the understanding that it is the right of all nations to put their own interests first.\n",
    "\n",
    "We do not seek to impose our way of life on anyone, but rather to let it shine as an example for everyone to follow.\n",
    "\n",
    "We will reinforce old alliances and form new ones – and unite the civilized world against Radical Islamic Terrorism, which we will eradicate completely from the face of the Earth.\n",
    "\n",
    "At the bedrock of our politics will be a total allegiance to the United States of America, and through our loyalty to our country, we will rediscover our loyalty to each other.\n",
    "\n",
    "When you open your heart to patriotism, there is no room for prejudice.\n",
    "\n",
    "The Bible tells us, “how good and pleasant it is when God’s people live together in unity.”\n",
    "\n",
    "We must speak our minds openly, debate our disagreements honestly, but always pursue solidarity.\n",
    "\n",
    "When America is united, America is totally unstoppable.\n",
    "\n",
    "There should be no fear – we are protected, and we will always be protected.\n",
    "\n",
    "We will be protected by the great men and women of our military and law enforcement and, most importantly, we are protected by God.\n",
    "\n",
    "Finally, we must think big and dream even bigger.\n",
    "\n",
    "In America, we understand that a nation is only living as long as it is striving.\n",
    "\n",
    "We will no longer accept politicians who are all talk and no action – constantly complaining but never doing anything about it.\n",
    "\n",
    "The time for empty talk is over.\n",
    "\n",
    "Now arrives the hour of action.\n",
    "\n",
    "Do not let anyone tell you it cannot be done.  No challenge can match the heart and fight and spirit of America.\n",
    "\n",
    "We will not fail. Our country will thrive and prosper again.\n",
    "\n",
    "We stand at the birth of a new millennium, ready to unlock the mysteries of space, to free the Earth from the miseries of disease, and to harness the energies, industries and technologies of tomorrow.\n",
    "\n",
    "A new national pride will stir our souls, lift our sights, and heal our divisions.\n",
    "\n",
    "It is time to remember that old wisdom our soldiers will never forget: that whether we are black or brown or white, we all bleed the same red blood of patriots, we all enjoy the same glorious freedoms, and we all salute the same great American Flag.\n",
    "\n",
    "And whether a child is born in the urban sprawl of Detroit or the windswept plains of Nebraska, they look up at the same night sky, they fill their heart with the same dreams, and they are infused with the breath of life by the same almighty Creator.\n",
    "\n",
    "So to all Americans, in every city near and far, small and large, from mountain to mountain, and from ocean to ocean, hear these words:\n",
    "\n",
    "You will never be ignored again.\n",
    "\n",
    "Your voice, your hopes, and your dreams, will define our American destiny. And your courage and goodness and love will forever guide us along the way.\n",
    "\n",
    "Together, We Will Make America Strong Again.\n",
    "\n",
    "We Will Make America Wealthy Again.\n",
    "\n",
    "We Will Make America Proud Again.\n",
    "\n",
    "We Will Make America Safe Again.\n",
    "\n",
    "And, Yes, Together, We Will Make America Great Again. Thank you, God Bless You, And God Bless America.\"\"\""
   ]
  },
  {
   "cell_type": "code",
   "execution_count": 3,
   "metadata": {},
   "outputs": [
    {
     "data": {
      "text/plain": [
       "\" CHIEF JUSTICE ROBERTS  PRESIDENT CARTER  PRESIDENT CLINTON  PRESIDENT BUSH  PRESIDENT OBAMA  FELLOW AMERICANS  AND PEOPLE OF THE WORLD  THANK YOU   WE  THE CITIZENS OF AMERICA  ARE NOW JOINED IN A GREAT NATIONAL EFFORT TO REBUILD OUR COUNTRY AND TO RESTORE ITS PROMISE FOR ALL OF OUR PEOPLE   TOGETHER  WE WILL DETERMINE THE COURSE OF AMERICA AND THE WORLD FOR YEARS TO COME   WE WILL FACE CHALLENGES  WE WILL CONFRONT HARDSHIPS  BUT WE WILL GET THE JOB DONE   EVERY FOUR YEARS  WE GATHER ON THESE STEPS TO CARRY OUT THE ORDERLY AND PEACEFUL TRANSFER OF POWER  AND WE ARE GRATEFUL TO PRESIDENT OBAMA AND FIRST LADY MICHELLE OBAMA FOR THEIR GRACIOUS AID THROUGHOUT THIS TRANSITION  THEY HAVE BEEN MAGNIFICENT   TODAY S CEREMONY  HOWEVER  HAS VERY SPECIAL MEANING  BECAUSE TODAY WE ARE NOT MERELY TRANSFERRING POWER FROM ONE ADMINISTRATION TO ANOTHER  OR FROM ONE PARTY TO ANOTHER   BUT WE ARE TRANSFERRING POWER FROM WASHINGTON  D C  AND GIVING IT BACK TO YOU  THE AMERICAN PEOPLE   FOR TOO LONG  A SMALL GROUP IN OUR NATION S CAPITAL HAS REAPED THE REWARDS OF GOVERNMENT WHILE THE PEOPLE HAVE BORNE THE COST   WASHINGTON FLOURISHED   BUT THE PEOPLE DID NOT SHARE IN ITS WEALTH   POLITICIANS PROSPERED   BUT THE JOBS LEFT  AND THE FACTORIES CLOSED   THE ESTABLISHMENT PROTECTED ITSELF  BUT NOT THE CITIZENS OF OUR COUNTRY   THEIR VICTORIES HAVE NOT BEEN YOUR VICTORIES; THEIR TRIUMPHS HAVE NOT BEEN YOUR TRIUMPHS; AND WHILE THEY CELEBRATED IN OUR NATION S CAPITAL  THERE WAS LITTLE TO CELEBRATE FOR STRUGGLING FAMILIES ALL ACROSS OUR LAND   THAT ALL CHANGES   STARTING RIGHT HERE  AND RIGHT NOW  BECAUSE THIS MOMENT IS YOUR MOMENT  IT BELONGS TO YOU   IT BELONGS TO EVERYONE GATHERED HERE TODAY AND EVERYONE WATCHING ALL ACROSS AMERICA    THIS IS YOUR DAY  THIS IS YOUR CELEBRATION   AND THIS  THE UNITED STATES OF AMERICA  IS YOUR COUNTRY   WHAT TRULY MATTERS IS NOT WHICH PARTY CONTROLS OUR GOVERNMENT  BUT WHETHER OUR GOVERNMENT IS CONTROLLED BY THE PEOPLE   JANUARY 20TH 2017  WILL BE REMEMBERED AS THE DAY THE PEOPLE BECAME THE RULERS OF THIS NATION AGAIN    THE FORGOTTEN MEN AND WOMEN OF OUR COUNTRY WILL BE FORGOTTEN NO LONGER   EVERYONE IS LISTENING TO YOU NOW   YOU CAME BY THE TENS OF MILLIONS TO BECOME PART OF A HISTORIC MOVEMENT THE LIKES OF WHICH THE WORLD HAS NEVER SEEN BEFORE   AT THE CENTER OF THIS MOVEMENT IS A CRUCIAL CONVICTION  THAT A NATION EXISTS TO SERVE ITS CITIZENS   AMERICANS WANT GREAT SCHOOLS FOR THEIR CHILDREN  SAFE NEIGHBORHOODS FOR THEIR FAMILIES  AND GOOD JOBS FOR THEMSELVES   THESE ARE THE JUST AND REASONABLE DEMANDS OF A RIGHTEOUS PUBLIC   BUT FOR TOO MANY OF OUR CITIZENS  A DIFFERENT REALITY EXISTS  MOTHERS AND CHILDREN TRAPPED IN POVERTY IN OUR INNER CITIES; RUSTED-OUT FACTORIES SCATTERED LIKE TOMBSTONES ACROSS THE LANDSCAPE OF OUR NATION; AN EDUCATION SYSTEM  FLUSH WITH CASH  BUT WHICH LEAVES OUR YOUNG AND BEAUTIFUL STUDENTS DEPRIVED OF KNOWLEDGE; AND THE CRIME AND GANGS AND DRUGS THAT HAVE STOLEN TOO MANY LIVES AND ROBBED OUR COUNTRY OF SO MUCH UNREALIZED POTENTIAL   THIS AMERICAN CARNAGE STOPS RIGHT HERE AND STOPS RIGHT NOW   WE ARE ONE NATION   AND THEIR PAIN IS OUR PAIN   THEIR DREAMS ARE OUR DREAMS; AND THEIR SUCCESS WILL BE OUR SUCCESS   WE SHARE ONE HEART  ONE HOME  AND ONE GLORIOUS DESTINY   THE OATH OF OFFICE I TAKE TODAY IS AN OATH OF ALLEGIANCE TO ALL AMERICANS   FOR MANY DECADES  WE VE ENRICHED FOREIGN INDUSTRY AT THE EXPENSE OF AMERICAN INDUSTRY;  SUBSIDIZED THE ARMIES OF OTHER COUNTRIES WHILE ALLOWING FOR THE VERY SAD DEPLETION OF OUR MILITARY;  WE'VE DEFENDED OTHER NATION S BORDERS WHILE REFUSING TO DEFEND OUR OWN;  AND SPENT TRILLIONS OF DOLLARS OVERSEAS WHILE AMERICA'S INFRASTRUCTURE HAS FALLEN INTO DISREPAIR AND DECAY   WE VE MADE OTHER COUNTRIES RICH WHILE THE WEALTH  STRENGTH  AND CONFIDENCE OF OUR COUNTRY HAS DISAPPEARED OVER THE HORIZON   ONE BY ONE  THE FACTORIES SHUTTERED AND LEFT OUR SHORES  WITH NOT EVEN A THOUGHT ABOUT THE MILLIONS UPON MILLIONS OF AMERICAN WORKERS LEFT BEHIND   THE WEALTH OF OUR MIDDLE CLASS HAS BEEN RIPPED FROM THEIR HOMES AND THEN REDISTRIBUTED ACROSS THE ENTIRE WORLD   BUT THAT IS THE PAST  AND NOW WE ARE LOOKING ONLY TO THE FUTURE   WE ASSEMBLED HERE TODAY ARE ISSUING A NEW DECREE TO BE HEARD IN EVERY CITY  IN EVERY FOREIGN CAPITAL  AND IN EVERY HALL OF POWER   FROM THIS DAY FORWARD  A NEW VISION WILL GOVERN OUR LAND   FROM THIS MOMENT ON  IT S GOING TO BE AMERICA FIRST   EVERY DECISION ON TRADE  ON TAXES  ON IMMIGRATION  ON FOREIGN AFFAIRS  WILL BE MADE TO BENEFIT AMERICAN WORKERS AND AMERICAN FAMILIES   WE MUST PROTECT OUR BORDERS FROM THE RAVAGES OF OTHER COUNTRIES MAKING OUR PRODUCTS  STEALING OUR COMPANIES  AND DESTROYING OUR JOBS   PROTECTION WILL LEAD TO GREAT PROSPERITY AND STRENGTH   I WILL FIGHT FOR YOU WITH EVERY BREATH IN MY BODY   AND I WILL NEVER  EVER LET YOU DOWN   AMERICA WILL START WINNING AGAIN  WINNING LIKE NEVER BEFORE   WE WILL BRING BACK OUR JOBS  WE WILL BRING BACK OUR BORDERS   WE WILL BRING BACK OUR WEALTH   AND WE WILL BRING BACK OUR DREAMS   WE WILL BUILD NEW ROADS  AND HIGHWAYS  AND BRIDGES  AND AIRPORTS  AND TUNNELS  AND RAILWAYS ALL ACROSS OUR WONDERFUL NATION   WE WILL GET OUR PEOPLE OFF OF WELFARE AND BACK TO WORK   REBUILDING OUR COUNTRY WITH AMERICAN HANDS AND AMERICAN LABOR   WE WILL FOLLOW TWO SIMPLE RULES  BUY AMERICAN AND HIRE AMERICAN   WE WILL SEEK FRIENDSHIP AND GOODWILL WITH THE NATIONS OF THE WORLD   BUT WE DO SO WITH THE UNDERSTANDING THAT IT IS THE RIGHT OF ALL NATIONS TO PUT THEIR OWN INTERESTS FIRST   WE DO NOT SEEK TO IMPOSE OUR WAY OF LIFE ON ANYONE  BUT RATHER TO LET IT SHINE AS AN EXAMPLE FOR EVERYONE TO FOLLOW   WE WILL REINFORCE OLD ALLIANCES AND FORM NEW ONES   AND UNITE THE CIVILIZED WORLD AGAINST RADICAL ISLAMIC TERRORISM  WHICH WE WILL ERADICATE COMPLETELY FROM THE FACE OF THE EARTH   AT THE BEDROCK OF OUR POLITICS WILL BE A TOTAL ALLEGIANCE TO THE UNITED STATES OF AMERICA  AND THROUGH OUR LOYALTY TO OUR COUNTRY  WE WILL REDISCOVER OUR LOYALTY TO EACH OTHER   WHEN YOU OPEN YOUR HEART TO PATRIOTISM  THERE IS NO ROOM FOR PREJUDICE   THE BIBLE TELLS US  “HOW GOOD AND PLEASANT IT IS WHEN GOD S PEOPLE LIVE TOGETHER IN UNITY ”  WE MUST SPEAK OUR MINDS OPENLY  DEBATE OUR DISAGREEMENTS HONESTLY  BUT ALWAYS PURSUE SOLIDARITY   WHEN AMERICA IS UNITED  AMERICA IS TOTALLY UNSTOPPABLE   THERE SHOULD BE NO FEAR   WE ARE PROTECTED  AND WE WILL ALWAYS BE PROTECTED   WE WILL BE PROTECTED BY THE GREAT MEN AND WOMEN OF OUR MILITARY AND LAW ENFORCEMENT AND  MOST IMPORTANTLY  WE ARE PROTECTED BY GOD   FINALLY  WE MUST THINK BIG AND DREAM EVEN BIGGER   IN AMERICA  WE UNDERSTAND THAT A NATION IS ONLY LIVING AS LONG AS IT IS STRIVING   WE WILL NO LONGER ACCEPT POLITICIANS WHO ARE ALL TALK AND NO ACTION   CONSTANTLY COMPLAINING BUT NEVER DOING ANYTHING ABOUT IT   THE TIME FOR EMPTY TALK IS OVER   NOW ARRIVES THE HOUR OF ACTION   DO NOT LET ANYONE TELL YOU IT CANNOT BE DONE   NO CHALLENGE CAN MATCH THE HEART AND FIGHT AND SPIRIT OF AMERICA   WE WILL NOT FAIL  OUR COUNTRY WILL THRIVE AND PROSPER AGAIN   WE STAND AT THE BIRTH OF A NEW MILLENNIUM  READY TO UNLOCK THE MYSTERIES OF SPACE  TO FREE THE EARTH FROM THE MISERIES OF DISEASE  AND TO HARNESS THE ENERGIES  INDUSTRIES AND TECHNOLOGIES OF TOMORROW   A NEW NATIONAL PRIDE WILL STIR OUR SOULS  LIFT OUR SIGHTS  AND HEAL OUR DIVISIONS   IT IS TIME TO REMEMBER THAT OLD WISDOM OUR SOLDIERS WILL NEVER FORGET  THAT WHETHER WE ARE BLACK OR BROWN OR WHITE  WE ALL BLEED THE SAME RED BLOOD OF PATRIOTS  WE ALL ENJOY THE SAME GLORIOUS FREEDOMS  AND WE ALL SALUTE THE SAME GREAT AMERICAN FLAG   AND WHETHER A CHILD IS BORN IN THE URBAN SPRAWL OF DETROIT OR THE WINDSWEPT PLAINS OF NEBRASKA  THEY LOOK UP AT THE SAME NIGHT SKY  THEY FILL THEIR HEART WITH THE SAME DREAMS  AND THEY ARE INFUSED WITH THE BREATH OF LIFE BY THE SAME ALMIGHTY CREATOR   SO TO ALL AMERICANS  IN EVERY CITY NEAR AND FAR  SMALL AND LARGE  FROM MOUNTAIN TO MOUNTAIN  AND FROM OCEAN TO OCEAN  HEAR THESE WORDS   YOU WILL NEVER BE IGNORED AGAIN   YOUR VOICE  YOUR HOPES  AND YOUR DREAMS  WILL DEFINE OUR AMERICAN DESTINY  AND YOUR COURAGE AND GOODNESS AND LOVE WILL FOREVER GUIDE US ALONG THE WAY   TOGETHER  WE WILL MAKE AMERICA STRONG AGAIN   WE WILL MAKE AMERICA WEALTHY AGAIN   WE WILL MAKE AMERICA PROUD AGAIN   WE WILL MAKE AMERICA SAFE AGAIN   AND  YES  TOGETHER  WE WILL MAKE AMERICA GREAT AGAIN  THANK YOU  GOD BLESS YOU  AND GOD BLESS AMERICA \""
      ]
     },
     "execution_count": 3,
     "metadata": {},
     "output_type": "execute_result"
    }
   ],
   "source": [
    "trump_clean=trump_speech.upper().replace(\".\",\" \").replace(\"\\n\",\" \").replace(\",\",\" \").replace(\":\",\" \").replace(\"’\",\" \").replace(\"–\",\" \")\n",
    "trump_clean"
   ]
  },
  {
   "cell_type": "code",
   "execution_count": 4,
   "metadata": {
    "collapsed": true
   },
   "outputs": [],
   "source": [
    "trump_split=trump_clean.split(\" \")\n"
   ]
  },
  {
   "cell_type": "code",
   "execution_count": 5,
   "metadata": {},
   "outputs": [
    {
     "data": {
      "text/plain": [
       "['',\n",
       " 'CHIEF',\n",
       " 'JUSTICE',\n",
       " 'ROBERTS',\n",
       " '',\n",
       " 'PRESIDENT',\n",
       " 'CARTER',\n",
       " '',\n",
       " 'PRESIDENT',\n",
       " 'CLINTON',\n",
       " '',\n",
       " 'PRESIDENT',\n",
       " 'BUSH',\n",
       " '',\n",
       " 'PRESIDENT',\n",
       " 'OBAMA',\n",
       " '',\n",
       " 'FELLOW',\n",
       " 'AMERICANS',\n",
       " '',\n",
       " 'AND',\n",
       " 'PEOPLE',\n",
       " 'OF',\n",
       " 'THE',\n",
       " 'WORLD',\n",
       " '',\n",
       " 'THANK',\n",
       " 'YOU',\n",
       " '',\n",
       " '',\n",
       " 'WE',\n",
       " '',\n",
       " 'THE',\n",
       " 'CITIZENS',\n",
       " 'OF',\n",
       " 'AMERICA',\n",
       " '',\n",
       " 'ARE',\n",
       " 'NOW',\n",
       " 'JOINED',\n",
       " 'IN',\n",
       " 'A',\n",
       " 'GREAT',\n",
       " 'NATIONAL',\n",
       " 'EFFORT',\n",
       " 'TO',\n",
       " 'REBUILD',\n",
       " 'OUR',\n",
       " 'COUNTRY',\n",
       " 'AND',\n",
       " 'TO',\n",
       " 'RESTORE',\n",
       " 'ITS',\n",
       " 'PROMISE',\n",
       " 'FOR',\n",
       " 'ALL',\n",
       " 'OF',\n",
       " 'OUR',\n",
       " 'PEOPLE',\n",
       " '',\n",
       " '',\n",
       " 'TOGETHER',\n",
       " '',\n",
       " 'WE',\n",
       " 'WILL',\n",
       " 'DETERMINE',\n",
       " 'THE',\n",
       " 'COURSE',\n",
       " 'OF',\n",
       " 'AMERICA',\n",
       " 'AND',\n",
       " 'THE',\n",
       " 'WORLD',\n",
       " 'FOR',\n",
       " 'YEARS',\n",
       " 'TO',\n",
       " 'COME',\n",
       " '',\n",
       " '',\n",
       " 'WE',\n",
       " 'WILL',\n",
       " 'FACE',\n",
       " 'CHALLENGES',\n",
       " '',\n",
       " 'WE',\n",
       " 'WILL',\n",
       " 'CONFRONT',\n",
       " 'HARDSHIPS',\n",
       " '',\n",
       " 'BUT',\n",
       " 'WE',\n",
       " 'WILL',\n",
       " 'GET',\n",
       " 'THE',\n",
       " 'JOB',\n",
       " 'DONE',\n",
       " '',\n",
       " '',\n",
       " 'EVERY',\n",
       " 'FOUR',\n",
       " 'YEARS',\n",
       " '',\n",
       " 'WE',\n",
       " 'GATHER',\n",
       " 'ON',\n",
       " 'THESE',\n",
       " 'STEPS',\n",
       " 'TO',\n",
       " 'CARRY',\n",
       " 'OUT',\n",
       " 'THE',\n",
       " 'ORDERLY',\n",
       " 'AND',\n",
       " 'PEACEFUL',\n",
       " 'TRANSFER',\n",
       " 'OF',\n",
       " 'POWER',\n",
       " '',\n",
       " 'AND',\n",
       " 'WE',\n",
       " 'ARE',\n",
       " 'GRATEFUL',\n",
       " 'TO',\n",
       " 'PRESIDENT',\n",
       " 'OBAMA',\n",
       " 'AND',\n",
       " 'FIRST',\n",
       " 'LADY',\n",
       " 'MICHELLE',\n",
       " 'OBAMA',\n",
       " 'FOR',\n",
       " 'THEIR',\n",
       " 'GRACIOUS',\n",
       " 'AID',\n",
       " 'THROUGHOUT',\n",
       " 'THIS',\n",
       " 'TRANSITION',\n",
       " '',\n",
       " 'THEY',\n",
       " 'HAVE',\n",
       " 'BEEN',\n",
       " 'MAGNIFICENT',\n",
       " '',\n",
       " '',\n",
       " 'TODAY',\n",
       " 'S',\n",
       " 'CEREMONY',\n",
       " '',\n",
       " 'HOWEVER',\n",
       " '',\n",
       " 'HAS',\n",
       " 'VERY',\n",
       " 'SPECIAL',\n",
       " 'MEANING',\n",
       " '',\n",
       " 'BECAUSE',\n",
       " 'TODAY',\n",
       " 'WE',\n",
       " 'ARE',\n",
       " 'NOT',\n",
       " 'MERELY',\n",
       " 'TRANSFERRING',\n",
       " 'POWER',\n",
       " 'FROM',\n",
       " 'ONE',\n",
       " 'ADMINISTRATION',\n",
       " 'TO',\n",
       " 'ANOTHER',\n",
       " '',\n",
       " 'OR',\n",
       " 'FROM',\n",
       " 'ONE',\n",
       " 'PARTY',\n",
       " 'TO',\n",
       " 'ANOTHER',\n",
       " '',\n",
       " '',\n",
       " 'BUT',\n",
       " 'WE',\n",
       " 'ARE',\n",
       " 'TRANSFERRING',\n",
       " 'POWER',\n",
       " 'FROM',\n",
       " 'WASHINGTON',\n",
       " '',\n",
       " 'D',\n",
       " 'C',\n",
       " '',\n",
       " 'AND',\n",
       " 'GIVING',\n",
       " 'IT',\n",
       " 'BACK',\n",
       " 'TO',\n",
       " 'YOU',\n",
       " '',\n",
       " 'THE',\n",
       " 'AMERICAN',\n",
       " 'PEOPLE',\n",
       " '',\n",
       " '',\n",
       " 'FOR',\n",
       " 'TOO',\n",
       " 'LONG',\n",
       " '',\n",
       " 'A',\n",
       " 'SMALL',\n",
       " 'GROUP',\n",
       " 'IN',\n",
       " 'OUR',\n",
       " 'NATION',\n",
       " 'S',\n",
       " 'CAPITAL',\n",
       " 'HAS',\n",
       " 'REAPED',\n",
       " 'THE',\n",
       " 'REWARDS',\n",
       " 'OF',\n",
       " 'GOVERNMENT',\n",
       " 'WHILE',\n",
       " 'THE',\n",
       " 'PEOPLE',\n",
       " 'HAVE',\n",
       " 'BORNE',\n",
       " 'THE',\n",
       " 'COST',\n",
       " '',\n",
       " '',\n",
       " 'WASHINGTON',\n",
       " 'FLOURISHED',\n",
       " '',\n",
       " '',\n",
       " 'BUT',\n",
       " 'THE',\n",
       " 'PEOPLE',\n",
       " 'DID',\n",
       " 'NOT',\n",
       " 'SHARE',\n",
       " 'IN',\n",
       " 'ITS',\n",
       " 'WEALTH',\n",
       " '',\n",
       " '',\n",
       " 'POLITICIANS',\n",
       " 'PROSPERED',\n",
       " '',\n",
       " '',\n",
       " 'BUT',\n",
       " 'THE',\n",
       " 'JOBS',\n",
       " 'LEFT',\n",
       " '',\n",
       " 'AND',\n",
       " 'THE',\n",
       " 'FACTORIES',\n",
       " 'CLOSED',\n",
       " '',\n",
       " '',\n",
       " 'THE',\n",
       " 'ESTABLISHMENT',\n",
       " 'PROTECTED',\n",
       " 'ITSELF',\n",
       " '',\n",
       " 'BUT',\n",
       " 'NOT',\n",
       " 'THE',\n",
       " 'CITIZENS',\n",
       " 'OF',\n",
       " 'OUR',\n",
       " 'COUNTRY',\n",
       " '',\n",
       " '',\n",
       " 'THEIR',\n",
       " 'VICTORIES',\n",
       " 'HAVE',\n",
       " 'NOT',\n",
       " 'BEEN',\n",
       " 'YOUR',\n",
       " 'VICTORIES;',\n",
       " 'THEIR',\n",
       " 'TRIUMPHS',\n",
       " 'HAVE',\n",
       " 'NOT',\n",
       " 'BEEN',\n",
       " 'YOUR',\n",
       " 'TRIUMPHS;',\n",
       " 'AND',\n",
       " 'WHILE',\n",
       " 'THEY',\n",
       " 'CELEBRATED',\n",
       " 'IN',\n",
       " 'OUR',\n",
       " 'NATION',\n",
       " 'S',\n",
       " 'CAPITAL',\n",
       " '',\n",
       " 'THERE',\n",
       " 'WAS',\n",
       " 'LITTLE',\n",
       " 'TO',\n",
       " 'CELEBRATE',\n",
       " 'FOR',\n",
       " 'STRUGGLING',\n",
       " 'FAMILIES',\n",
       " 'ALL',\n",
       " 'ACROSS',\n",
       " 'OUR',\n",
       " 'LAND',\n",
       " '',\n",
       " '',\n",
       " 'THAT',\n",
       " 'ALL',\n",
       " 'CHANGES',\n",
       " '',\n",
       " '',\n",
       " 'STARTING',\n",
       " 'RIGHT',\n",
       " 'HERE',\n",
       " '',\n",
       " 'AND',\n",
       " 'RIGHT',\n",
       " 'NOW',\n",
       " '',\n",
       " 'BECAUSE',\n",
       " 'THIS',\n",
       " 'MOMENT',\n",
       " 'IS',\n",
       " 'YOUR',\n",
       " 'MOMENT',\n",
       " '',\n",
       " 'IT',\n",
       " 'BELONGS',\n",
       " 'TO',\n",
       " 'YOU',\n",
       " '',\n",
       " '',\n",
       " 'IT',\n",
       " 'BELONGS',\n",
       " 'TO',\n",
       " 'EVERYONE',\n",
       " 'GATHERED',\n",
       " 'HERE',\n",
       " 'TODAY',\n",
       " 'AND',\n",
       " 'EVERYONE',\n",
       " 'WATCHING',\n",
       " 'ALL',\n",
       " 'ACROSS',\n",
       " 'AMERICA',\n",
       " '',\n",
       " '',\n",
       " '',\n",
       " 'THIS',\n",
       " 'IS',\n",
       " 'YOUR',\n",
       " 'DAY',\n",
       " '',\n",
       " 'THIS',\n",
       " 'IS',\n",
       " 'YOUR',\n",
       " 'CELEBRATION',\n",
       " '',\n",
       " '',\n",
       " 'AND',\n",
       " 'THIS',\n",
       " '',\n",
       " 'THE',\n",
       " 'UNITED',\n",
       " 'STATES',\n",
       " 'OF',\n",
       " 'AMERICA',\n",
       " '',\n",
       " 'IS',\n",
       " 'YOUR',\n",
       " 'COUNTRY',\n",
       " '',\n",
       " '',\n",
       " 'WHAT',\n",
       " 'TRULY',\n",
       " 'MATTERS',\n",
       " 'IS',\n",
       " 'NOT',\n",
       " 'WHICH',\n",
       " 'PARTY',\n",
       " 'CONTROLS',\n",
       " 'OUR',\n",
       " 'GOVERNMENT',\n",
       " '',\n",
       " 'BUT',\n",
       " 'WHETHER',\n",
       " 'OUR',\n",
       " 'GOVERNMENT',\n",
       " 'IS',\n",
       " 'CONTROLLED',\n",
       " 'BY',\n",
       " 'THE',\n",
       " 'PEOPLE',\n",
       " '',\n",
       " '',\n",
       " 'JANUARY',\n",
       " '20TH',\n",
       " '2017',\n",
       " '',\n",
       " 'WILL',\n",
       " 'BE',\n",
       " 'REMEMBERED',\n",
       " 'AS',\n",
       " 'THE',\n",
       " 'DAY',\n",
       " 'THE',\n",
       " 'PEOPLE',\n",
       " 'BECAME',\n",
       " 'THE',\n",
       " 'RULERS',\n",
       " 'OF',\n",
       " 'THIS',\n",
       " 'NATION',\n",
       " 'AGAIN',\n",
       " '',\n",
       " '',\n",
       " '',\n",
       " 'THE',\n",
       " 'FORGOTTEN',\n",
       " 'MEN',\n",
       " 'AND',\n",
       " 'WOMEN',\n",
       " 'OF',\n",
       " 'OUR',\n",
       " 'COUNTRY',\n",
       " 'WILL',\n",
       " 'BE',\n",
       " 'FORGOTTEN',\n",
       " 'NO',\n",
       " 'LONGER',\n",
       " '',\n",
       " '',\n",
       " 'EVERYONE',\n",
       " 'IS',\n",
       " 'LISTENING',\n",
       " 'TO',\n",
       " 'YOU',\n",
       " 'NOW',\n",
       " '',\n",
       " '',\n",
       " 'YOU',\n",
       " 'CAME',\n",
       " 'BY',\n",
       " 'THE',\n",
       " 'TENS',\n",
       " 'OF',\n",
       " 'MILLIONS',\n",
       " 'TO',\n",
       " 'BECOME',\n",
       " 'PART',\n",
       " 'OF',\n",
       " 'A',\n",
       " 'HISTORIC',\n",
       " 'MOVEMENT',\n",
       " 'THE',\n",
       " 'LIKES',\n",
       " 'OF',\n",
       " 'WHICH',\n",
       " 'THE',\n",
       " 'WORLD',\n",
       " 'HAS',\n",
       " 'NEVER',\n",
       " 'SEEN',\n",
       " 'BEFORE',\n",
       " '',\n",
       " '',\n",
       " 'AT',\n",
       " 'THE',\n",
       " 'CENTER',\n",
       " 'OF',\n",
       " 'THIS',\n",
       " 'MOVEMENT',\n",
       " 'IS',\n",
       " 'A',\n",
       " 'CRUCIAL',\n",
       " 'CONVICTION',\n",
       " '',\n",
       " 'THAT',\n",
       " 'A',\n",
       " 'NATION',\n",
       " 'EXISTS',\n",
       " 'TO',\n",
       " 'SERVE',\n",
       " 'ITS',\n",
       " 'CITIZENS',\n",
       " '',\n",
       " '',\n",
       " 'AMERICANS',\n",
       " 'WANT',\n",
       " 'GREAT',\n",
       " 'SCHOOLS',\n",
       " 'FOR',\n",
       " 'THEIR',\n",
       " 'CHILDREN',\n",
       " '',\n",
       " 'SAFE',\n",
       " 'NEIGHBORHOODS',\n",
       " 'FOR',\n",
       " 'THEIR',\n",
       " 'FAMILIES',\n",
       " '',\n",
       " 'AND',\n",
       " 'GOOD',\n",
       " 'JOBS',\n",
       " 'FOR',\n",
       " 'THEMSELVES',\n",
       " '',\n",
       " '',\n",
       " 'THESE',\n",
       " 'ARE',\n",
       " 'THE',\n",
       " 'JUST',\n",
       " 'AND',\n",
       " 'REASONABLE',\n",
       " 'DEMANDS',\n",
       " 'OF',\n",
       " 'A',\n",
       " 'RIGHTEOUS',\n",
       " 'PUBLIC',\n",
       " '',\n",
       " '',\n",
       " 'BUT',\n",
       " 'FOR',\n",
       " 'TOO',\n",
       " 'MANY',\n",
       " 'OF',\n",
       " 'OUR',\n",
       " 'CITIZENS',\n",
       " '',\n",
       " 'A',\n",
       " 'DIFFERENT',\n",
       " 'REALITY',\n",
       " 'EXISTS',\n",
       " '',\n",
       " 'MOTHERS',\n",
       " 'AND',\n",
       " 'CHILDREN',\n",
       " 'TRAPPED',\n",
       " 'IN',\n",
       " 'POVERTY',\n",
       " 'IN',\n",
       " 'OUR',\n",
       " 'INNER',\n",
       " 'CITIES;',\n",
       " 'RUSTED-OUT',\n",
       " 'FACTORIES',\n",
       " 'SCATTERED',\n",
       " 'LIKE',\n",
       " 'TOMBSTONES',\n",
       " 'ACROSS',\n",
       " 'THE',\n",
       " 'LANDSCAPE',\n",
       " 'OF',\n",
       " 'OUR',\n",
       " 'NATION;',\n",
       " 'AN',\n",
       " 'EDUCATION',\n",
       " 'SYSTEM',\n",
       " '',\n",
       " 'FLUSH',\n",
       " 'WITH',\n",
       " 'CASH',\n",
       " '',\n",
       " 'BUT',\n",
       " 'WHICH',\n",
       " 'LEAVES',\n",
       " 'OUR',\n",
       " 'YOUNG',\n",
       " 'AND',\n",
       " 'BEAUTIFUL',\n",
       " 'STUDENTS',\n",
       " 'DEPRIVED',\n",
       " 'OF',\n",
       " 'KNOWLEDGE;',\n",
       " 'AND',\n",
       " 'THE',\n",
       " 'CRIME',\n",
       " 'AND',\n",
       " 'GANGS',\n",
       " 'AND',\n",
       " 'DRUGS',\n",
       " 'THAT',\n",
       " 'HAVE',\n",
       " 'STOLEN',\n",
       " 'TOO',\n",
       " 'MANY',\n",
       " 'LIVES',\n",
       " 'AND',\n",
       " 'ROBBED',\n",
       " 'OUR',\n",
       " 'COUNTRY',\n",
       " 'OF',\n",
       " 'SO',\n",
       " 'MUCH',\n",
       " 'UNREALIZED',\n",
       " 'POTENTIAL',\n",
       " '',\n",
       " '',\n",
       " 'THIS',\n",
       " 'AMERICAN',\n",
       " 'CARNAGE',\n",
       " 'STOPS',\n",
       " 'RIGHT',\n",
       " 'HERE',\n",
       " 'AND',\n",
       " 'STOPS',\n",
       " 'RIGHT',\n",
       " 'NOW',\n",
       " '',\n",
       " '',\n",
       " 'WE',\n",
       " 'ARE',\n",
       " 'ONE',\n",
       " 'NATION',\n",
       " '',\n",
       " '',\n",
       " 'AND',\n",
       " 'THEIR',\n",
       " 'PAIN',\n",
       " 'IS',\n",
       " 'OUR',\n",
       " 'PAIN',\n",
       " '',\n",
       " '',\n",
       " 'THEIR',\n",
       " 'DREAMS',\n",
       " 'ARE',\n",
       " 'OUR',\n",
       " 'DREAMS;',\n",
       " 'AND',\n",
       " 'THEIR',\n",
       " 'SUCCESS',\n",
       " 'WILL',\n",
       " 'BE',\n",
       " 'OUR',\n",
       " 'SUCCESS',\n",
       " '',\n",
       " '',\n",
       " 'WE',\n",
       " 'SHARE',\n",
       " 'ONE',\n",
       " 'HEART',\n",
       " '',\n",
       " 'ONE',\n",
       " 'HOME',\n",
       " '',\n",
       " 'AND',\n",
       " 'ONE',\n",
       " 'GLORIOUS',\n",
       " 'DESTINY',\n",
       " '',\n",
       " '',\n",
       " 'THE',\n",
       " 'OATH',\n",
       " 'OF',\n",
       " 'OFFICE',\n",
       " 'I',\n",
       " 'TAKE',\n",
       " 'TODAY',\n",
       " 'IS',\n",
       " 'AN',\n",
       " 'OATH',\n",
       " 'OF',\n",
       " 'ALLEGIANCE',\n",
       " 'TO',\n",
       " 'ALL',\n",
       " 'AMERICANS',\n",
       " '',\n",
       " '',\n",
       " 'FOR',\n",
       " 'MANY',\n",
       " 'DECADES',\n",
       " '',\n",
       " 'WE',\n",
       " 'VE',\n",
       " 'ENRICHED',\n",
       " 'FOREIGN',\n",
       " 'INDUSTRY',\n",
       " 'AT',\n",
       " 'THE',\n",
       " 'EXPENSE',\n",
       " 'OF',\n",
       " 'AMERICAN',\n",
       " 'INDUSTRY;',\n",
       " '',\n",
       " 'SUBSIDIZED',\n",
       " 'THE',\n",
       " 'ARMIES',\n",
       " 'OF',\n",
       " 'OTHER',\n",
       " 'COUNTRIES',\n",
       " 'WHILE',\n",
       " 'ALLOWING',\n",
       " 'FOR',\n",
       " 'THE',\n",
       " 'VERY',\n",
       " 'SAD',\n",
       " 'DEPLETION',\n",
       " 'OF',\n",
       " 'OUR',\n",
       " 'MILITARY;',\n",
       " '',\n",
       " \"WE'VE\",\n",
       " 'DEFENDED',\n",
       " 'OTHER',\n",
       " 'NATION',\n",
       " 'S',\n",
       " 'BORDERS',\n",
       " 'WHILE',\n",
       " 'REFUSING',\n",
       " 'TO',\n",
       " 'DEFEND',\n",
       " 'OUR',\n",
       " 'OWN;',\n",
       " '',\n",
       " 'AND',\n",
       " 'SPENT',\n",
       " 'TRILLIONS',\n",
       " 'OF',\n",
       " 'DOLLARS',\n",
       " 'OVERSEAS',\n",
       " 'WHILE',\n",
       " \"AMERICA'S\",\n",
       " 'INFRASTRUCTURE',\n",
       " 'HAS',\n",
       " 'FALLEN',\n",
       " 'INTO',\n",
       " 'DISREPAIR',\n",
       " 'AND',\n",
       " 'DECAY',\n",
       " '',\n",
       " '',\n",
       " 'WE',\n",
       " 'VE',\n",
       " 'MADE',\n",
       " 'OTHER',\n",
       " 'COUNTRIES',\n",
       " 'RICH',\n",
       " 'WHILE',\n",
       " 'THE',\n",
       " 'WEALTH',\n",
       " '',\n",
       " 'STRENGTH',\n",
       " '',\n",
       " 'AND',\n",
       " 'CONFIDENCE',\n",
       " 'OF',\n",
       " 'OUR',\n",
       " 'COUNTRY',\n",
       " 'HAS',\n",
       " 'DISAPPEARED',\n",
       " 'OVER',\n",
       " 'THE',\n",
       " 'HORIZON',\n",
       " '',\n",
       " '',\n",
       " 'ONE',\n",
       " 'BY',\n",
       " 'ONE',\n",
       " '',\n",
       " 'THE',\n",
       " 'FACTORIES',\n",
       " 'SHUTTERED',\n",
       " 'AND',\n",
       " 'LEFT',\n",
       " 'OUR',\n",
       " 'SHORES',\n",
       " '',\n",
       " 'WITH',\n",
       " 'NOT',\n",
       " 'EVEN',\n",
       " 'A',\n",
       " 'THOUGHT',\n",
       " 'ABOUT',\n",
       " 'THE',\n",
       " 'MILLIONS',\n",
       " 'UPON',\n",
       " 'MILLIONS',\n",
       " 'OF',\n",
       " 'AMERICAN',\n",
       " 'WORKERS',\n",
       " 'LEFT',\n",
       " 'BEHIND',\n",
       " '',\n",
       " '',\n",
       " 'THE',\n",
       " 'WEALTH',\n",
       " 'OF',\n",
       " 'OUR',\n",
       " 'MIDDLE',\n",
       " 'CLASS',\n",
       " 'HAS',\n",
       " 'BEEN',\n",
       " 'RIPPED',\n",
       " 'FROM',\n",
       " 'THEIR',\n",
       " 'HOMES',\n",
       " 'AND',\n",
       " 'THEN',\n",
       " 'REDISTRIBUTED',\n",
       " 'ACROSS',\n",
       " 'THE',\n",
       " 'ENTIRE',\n",
       " 'WORLD',\n",
       " '',\n",
       " '',\n",
       " 'BUT',\n",
       " 'THAT',\n",
       " 'IS',\n",
       " 'THE',\n",
       " 'PAST',\n",
       " '',\n",
       " 'AND',\n",
       " 'NOW',\n",
       " 'WE',\n",
       " 'ARE',\n",
       " 'LOOKING',\n",
       " 'ONLY',\n",
       " 'TO',\n",
       " 'THE',\n",
       " 'FUTURE',\n",
       " '',\n",
       " '',\n",
       " 'WE',\n",
       " 'ASSEMBLED',\n",
       " 'HERE',\n",
       " 'TODAY',\n",
       " 'ARE',\n",
       " 'ISSUING',\n",
       " 'A',\n",
       " 'NEW',\n",
       " 'DECREE',\n",
       " 'TO',\n",
       " 'BE',\n",
       " 'HEARD',\n",
       " 'IN',\n",
       " 'EVERY',\n",
       " 'CITY',\n",
       " '',\n",
       " 'IN',\n",
       " 'EVERY',\n",
       " 'FOREIGN',\n",
       " 'CAPITAL',\n",
       " '',\n",
       " 'AND',\n",
       " 'IN',\n",
       " 'EVERY',\n",
       " 'HALL',\n",
       " 'OF',\n",
       " 'POWER',\n",
       " '',\n",
       " '',\n",
       " 'FROM',\n",
       " 'THIS',\n",
       " 'DAY',\n",
       " 'FORWARD',\n",
       " '',\n",
       " 'A',\n",
       " 'NEW',\n",
       " 'VISION',\n",
       " 'WILL',\n",
       " 'GOVERN',\n",
       " 'OUR',\n",
       " 'LAND',\n",
       " '',\n",
       " '',\n",
       " 'FROM',\n",
       " 'THIS',\n",
       " 'MOMENT',\n",
       " 'ON',\n",
       " '',\n",
       " 'IT',\n",
       " 'S',\n",
       " 'GOING',\n",
       " 'TO',\n",
       " 'BE',\n",
       " 'AMERICA',\n",
       " 'FIRST',\n",
       " '',\n",
       " '',\n",
       " 'EVERY',\n",
       " 'DECISION',\n",
       " 'ON',\n",
       " 'TRADE',\n",
       " '',\n",
       " 'ON',\n",
       " 'TAXES',\n",
       " '',\n",
       " 'ON',\n",
       " 'IMMIGRATION',\n",
       " '',\n",
       " 'ON',\n",
       " 'FOREIGN',\n",
       " 'AFFAIRS',\n",
       " '',\n",
       " 'WILL',\n",
       " 'BE',\n",
       " 'MADE',\n",
       " 'TO',\n",
       " 'BENEFIT',\n",
       " 'AMERICAN',\n",
       " 'WORKERS',\n",
       " 'AND',\n",
       " 'AMERICAN',\n",
       " 'FAMILIES',\n",
       " '',\n",
       " '',\n",
       " 'WE',\n",
       " 'MUST',\n",
       " 'PROTECT',\n",
       " 'OUR',\n",
       " 'BORDERS',\n",
       " 'FROM',\n",
       " 'THE',\n",
       " 'RAVAGES',\n",
       " 'OF',\n",
       " 'OTHER',\n",
       " 'COUNTRIES',\n",
       " 'MAKING',\n",
       " 'OUR',\n",
       " 'PRODUCTS',\n",
       " '',\n",
       " 'STEALING',\n",
       " 'OUR',\n",
       " 'COMPANIES',\n",
       " '',\n",
       " 'AND',\n",
       " 'DESTROYING',\n",
       " 'OUR',\n",
       " 'JOBS',\n",
       " '',\n",
       " '',\n",
       " 'PROTECTION',\n",
       " 'WILL',\n",
       " 'LEAD',\n",
       " 'TO',\n",
       " 'GREAT',\n",
       " 'PROSPERITY',\n",
       " 'AND',\n",
       " 'STRENGTH',\n",
       " '',\n",
       " '',\n",
       " 'I',\n",
       " 'WILL',\n",
       " 'FIGHT',\n",
       " 'FOR',\n",
       " 'YOU',\n",
       " 'WITH',\n",
       " 'EVERY',\n",
       " 'BREATH',\n",
       " 'IN',\n",
       " 'MY',\n",
       " 'BODY',\n",
       " '',\n",
       " '',\n",
       " 'AND',\n",
       " 'I',\n",
       " 'WILL',\n",
       " 'NEVER',\n",
       " '',\n",
       " 'EVER',\n",
       " 'LET',\n",
       " 'YOU',\n",
       " 'DOWN',\n",
       " '',\n",
       " '',\n",
       " 'AMERICA',\n",
       " 'WILL',\n",
       " 'START',\n",
       " 'WINNING',\n",
       " 'AGAIN',\n",
       " '',\n",
       " 'WINNING',\n",
       " 'LIKE',\n",
       " 'NEVER',\n",
       " 'BEFORE',\n",
       " '',\n",
       " '',\n",
       " 'WE',\n",
       " 'WILL',\n",
       " 'BRING',\n",
       " 'BACK',\n",
       " 'OUR',\n",
       " 'JOBS',\n",
       " '',\n",
       " 'WE',\n",
       " 'WILL',\n",
       " 'BRING',\n",
       " 'BACK',\n",
       " 'OUR',\n",
       " 'BORDERS',\n",
       " '',\n",
       " '',\n",
       " 'WE',\n",
       " 'WILL',\n",
       " 'BRING',\n",
       " 'BACK',\n",
       " ...]"
      ]
     },
     "execution_count": 5,
     "metadata": {},
     "output_type": "execute_result"
    }
   ],
   "source": [
    "trump_split"
   ]
  },
  {
   "cell_type": "code",
   "execution_count": 6,
   "metadata": {
    "scrolled": true
   },
   "outputs": [
    {
     "data": {
      "text/plain": [
       "{'A': 15,\n",
       " 'ABOUT': 2,\n",
       " 'ACROSS': 5,\n",
       " 'ACTION': 2,\n",
       " 'AGAIN': 9,\n",
       " 'ALL': 12,\n",
       " 'ALLEGIANCE': 2,\n",
       " 'ALWAYS': 2,\n",
       " 'AMERICA': 17,\n",
       " 'AMERICAN': 12,\n",
       " 'AMERICANS': 4,\n",
       " 'AN': 3,\n",
       " 'AND': 74,\n",
       " 'ANOTHER': 2,\n",
       " 'ANYONE': 2,\n",
       " 'ARE': 14,\n",
       " 'AS': 4,\n",
       " 'AT': 5,\n",
       " 'BACK': 6,\n",
       " 'BE': 12,\n",
       " 'BECAUSE': 2,\n",
       " 'BEEN': 4,\n",
       " 'BEFORE': 2,\n",
       " 'BELONGS': 2,\n",
       " 'BLESS': 2,\n",
       " 'BORDERS': 3,\n",
       " 'BREATH': 2,\n",
       " 'BRING': 4,\n",
       " 'BUT': 13,\n",
       " 'BY': 6,\n",
       " 'CAPITAL': 3,\n",
       " 'CHILDREN': 2,\n",
       " 'CITIZENS': 4,\n",
       " 'CITY': 2,\n",
       " 'COUNTRIES': 3,\n",
       " 'COUNTRY': 9,\n",
       " 'DAY': 3,\n",
       " 'DESTINY': 2,\n",
       " 'DO': 3,\n",
       " 'DONE': 2,\n",
       " 'DREAMS': 4,\n",
       " 'EARTH': 2,\n",
       " 'EVEN': 2,\n",
       " 'EVERY': 7,\n",
       " 'EVERYONE': 4,\n",
       " 'EXISTS': 2,\n",
       " 'FACE': 2,\n",
       " 'FACTORIES': 3,\n",
       " 'FAMILIES': 3,\n",
       " 'FIGHT': 2,\n",
       " 'FIRST': 3,\n",
       " 'FOLLOW': 2,\n",
       " 'FOR': 15,\n",
       " 'FOREIGN': 3,\n",
       " 'FORGOTTEN': 2,\n",
       " 'FROM': 11,\n",
       " 'GET': 2,\n",
       " 'GLORIOUS': 2,\n",
       " 'GOD': 4,\n",
       " 'GOOD': 2,\n",
       " 'GOVERNMENT': 3,\n",
       " 'GREAT': 6,\n",
       " 'HAS': 6,\n",
       " 'HAVE': 5,\n",
       " 'HEART': 4,\n",
       " 'HERE': 4,\n",
       " 'I': 3,\n",
       " 'IN': 14,\n",
       " 'IS': 21,\n",
       " 'IT': 11,\n",
       " 'ITS': 3,\n",
       " 'JOBS': 4,\n",
       " 'LAND': 2,\n",
       " 'LEFT': 3,\n",
       " 'LET': 3,\n",
       " 'LIFE': 2,\n",
       " 'LIKE': 2,\n",
       " 'LONG': 2,\n",
       " 'LONGER': 2,\n",
       " 'LOYALTY': 2,\n",
       " 'MADE': 2,\n",
       " 'MAKE': 5,\n",
       " 'MANY': 3,\n",
       " 'MEN': 2,\n",
       " 'MILLIONS': 3,\n",
       " 'MOMENT': 3,\n",
       " 'MOUNTAIN': 2,\n",
       " 'MOVEMENT': 2,\n",
       " 'MUST': 3,\n",
       " 'NATION': 8,\n",
       " 'NATIONAL': 2,\n",
       " 'NATIONS': 2,\n",
       " 'NEVER': 6,\n",
       " 'NEW': 6,\n",
       " 'NO': 6,\n",
       " 'NOT': 10,\n",
       " 'NOW': 6,\n",
       " 'OATH': 2,\n",
       " 'OBAMA': 3,\n",
       " 'OCEAN': 2,\n",
       " 'OF': 48,\n",
       " 'OLD': 2,\n",
       " 'ON': 7,\n",
       " 'ONE': 8,\n",
       " 'ONLY': 2,\n",
       " 'OR': 4,\n",
       " 'OTHER': 5,\n",
       " 'OUR': 48,\n",
       " 'OVER': 2,\n",
       " 'PAIN': 2,\n",
       " 'PARTY': 2,\n",
       " 'PEOPLE': 9,\n",
       " 'POLITICIANS': 2,\n",
       " 'POWER': 4,\n",
       " 'PRESIDENT': 5,\n",
       " 'PROTECTED': 5,\n",
       " 'RIGHT': 5,\n",
       " 'S': 6,\n",
       " 'SAFE': 2,\n",
       " 'SAME': 6,\n",
       " 'SEEK': 2,\n",
       " 'SHARE': 2,\n",
       " 'SMALL': 2,\n",
       " 'SO': 3,\n",
       " 'STATES': 2,\n",
       " 'STOPS': 2,\n",
       " 'STRENGTH': 2,\n",
       " 'SUCCESS': 2,\n",
       " 'TALK': 2,\n",
       " 'THANK': 2,\n",
       " 'THAT': 8,\n",
       " 'THE': 70,\n",
       " 'THEIR': 11,\n",
       " 'THERE': 3,\n",
       " 'THESE': 3,\n",
       " 'THEY': 5,\n",
       " 'THIS': 10,\n",
       " 'TIME': 2,\n",
       " 'TO': 37,\n",
       " 'TODAY': 5,\n",
       " 'TOGETHER': 4,\n",
       " 'TOO': 3,\n",
       " 'TRANSFERRING': 2,\n",
       " 'UNITED': 3,\n",
       " 'US': 2,\n",
       " 'VE': 2,\n",
       " 'VERY': 2,\n",
       " 'WASHINGTON': 2,\n",
       " 'WAY': 2,\n",
       " 'WE': 48,\n",
       " 'WEALTH': 4,\n",
       " 'WHEN': 3,\n",
       " 'WHETHER': 3,\n",
       " 'WHICH': 4,\n",
       " 'WHILE': 6,\n",
       " 'WILL': 40,\n",
       " 'WINNING': 2,\n",
       " 'WITH': 8,\n",
       " 'WOMEN': 2,\n",
       " 'WORKERS': 2,\n",
       " 'WORLD': 6,\n",
       " 'YEARS': 2,\n",
       " 'YOU': 12,\n",
       " 'YOUR': 11}"
      ]
     },
     "execution_count": 6,
     "metadata": {},
     "output_type": "execute_result"
    }
   ],
   "source": [
    "static={}\n",
    "for i in trump_split:\n",
    "    if trump_split.count(i)>1:\n",
    "        static[i]=trump_split.count(i)\n",
    "del static['']\n",
    "static\n",
    "\n"
   ]
  },
  {
   "cell_type": "code",
   "execution_count": 10,
   "metadata": {
    "scrolled": true
   },
   "outputs": [
    {
     "data": {
      "text/plain": [
       "[('AND', 74),\n",
       " ('THE', 70),\n",
       " ('OF', 48),\n",
       " ('WE', 48),\n",
       " ('OUR', 48),\n",
       " ('WILL', 40),\n",
       " ('TO', 37),\n",
       " ('IS', 21),\n",
       " ('AMERICA', 17),\n",
       " ('A', 15),\n",
       " ('FOR', 15),\n",
       " ('ARE', 14),\n",
       " ('IN', 14),\n",
       " ('BUT', 13),\n",
       " ('YOU', 12),\n",
       " ('ALL', 12),\n",
       " ('AMERICAN', 12),\n",
       " ('BE', 12),\n",
       " ('THEIR', 11),\n",
       " ('FROM', 11),\n",
       " ('IT', 11),\n",
       " ('YOUR', 11),\n",
       " ('THIS', 10),\n",
       " ('NOT', 10),\n",
       " ('PEOPLE', 9),\n",
       " ('COUNTRY', 9),\n",
       " ('AGAIN', 9),\n",
       " ('ONE', 8),\n",
       " ('NATION', 8),\n",
       " ('THAT', 8),\n",
       " ('WITH', 8),\n",
       " ('EVERY', 7),\n",
       " ('ON', 7),\n",
       " ('WORLD', 6),\n",
       " ('NOW', 6),\n",
       " ('GREAT', 6),\n",
       " ('S', 6),\n",
       " ('HAS', 6),\n",
       " ('BACK', 6),\n",
       " ('WHILE', 6),\n",
       " ('BY', 6),\n",
       " ('NO', 6),\n",
       " ('NEVER', 6),\n",
       " ('NEW', 6),\n",
       " ('SAME', 6),\n",
       " ('PRESIDENT', 5),\n",
       " ('THEY', 5),\n",
       " ('HAVE', 5),\n",
       " ('TODAY', 5),\n",
       " ('PROTECTED', 5),\n",
       " ('ACROSS', 5),\n",
       " ('RIGHT', 5),\n",
       " ('AT', 5),\n",
       " ('OTHER', 5),\n",
       " ('MAKE', 5),\n",
       " ('AMERICANS', 4),\n",
       " ('CITIZENS', 4),\n",
       " ('TOGETHER', 4),\n",
       " ('POWER', 4),\n",
       " ('BEEN', 4),\n",
       " ('OR', 4),\n",
       " ('WEALTH', 4),\n",
       " ('JOBS', 4),\n",
       " ('HERE', 4),\n",
       " ('EVERYONE', 4),\n",
       " ('WHICH', 4),\n",
       " ('AS', 4),\n",
       " ('DREAMS', 4),\n",
       " ('HEART', 4),\n",
       " ('BRING', 4),\n",
       " ('GOD', 4),\n",
       " ('OBAMA', 3),\n",
       " ('ITS', 3),\n",
       " ('THESE', 3),\n",
       " ('FIRST', 3),\n",
       " ('TOO', 3),\n",
       " ('CAPITAL', 3),\n",
       " ('GOVERNMENT', 3),\n",
       " ('LEFT', 3),\n",
       " ('FACTORIES', 3),\n",
       " ('THERE', 3),\n",
       " ('FAMILIES', 3),\n",
       " ('MOMENT', 3),\n",
       " ('DAY', 3),\n",
       " ('UNITED', 3),\n",
       " ('WHETHER', 3),\n",
       " ('MILLIONS', 3),\n",
       " ('MANY', 3),\n",
       " ('AN', 3),\n",
       " ('SO', 3),\n",
       " ('I', 3),\n",
       " ('FOREIGN', 3),\n",
       " ('COUNTRIES', 3),\n",
       " ('BORDERS', 3),\n",
       " ('MUST', 3),\n",
       " ('LET', 3),\n",
       " ('DO', 3),\n",
       " ('WHEN', 3),\n",
       " ('THANK', 2),\n",
       " ('NATIONAL', 2),\n",
       " ('YEARS', 2),\n",
       " ('FACE', 2),\n",
       " ('GET', 2),\n",
       " ('DONE', 2),\n",
       " ('VERY', 2),\n",
       " ('BECAUSE', 2),\n",
       " ('TRANSFERRING', 2),\n",
       " ('ANOTHER', 2),\n",
       " ('PARTY', 2),\n",
       " ('WASHINGTON', 2),\n",
       " ('LONG', 2),\n",
       " ('SMALL', 2),\n",
       " ('SHARE', 2),\n",
       " ('POLITICIANS', 2),\n",
       " ('LAND', 2),\n",
       " ('BELONGS', 2),\n",
       " ('STATES', 2),\n",
       " ('FORGOTTEN', 2),\n",
       " ('MEN', 2),\n",
       " ('WOMEN', 2),\n",
       " ('LONGER', 2),\n",
       " ('MOVEMENT', 2),\n",
       " ('BEFORE', 2),\n",
       " ('EXISTS', 2),\n",
       " ('CHILDREN', 2),\n",
       " ('SAFE', 2),\n",
       " ('GOOD', 2),\n",
       " ('LIKE', 2),\n",
       " ('STOPS', 2),\n",
       " ('PAIN', 2),\n",
       " ('SUCCESS', 2),\n",
       " ('GLORIOUS', 2),\n",
       " ('DESTINY', 2),\n",
       " ('OATH', 2),\n",
       " ('ALLEGIANCE', 2),\n",
       " ('VE', 2),\n",
       " ('MADE', 2),\n",
       " ('STRENGTH', 2),\n",
       " ('OVER', 2),\n",
       " ('EVEN', 2),\n",
       " ('ABOUT', 2),\n",
       " ('WORKERS', 2),\n",
       " ('ONLY', 2),\n",
       " ('CITY', 2),\n",
       " ('FIGHT', 2),\n",
       " ('BREATH', 2),\n",
       " ('WINNING', 2),\n",
       " ('FOLLOW', 2),\n",
       " ('SEEK', 2),\n",
       " ('NATIONS', 2),\n",
       " ('WAY', 2),\n",
       " ('LIFE', 2),\n",
       " ('ANYONE', 2),\n",
       " ('OLD', 2),\n",
       " ('EARTH', 2),\n",
       " ('LOYALTY', 2),\n",
       " ('US', 2),\n",
       " ('ALWAYS', 2),\n",
       " ('TALK', 2),\n",
       " ('ACTION', 2),\n",
       " ('TIME', 2),\n",
       " ('MOUNTAIN', 2),\n",
       " ('OCEAN', 2),\n",
       " ('BLESS', 2)]"
      ]
     },
     "execution_count": 10,
     "metadata": {},
     "output_type": "execute_result"
    }
   ],
   "source": [
    "dict = sorted(static.items(), key=lambda d:d[1], reverse = True)\n",
    "dict"
   ]
  },
  {
   "cell_type": "code",
   "execution_count": 3,
   "metadata": {
    "collapsed": true
   },
   "outputs": [],
   "source": [
    "f=trump_speech"
   ]
  },
  {
   "cell_type": "code",
   "execution_count": 4,
   "metadata": {
    "collapsed": true
   },
   "outputs": [],
   "source": [
    "cnt=0"
   ]
  },
  {
   "cell_type": "code",
   "execution_count": 6,
   "metadata": {},
   "outputs": [],
   "source": [
    "dict={}"
   ]
  },
  {
   "cell_type": "code",
   "execution_count": null,
   "metadata": {
    "collapsed": true
   },
   "outputs": [],
   "source": [
    "for line in f.readlines():\n",
    "    ele = line.strip().split()\n",
    "    for word in ele:\n",
    "        if word in dic"
   ]
  }
 ],
 "metadata": {
  "kernelspec": {
   "display_name": "Python 3",
   "language": "python",
   "name": "python3"
  },
  "language_info": {
   "codemirror_mode": {
    "name": "ipython",
    "version": 3
   },
   "file_extension": ".py",
   "mimetype": "text/x-python",
   "name": "python",
   "nbconvert_exporter": "python",
   "pygments_lexer": "ipython3",
   "version": "3.6.1"
  }
 },
 "nbformat": 4,
 "nbformat_minor": 2
}
