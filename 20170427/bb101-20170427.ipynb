{
 "cells": [
  {
   "cell_type": "code",
   "execution_count": 1,
   "metadata": {
    "collapsed": true
   },
   "outputs": [],
   "source": [
    "import requests\n",
    "from bs4 import BeautifulSoup"
   ]
  },
  {
   "cell_type": "code",
   "execution_count": 2,
   "metadata": {
    "collapsed": true
   },
   "outputs": [],
   "source": [
    "def article_crawler(url):#把爬蟲做成function\n",
    "    \"\"\"\n",
    "    Input:\n",
    "           url -> https://www.ptt.cc/bbs/NBA/M.1493020274.A.8BA.html\n",
    "    \n",
    "    Output:\n",
    "           article_dict -> {'url': \"https://www.ptt.cc/bbs/NBA/M.1493020274.A.8BA.html\",\n",
    "                            'title': \"Re: [討論] 看完雷霆火箭G4，鬍龜隊友真的差不多嗎?\",\n",
    "                            'author': \"griefman (小蟻天)\",\n",
    "                            'tm': \"Mon Apr 24 15:51:07 2017\"\n",
    "                            'board': \"NBA\",\n",
    "                            'ip': '127.0.0.1,\n",
    "                            'content': \"※ 引述《adonistao (三部五十)》之銘言：\n",
    "                                        : ※ 引述《Turtle100 (龜龜100)》之銘言：\n",
    "                                        : : 差很多\n",
    "                                        : : 先說結論\n",
    "                                        : : 跟鬍子打球:\n",
    "                                        : : 你覺得火箭每個人都是巨頭 。\n",
    "                                        : : 跟西河打球:.............................\",\n",
    "                            'push': [\n",
    "                                      {'type': '推',\n",
    "                                      'contente': '為啥雷霆隊友全面雜魚化?',\n",
    "                                      'tm': '04/24 15:54'},\n",
    "                                      {'type': '推',\n",
    "                                      'contente': '為啥雷霆隊友全面雜魚化?',\n",
    "                                      'tm': '04/24 15:54'},\n",
    "                                      {'type': '推',\n",
    "                                      'contente': '為啥雷霆隊友全面雜魚化?',\n",
    "                                      'tm': '04/24 15:54'},\n",
    "                                      {'type': '推',\n",
    "                                      'contente': '為啥雷霆隊友全面雜魚化?',\n",
    "                                      'tm': '04/24 15:54'},\n",
    "                            ]}\n",
    "                            \n",
    "    Note:\n",
    "            文章內容，與其用精準的selector，不如把不相干的（或是已經爬下來的）Tag給刪掉。\n",
    "            https://www.crummy.com/software/BeautifulSoup/bs4/doc/#decompose\n",
    "    \n",
    "    \"\"\"\n",
    "    article_dict = {}\n",
    "    \n",
    "    res = requests.get(url) #獲取來源 <Response [200]>\n",
    "    soup = BeautifulSoup(res.text, 'lxml') #將res資料讀進beautifulSoup\n",
    "    meta_lines = soup.select('div.article-metaline > span')#選擇div內的article-metaline內的span標籤，右鍵copy->selector\n",
    "    article_dict['author'] = meta_lines[1].text\n",
    "    article_dict['title']  = meta_lines[3].text\n",
    "    article_dict['tm']     = meta_lines[5].text\n",
    "    article_dict['board']  = soup.select('div.article-metaline-right > span')[1].text\n",
    "    \n",
    "    pushs = []\n",
    "    for push in soup.select('div.push'):\n",
    "        push_dict = {}\n",
    "        push_dict['push_type']    = push.select_one('.push-tag').text.strip()\n",
    "        push_dict['push_author']  = push.select_one('.push-userid').text.strip()\n",
    "        push_dict['push_content'] = push.select_one('.push-content').text.replace(': ', '')\n",
    "        push_dict['push_tm']      = push.select_one('.push-ipdatetime').text.strip()\n",
    "        pushs.append(push_dict)\n",
    "    \n",
    "    article_dict['pushs'] = pushs\n",
    "    \n",
    "    for trash in soup.select('div.article-metaline > span') + soup.select('div.article-metaline-right > span') + soup.select('div.push'):\n",
    "        trash.decompose()\n",
    "        \n",
    "# Beautiful Soup 模塊提供了 decompose() 和 extract() 方法來刪除節點。\n",
    "# decompose() 方法刪除節點，不僅會刪除當前節點，還會把其子節點一塊刪除了。 \n",
    "# extract() 方法用來從 HTML 樹中刪除節點或者字符串內容。\n",
    "        \n",
    "    content_raw = soup.select_one('#main-content').text.strip()\n",
    "    article_dict['ip']      = content_raw.split(', 來自: ')[1].split('\\n※ 文章網址:')[0]\n",
    "    article_dict['content'] = content_raw.split('\\n※ 發信站')[0]\n",
    "    \n",
    "    return article_dict"
   ]
  },
  {
   "cell_type": "code",
   "execution_count": 4,
   "metadata": {
    "collapsed": true
   },
   "outputs": [],
   "source": [
    "nba_data = article_crawler(\"https://www.ptt.cc/bbs/NBA/M.1493231113.A.172.html\")"
   ]
  },
  {
   "cell_type": "code",
   "execution_count": 5,
   "metadata": {},
   "outputs": [
    {
     "data": {
      "text/plain": [
       "'Thu Apr 27 02:25:07 2017'"
      ]
     },
     "execution_count": 5,
     "metadata": {},
     "output_type": "execute_result"
    }
   ],
   "source": [
    "nba_data['tm']"
   ]
  },
  {
   "cell_type": "code",
   "execution_count": 6,
   "metadata": {
    "scrolled": true
   },
   "outputs": [
    {
     "data": {
      "text/plain": [
       "'[外絮] NBA算你們走運 - Dion Waiters'"
      ]
     },
     "execution_count": 6,
     "metadata": {},
     "output_type": "execute_result"
    }
   ],
   "source": [
    "nba_data['title']"
   ]
  },
  {
   "cell_type": "code",
   "execution_count": 7,
   "metadata": {},
   "outputs": [
    {
     "data": {
      "text/plain": [
       "{'author': 'yiyi7443 (不捨)',\n",
       " 'board': 'NBA',\n",
       " 'content': \"The NBA Is Lucky I’m Home Doing Damn Articles\\n\\n日\\u3000\\u3000期：APR 25 2017\\n作\\u3000\\u3000者：Dion Waiters(現役邁阿密熱火隊後衛)\\n原文連結：\\nhttps://www.theplayerstribune.com/dion-waiters-miami-heat-nba-is-lucky/\\nhttp://i.imgur.com/kMFQmKm.jpg\\n\\nY'all seen Casino, right?\\n\\n你們都看過《賭國風雲》這部電影吧？\\n\\nYou know, the one with Robert De Niro and Joe Pesci in Vegas? Anyway — that\\none.\\n\\n勞勃狄尼洛和喬派西在拉斯維加斯的那部就是了。\\n\\nIf you want to know what it’s like to meet Pat Riley, you need to watch that\\nmovie.\\n\\n如果你想知道和帕特萊利會面的感覺，一定要看這部電影。\\n\\nWhen I heard that Miami was interested in me this summer, I wasn’t really\\nseeing it at first. Nothing against the Heat, but I didn’t know how I’d fit\\nthere.\\n\\n當我知道邁阿密對我有意思的時候，我一開始沒什麼興趣。\\n不是對熱火有意見，只是不曉得自己適不適合那裡。\\n\\nThen I met Pat Riley.\\n\\n然後我見到了帕特萊利。\\n\\nI walked into his office and … damn. The hair was slicked back, and he was\\nwearing one of those suits of his, you know, real O.G., looking like a\\nmillion bucks. Behind him, he’s got photos of all his championship teams\\nlining the walls. He’s wearing one of his nine rings.\\n\\n我走進他的辦公室然後……哇靠！\\n他的油頭往後梳得光亮，身上穿著整套西裝，\\n你知道，那種真正幫派老大會穿的天價西裝。\\n在他身後，有整排整排他領軍的所有冠軍隊的照片。\\n他手上還帶著九個冠軍戒指其中的一個。\\n\\nHe’s sitting there looking like De Niro in Casino. He’s looking like the\\nboss. He’s looking like he’s seen it all, because he has.\\n\\n他坐在那裡，看起來就像《賭國風雲》的勞勃狄尼洛。\\n他看起來像個不折不扣的老大，看透世事。事實上也是這樣。\\n\\n\\nPurely as a basketball fan, I just want to learn from this man.\\n\\n我是個籃球迷，我很想從這個人身上學到一切。\\n\\nSo I listened.\\n\\n所以我聽他怎麼說。\\n\\nI knew right away Pat was a real guy, because he wasn’t even asking me about\\nbasketball. He was asking me about life.\\n\\n我馬上就知道帕特是個厲害角色，他甚至不跟我談籃球。他要我談談我的人生。\\n\\nThen Pat says, “We’re going to get you in world-class shape. Not good\\nshape. Not great shape. World-class shape.”\\n\\n然後帕特說：「我們會讓你達到世界級的狀態，不只是狀態好、\\n不只是優秀，是世—界—級的。」\\n\\nI mean, I’m in the NBA. In my mind, I’m already in good shape. But do I eat\\na Philly steak every now and then when I’m home? You know I do.\\n\\n是說，我都進了NBA了。在我看來，我狀態已經很好了。\\n雖然我回老家時，偶而還是會來一份費城牛肉三明治。你知道我非吃不可。\\n\\nSo Pat’s looking at me like, “Give us a season, and you’ll see.\\nWorld-class.”\\n\\n總之帕特盯著我說：「給我們一季，你就會知道。世—界—級的。」\\n\\nEven the way this man pronounces world-class is world-class, you know what I\\nmean?\\n\\n就連他講世—界—級這三個字的發音，都是世界級的，你懂我的意思吧？\\n\\nAnd then he says to me, “Tell me something about Dion that I don’t already\\nknow.\\nNot about basketball. About life.”\\n\\n然後他對我說：「告訴我一些關於你自己的事。不是那些我早就知道的，\\n不是有關籃球的，是關於人生的。」\\n\\nLet me tell you what I told Pat.\\n\\n讓我告訴你我跟帕特說了啥。\\n\\nPeople think they got me figured out.\\n\\n人們總以為他們對我很瞭。\\n\\nWaiters Island, the GIFs, the Philly Cheese Swag … all that shit, right?\\n\\n維特斯島嶼、各種GIF動圖、費城起司式霸氣……等等，是吧？\\n\\nMan, people have been underestimating me my whole life. I remember when I was\\nin ninth grade, I had just transferred over to South Philly High, and I was\\nwalking to class the first day when these two security guards came over to\\nme, mean-mugging me like there was a problem.\\n\\n我這一生都被人低估了。我記得我九年級時，剛轉學到南費城高中。\\n第一天我走進學校時，兩名警衛走過來，看我的眼神就像要找麻煩。\\n\\nThe one guard was like, “Hey! Young boy! Hey!”\\n\\n其中一名警衛喊：「喂！小子！喂！」\\n\\nThey’re questioning me, like, “Hey, what’re you doing here? What’s your\\nname, son?”\\n\\n他們盤問我：「你來這做啥？你叫什麼名字？」\\n\\nSo I pull the basketball roster out of my pocket, and I say, “I’m Dion\\nWaiters. I just transfered.”\\n\\n我從口袋裡拿出籃球隊名單，說：「我叫Dion Waiters，我剛轉學過來。」\\n\\nThe guard says, “Never heard of you.”\\n\\n警衛說：「從來沒聽過。」\\n\\nSo I say, “Man, I’m committed to Syracuse!”\\n\\n「拜託，我已經被雪城大學招募了！」\\n\\nThe other guard starts cracking up. He goes, “Son, you’re not committed to\\nSyracuse.”\\n\\n另一個警衛笑出來，說「小子，你不可能進雪城大學的。」\\n\\nThey’re looking me up and down, like, Nah, you ain’t shit.\\n\\n他們上下打量我，好像在說，你不過是個無名小卒。\\n\\nSo I say, “For real! Google me!”\\n\\n所以我說：「真的！估狗我！」\\n\\nNow they’re laughing their asses off, right?\\n\\n然後他們完全笑翻了。\\n\\nThe one guard goes, “Ain’t that some shit? Google me! I am gonna Google\\nthis kid, too.”\\n\\n警衛說：「真有你的，估狗我！那我就來估狗一下這小子吧。」\\n\\nSo they take me down to the office, and they Google me.\\n\\n他們把我帶到警衛室，然後估狗了我。\\n\\nMaxpreps.com. Dion Waiters. Committed to Syracuse.\\n\\n高中籃球員排名。Dion Waiters。雪城大學。\\n\\nThe guard goes, “Man, you weren’t lying!”\\n\\n警衛說：「天哪，你沒撒謊！」\\n\\nI’m looking at him like, uh-huh.\\n\\n我看著他想，嗯～哼。\\n\\nFrom that day on, every time I saw that guard in the hallway, he’d yell out,\\n“What’s up, Google Me?”\\n\\n從那天開始，每次我在走廊遇到那名警衛，他都會大喊：「估狗我，你好啊！」\\n\\nThat was like my third or fourth nickname.\\n\\n這大概是我第三還第四個綽號。\\n\\nMy first nickname was “Headache.”\\n\\n我第一個綽號是：「頭痛人物」。\\n\\nWe’ll get to that, but that’s not the story I told Pat.\\n\\n等等我會講到那部分，但這不是我告訴帕特的人生故事。\\n\\nI told Pat about some of the shit I’ve seen, and some of the people I’ve\\nlost. By the time I was 12 years old, both my mom and dad got shot. I’ve had\\nbrothers, cousins, uncles and friends get murdered. Too many to count, for\\nreal.\\n\\n我告訴帕特我經歷過的事、我失去過的人。\\n在我十二歲時，我的父母都已遭槍擊死亡。\\n我的兄弟、堂兄弟、叔叔伯伯，還有朋友被謀殺，人數多到數不清。\\n\\nYou know what the crazy thing about death and violence is? You get numb to\\nit. You really do.\\n\\n你知道關於死亡和暴力，最瘋狂的是什麼嗎？\\n你會對這些感到麻木，真的。\\n\\nSo because of everything I’d seen and lost, I decided from a young age: You\\nknow what? I’m just gonna f***ing ball out.\\n\\n因為這些經歷和失去，我很小的時候就下定決心：我要靠籃球打出一條路。\\n\\nSo I just willed myself to be a legend on the Philly playgrounds. By 12 years\\nold … Man, the streets knew who Dion Waiters was. I’d show up at E.M.\\nStanton or Chew’s Playground and dudes would be yelling, “Here comes\\nHeadache.”\\n\\n我靠著意志力讓自己成為費城街頭籃球場的一則傳奇。\\n我十二歲的時候，費城街頭沒人不知道Dion Waiters這號人物。\\n當我出現在E.M. Stanton或Chew’s這些球場時，人們都會喊著：「頭痛人物來了。」\\n\\nThese were the days of “And 1” and all those mixtapes. So we all got\\nnicknames. And since I was this cocky little kid who was always calling for\\nthe ball, and always dribbling, dudes started saying, “Man, you’re giving\\nme a headache.”\\n\\n那是“And 1”街頭籃球隊和錄影帶風行的年代。我們每個人都有綽號。\\n而我就是那個永遠都在要球、運球運不停的屁孩，\\n其他人開始說：「你真是讓我頭痛。」\\n\\nSo that was it. I was “Headache.”\\n\\n這就是我的綽號由來。我就是「頭痛人物」。\\n\\nMy rival was this dude named Rhamik. They called him “Little Giant” because\\nhe was small but he played like a big. One day, he showed up on my playground\\nwith his little squad, and he challenged me and my little squad. They beat\\nus, and they were talking so much trash afterwards. Oh my God.\\n\\n我的頭號對手名叫Rhamik，他的綽號是「小巨人」。因為他個子小但打得像大個兒。\\n有一天，他帶著手下來我的地盤挑戰我和我們這一幫。\\n他們打敗了我們，之後還噴了一堆垃圾話。我的老天啊！\\n\\nI was queasy. I was sick.\\n\\n這讓我作噁。我受不了。\\n\\nI wasn’t gonna let my name get tarnished like that, you know?\\n\\n我絕不能讓我的名聲這樣被踐踏，你懂嗎？\\n\\nSo we walked over to his playground and challenged them to a rematch the very\\nnext day. Man, I was on some Game 7 NBA Finals shit, for real. I wasn’t\\ngonna lose.\\n\\n所以隔天我們也去他們的地盤，找他們再打一場。\\n老天，我真正覺得自己打的是NBA總決賽的第七場。我絕對不能輸。\\n\\nWe killed ’em.\\n\\n我們徹底打敗了他們。\\n\\nNext day, Rhamik and his boys showed back up at our playground.\\n\\n再隔一天，Rhamik和他那幫人又在我們地盤出現了。\\n\\nAnd I’m like, Damn, is there about to be a problem? In South Philly, you\\nnever know. So I walk up to Rhamik, and he’s just like, “Good game, bro.”\\n\\n我想：靠！會不會有麻煩了？在南費城，你永遠不知道會怎樣。\\n我走向Rhamik，他對我說：「打得好，兄弟。」\\n\\nAfter that, we hung out together every day. We did everything together.\\nEverything. I slept at his house, or he slept at my house. Everybody in our\\nhood loved Rhamik. He was just a legendary kid. The thing people knew him\\nfor, other than ball, was skating.\\n\\n從那之後，我們每天都混在一起。做什麼事都一塊兒。每一件事。\\n我去他家睡覺，或者他來我家睡覺。我們這一帶的人都喜歡Rhamik。\\n他是個傳奇小子。讓他出名的，除了籃球，還有溜滑輪。\\n\\nSee, in Philly, skating was a huge deal. Still is. I’m not talking about,\\nyou know, Tony Hawk. I’m talking about roller skating — the brown skates\\nwith the four wheels. Every Sunday, we used to have these skating parties run\\nby Ms. Doris. If you were up to no good in school (which I usually was), Ms.\\nDoris would catch you at the door and be like, “Dion! You’re banned from\\nthe skating party until you start acting right.”\\n\\n在費城，溜滑輪是很受歡迎的，現在還是這樣。\\n我說的不是Tony Hawk那種滑板，是鞋底有四個輪子的溜滑輪。\\n每個星期天，Doris老師會辦溜滑輪聚會。\\n如果你（通常就是我）在學校表現不好，Doris老師會在門口攔住你，說：\\n「Dion，你不乖的話，就不准參加溜滑輪！」\\n\\nThat was a dagger. You did not wanna be banned from the skating party. That\\nwas the spot for meeting girls. If you’re picturing some disco thing, that’\\ns not what it was. This was like 100 Philly kids skating around to Rick Ross,\\ndoing the Philly Bop.\\n\\n這招有夠狠。你不會想被擋在溜滑輪大會的門外，那裡是泡妞的好地方。\\n你如果以為溜滑輪大會像是迪斯可，那你就搞錯了。\\n那比較像是一百多個費城小孩伴著Rick Ross的音樂溜滑輪，跳著費城專屬的舞蹈。\\n\\nAnd Rhamik was the best skater, period. He could skate his ass off. Before I\\nknew how to skate, I’d just go and watch him and be like, Damn. I gotta\\nlearn. This dude is killing it.\\n\\nRhamik溜滑輪是最棒的，無人可比。\\n在我還不會溜滑輪時，我看著他溜，心裡想著：靠！我一定要學。\\n這小子太強了！\\n\\nSo for, like, four years, it was ball and skating, ball and skating, every\\nday. If you were looking for me, there wasn’t no, “Where’s Dion?” It was\\nalways, “Yo, where’s Dion and Rhamik?”\\n\\n有整整四年，我們每天不是打籃球，就是溜滑輪。\\n如果你想找我，你不能說：「Dion在哪裡？」\\n你該問的是：「嘿，Dion和Rhamik在哪裡？」\\n\\nWhen we got to high school, you know how it goes. Things change. You start to\\nface certain realities. Rhamik was a smaller kid. He was still playing ball,\\nof course, but he was taking a little bit of a different path. When I was 15,\\nwe got split up, because I had an opportunity to go play ball at this\\nboarding school in Connecticut called South Kent.\\n\\n我們上高中之後，你也知道的。情況變了。人要開始面對現實。\\nRhamik的個子不高，當然，他還是在打球，但他的人生道路不一樣了。\\n在我十五歲的時候，我們分開了，那時我得到了一個機會，\\n去康乃迪克州一間叫南肯特的寄宿學校打籃球。\\n\\nStill, at that point, Syracuse seemed really, really far off. When you come\\nfrom my neighborhood, you live day to day. That’s how you get by. You think\\ntoo much about the future, and you might get your heart broken, you feel me?\\n\\n在那個時間點，雪城顯得非常非常地遙遠。\\n如果你和我出身相同，你只能過一天算一天，那是你過日子的方式。\\n你對未來想得太多，最後可能會讓自己心碎，你懂我的感受嗎？\\n\\nBut I remember my mom telling me, “Dion, you gotta get outta Philly for a\\nwhile. It’ll be good for you.”\\n但我還記得我媽對我說過：「Dion，你一定要離開費城，這樣對你有好處。」\\n\\nSo I packed my bags. It was the first time I ever experienced anything\\noutside my neighborhood, and man … I was so homesick it was crazy. South\\nKent is in the middle of nowhere. They do that on purpose, so you can’t get\\ninto any trouble. Isaiah Thomas was actually there with me. He was a\\nfifth-year senior, and he was the same size he is now, for real.\\n\\n所以我打包行李上路。這是我第一次離家，然後……我想家想瘋了。\\n南肯特整個鳥不生蛋，這地點是特別挑過的，這樣我們才不會惹是生非。\\nIsaiah Thomas那時也和我同校，他是高年級生，而且跟現在一樣高，我說真的。\\n\\nLook, I’m a confident guy. But even back then, I was watching Isaiah like,\\nYo, this dude is a killer.\\n\\n我是個超有自信的傢伙。但當時我看Isaiah打球時只覺得：這傢伙太殺了。\\n\\nHe lead the team in scoring and I was No. 2. Ain’t that crazy?\\n\\n他是隊上頭號得分手，我是第二。這是不是很瘋狂？\\n\\nBut I was just so bored up there. I mean, I go from rippin’ and runnin’ in\\nthe streets of Philly to … well, let me put it this way: the nearest\\nWal-Mart was like 45 minutes away. On Saturdays, we took a bus to Wal-Mart.\\nThat was our big thing for the week. Philly is in my blood, you know? I went\\nup there to escape for a while, but eventually … Well, you can’t escape\\nfrom life, can you?\\n\\n我在那裡超級無聊。是說，從在費城街頭亂竄到這裡……讓我這麼說吧：\\n離這裡最近的Wal-Mart開車要45分鐘。\\n每個星期六，我們搭巴士去逛Wal-Mart。這就是一週裡的頭條大事。\\n我血管裡流的畢竟是費城的血。我來到這裡，想要暫時逃開，\\n但到頭來……你終究不能逃離自己的人生，不是嗎？\\n\\nI got a phone call. I’ll never forget. I was on my way to a tournament, and\\nmy Philly boy called me and said, “Uh … man …”\\n\\n我接到一通電話，我永遠也忘不了。那時我正在參加比賽，\\n我的費城麻吉打給我說：「呃～老兄……」\\n\\nI’m like, “What’s going on? Say it.”\\n\\n「怎麼了？你說啊！」\\n\\n“… Rhamik got shot.”\\n\\n「Rhamik中槍了。」\\n\\nAfter a while, after you hear it so many times, you don’t even need to ask,\\n“Is he dead?” You can tell from the tone of voice.\\n\\n在你聽過無數次類似的噩耗之後，你根本不用問「他死了嗎？」\\n從電話裡的聲音就聽得出來。\\n\\nI was stunned. Numb don’t even describe it … I went on MySpace that night,\\nand everybody had photos of Rhamik as their profile picture, and it hit me so\\nhard. I just broke down. I lost it.\\n\\n我呆若木雞。麻木已經無法形容……\\n那天晚上我登入了MySpace，每個朋友都把自己的頭像換成了Rhamik。\\n這完全擊潰了我，我崩潰了。\\n\\nThat was my boy. We were the same. Out of all the people I lost … Rhamik?\\nThey had to kill Rhamik?\\n\\n我最好的兄弟，我們就是一體。我失去了那麼多親人朋友，連Rhamik也……？\\n他們一定要連Rhamik也殺掉嗎？\\n\\nThat was probably the last time I even asked myself Why?\\n這可能是我最後一次問自己：為什麼？\\n\\nEverybody loved this kid. Me and Rhamik used to go to the park at 12, 13\\nyears old to play with the older dudes, and we’d have that thing packed like\\na Baby Rucker. People used to show up just to watch us ball. I’m talking\\npacked, gate to gate, to watch some middle schoolers ball out.\\n\\n人人都愛Rhamik，我們倆從十二、三歲起就到球場和大人打球。\\n很多人特地來看我們打球，球場周遭擠得水洩不通，就為了看幾個中學生打球。\\n\\nI think about that shit sometimes and I almost cry. There was no difference\\nbetween me and him. We were the exact same. Only difference was, I went up to\\nConnecticut at 15, and I got put on a certain path …\\n\\n偶爾想起這些往事，我幾乎要哭了出來。我們兩個人不分你我，就像一體。\\n唯一的不同是，在15歲的時候我去了康乃迪克，走上了另外一條路……\\n\\nAnd yeah, I messed up a bunch of times, and almost quit, and all that stuff,\\nbut it didn’t matter.\\n\\n沒錯，我搞砸過幾次，還差點放棄，一些有的沒的，不過這都不要緊。\\n\\nI was on a path … And I made it, somehow.\\n\\n我踏上了這條路……我辦到了，某種程度來說。\\n\\nThat’s where I’m from. That’s just a slice of the life I’ve lived.\\n\\n這就是我的出身，這只是我人生的一小部分。\\n\\nNormally, I don’t like to talk about this stuff. But when somebody real asks\\nme about my life, I tell ’em. So when I walked into Pat Riley’s office last\\nsummer, and he asked me, I told him. Now I’m telling you.\\n\\n我一般不喜歡談這些。但如果有人真正問起我的人生，我會講給他們聽。\\n去年夏天我走進帕特萊利的辦公室，他問了我，我講給他聽。\\n現在我也講給你們聽了。\\n\\nYou know, it’s hilarious to me. I’m not a big Internet guy, but I see\\nthings. I see what people say about me. I see the GIFs and all that.\\n\\n有時候我覺得很好笑。我不怎麼愛上網，但有些事我還是知道的。\\n我知道別人怎麼說我，我看過那些GIF和那些議論。\\n\\nThey say, “He never seen a shot he don’t like.”\\n\\n人們說：「在他眼裡沒有不好的出手選擇。」\\n\\n“He’s got irrational confidence.”\\n\\n「他的自信心爆表。」\\n\\n“He thinks he’s the best player in the NBA.”\\n\\n「他以為自己是NBA最棒的球員。」\\n\\nHell yeah I do.\\n\\n沒錯，我就是。\\n\\nI have to.\\n\\n我必須如此。\\n\\nListen, now you know where I’m from. Picture yourself walking into a South\\nPhilly playground at 12 years old, with grown-ass men, bleachers packed with\\npeople, trying to get a run in.\\n\\n聽著，現在你知道我的出身了。想像你才12歲，\\n走進南費城的街球場，和一群大人打球，\\n看臺上擠滿了觀眾，而你要試著出手得分。\\n\\nYou think you can survive in Philly without irrational confidence?\\n\\n沒有爆表的自信，你以為有辦法在費城街球場生存嗎？\\n\\nYou will never in your life hear the words, “I can’t” come out of Dion\\nWaiters’ mouth.\\n\\n你這輩子絕不會從我口中聽到「我辦不到」這四個字。\\n\\nI can. I will. I already did.\\n\\n我能，我會。我已經辦到了。\\n\\nAnd remember, my first five years in the NBA, I played with some of the best\\nin the game. LeBron, KD, Russ. I’d see these guys every day. And you know I\\nwasn’t just playing … I was competing.\\n\\n記住，我NBA生涯的前五年，我和一些最棒的球員一起打球，LeBron, KD, Russ。\\n我每天都會遇到這些傢伙，你要知道我不只是打球，我是在競爭。\\n\\nWhen I got to OKC, me and K.D. were together every day. Kev used to think it\\nwas funny, because when we got in the gym and played 1-on-1, I was trying to\\nkill him. Straight up.\\n\\n到雷霆隊後，我和KD每天都在一起。\\nKD曾經覺得這很好笑，因為每次我們在球館裡一對一的時候，我都想幹掉他。不開玩笑。\\n\\nGo ahead and ask him who won our last game.\\n\\n去問問他我們最後一次單挑，是誰贏了。\\n\\nAsk him. He’ll tell you.\\n\\n問他，他會跟你講。\\n\\nHe won a lot, too. But I got him plenty.\\n\\n他贏了很多次。但我也打敗過他。\\n\\nKev used to talk wild trash to me, too. People don’t know that about him. Of\\ncourse, you know me. I’m coming at him fully-loaded. But he’d go right back\\nat me. He’d try to post me up, and I’d be on some Philly Baby Rucker shit.\\nI was pulling out every trick. I’d be squeezing his hips, right in the weak\\nspot.\\n\\nKD會對我狂噴垃圾話。很多人都不知道他有這一面。\\n當然你知道我這個人，我噴他時火力全開。但他完全可以和我對噴。\\n他會試著低位吃我，我會使出費城街籃的各種不入流招數，捏他屁股、打他弱點。\\n\\nI loved it. I loved that team.\\n\\n我喜歡和KD單挑，我愛那支隊伍。\\n\\nI genuinely thought I was going to be back in OKC this season, and we were\\ngoing to make another run at it. But things didn’t work out that way,\\nbecause basketball is a business. When I got a call from Miami, I went down\\nthere and walked into the O.G. Pat Riley’s office. It was damn near the best\\nthing that’s happened in my NBA career.\\n\\n我真的以為自己這季會回到雷霆隊，我們會再次衝擊冠軍。\\n可惜事情並不如我所願，籃球畢竟是個生意。\\n我接到邁阿密的來電，我去了那裡，走進幫派老大帕特萊利的辦公室。\\n這大概算得上是我NBA生涯裡最棒的事了。\\n\\nI remember when I made my decision to sign with the Heat, I had to break the\\nnews to my son. He’s three.\\n\\n我記得決定和熱火簽約後，我和三歲的兒子說了這個消息。\\n\\nhttp://i.imgur.com/f6AYtwS.jpg\\n\\nHe said, “We have to leave Oklahoma? No!”\\n\\n他說：「我們要離開奧克拉荷馬？不！」\\n\\n(He loves OKC.)\\n\\n（他愛奧克拉荷馬。）\\n\\nI said, “Yeah, we don’t got a choice.”\\n\\n我說：「但是我們沒得選。」\\n\\n“And we have to move to Miami?”\\n\\n「我們要搬到邁阿密去？」\\n\\n“Yup.”\\n\\n「對。」\\n\\n(Big sigh.)\\n\\n（大大地嘆口氣。）\\n\\n“… O.K.”\\n\\n「……好吧。」\\n\\nI’m telling you, I had to sell this kid on it. I’m showing him pictures of\\nswimming pools and everything.\\n\\n跟你們說，我花了很大力氣說服這孩子。我給他看了超多游泳池和其他各種照片。\\n\\nCan I be honest with you, though?\\n\\n但我可以說句老實話嗎？\\n\\nWhen Pat said “world-class shape,” I thought it sounded cool, but in my\\nhead, I was like, Yeah, I got this. I’m in world-class shape. You already\\nknow.\\n當帕特說「世界級的狀態」時，我覺得聽起來很酷。\\n但我心裡想：好啦，我瞭。我已經是世界級的狀態啦！你知道的。\\n\\nSo I show up for camp, and after one week, my body is shot. I was damn near\\nthrowing up in trash cans like in the movies.\\n\\n接著我到訓練營報到。一星期之後，我身體跟中彈了差不多。\\n我差點就跟電影裡演的一樣，抱著垃圾桶嘔吐。\\n\\nAnd I realized, You know what? Pat was not just talking that smooth talk.\\nThis Heat thing is the real deal.\\n\\n這時我才瞭解，帕特可不只是說得好聽而已。關於熱火這些都是來真的。\\n\\nWhen I went down with a groin injury in November and missed 20 games, I was\\nseething. We slipped to 11-30, and everybody had given up on us. People were\\nsaying we should tank for a pick.\\n\\n十一月時我因為腹股溝傷勢缺陣了20場比賽，我氣死了。\\n我們戰績下滑到11勝30敗。所有人都不看好我們，還說我們應該擺爛換個好籤。\\n\\nHaaaaa.\\n\\n哈！\\n\\nCome on, man.\\n\\n拜託。\\n\\nAs long as I’m on the floor, you know what we’re not doing.\\n\\n只要我在場上，我們就絕不會擺爛。\\n\\nWhen I came back in January, I was so locked in it was crazy. I kept telling\\neverybody, “All we gotta do is win seven or eight in a row, and we’re right\\nback in it.”\\n\\n一月份我回到場上，我全神貫注到瘋狂的程度。\\n我跟每個人說：「我們只要連勝個七、八場，就重回競爭行列了。」\\n\\nHell, I remember we played Kev and those boys in Golden State, and I had just\\ncome back. I was going at Kev hard that night, but they beat us. We went out\\nto dinner after the game, and I told him, “Bro, we’re about to go on a run.\\n”\\n\\n靠，我記得我們去金州和KD他們打的時候，我傷剛好。\\n我對陣KD打得很兇，但那晚他們擊敗了我們。\\n賽後我和KD去吃飯，我跟他說：「老兄，我們要開始連勝了。」\\n\\nHe was looking at me like like, Yeah, alright.\\n\\n他看著我就像是：哦，最好是。\\n\\nI said, “Naw, I’m serious. We’re gonna rip off seven straight.”\\n\\n我說：「我是認真的，我們馬上就要七連勝了。」\\n\\nHe said, “Yeah, but we’re coming to Miami in two weeks.”\\n\\n他說：「但是再過兩週我們就要去邁阿密了耶。」\\n\\nI said, “Yeah, that’s a W. Bet.”\\n\\n我說：「對，我們會贏。跟你打賭。」\\n\\nHe was laughing his ass off.\\n\\n他差點沒笑死。\\n\\nWe got back home and won three straight, and then Kev and those boys came to\\nour building.\\n\\n我們回到主場，拿下三連勝。然後KD和那些金州男孩來到我們球館。\\n\\nWe gave ’em everything they could handle. We weren’t scared. I saw right\\naway how Kev was playing me, like he was daring me to shoot the ball. I told\\nhim, “Bro, I’m feeling good. You see the last four games? Y’all in for a\\nlong night.”\\n\\n我們讓他們難以招架，我們毫不怯場。\\n我馬上就看出KD打算怎麼守我，他想放我投籃。我對他說：\\n「老哥，我狀態正好。你看到我們前面四連勝了嗎？你們這一夜不好過了。」\\n\\nWe’re talking trash like we’re playing 1-on-1 back in OKC.\\n\\n我們互噴垃圾話，就像在雷霆一對一那時一樣。\\n\\nFourth quarter, 10 seconds left. Tie game. I got the ball in my hands with\\nthe game on the line, and I already knew what was gonna happen. F*** an\\novertime, let’s get up outta here.\\n\\n第四節，終場前十秒。兩隊比數相同。\\n比賽勝負未定，球在我手上，而我知道接下來會怎樣。\\n去他的加時賽，讓我們就此終結比賽。\\n\\nWhat’s the analytics on that?\\n\\n球賽的數據分析？\\n\\nThat’s a W.\\n\\n就一個字「贏」。\\n\\nThen I hit ’em with the pose.\\n\\n我把球投進後雙手抱胸。\\n\\nPeople ask me all the time, “What’s that mean?”\\n\\n人們一直問我：「那是什麼意思？」\\n\\nIt don’t mean nothing.\\n\\n沒什麼特別意思。\\n\\nIt’s just the Philly in me.\\n\\n這只是我血管裡流著費城的血。\\n\\nAfter that, we ripped off 13 straight. Nobody wanted to see us in the first\\nround. Nobody.\\n\\n之後，我們拿下了13連勝。沒有人想在第一輪對上我們。沒有人。\\n\\nLook, I know we fell one game short of the playoffs, and it kills me. If I\\nhadn’t gone down with an injury, I think we all know where we’d be right\\nnow. But you know what? The run this season was magical. Our fans sold out\\nthe arena every night, even when we were left for dead.\\n\\n我知道我們差一場沒進季後賽，這讓我很痛苦。\\n如果我沒受傷，我想你們都知道我們現在會在哪。\\n但你們知道嗎？這個賽季很神奇。\\n即使沒人在乎我們死活時，球迷還是場場滿座。\\n\\nI love Miami. I had a hell of a season here.\\n\\n我愛邁阿密，我在這裡有個很棒的賽季。\\n\\nMy son even got a little girlfriend down here. He’s three. Can you believe\\nthat? Miami is like that. She runs right up to him to give him a hug and\\nsays, “Hi, boyfriend.” Then she runs away.\\n\\n我兒子在這裡交了一個女朋友。他才三歲耶。你相信嗎？邁阿密就是這麼一個地方。\\n一個小女生跑向他，給了他一個擁抱，說：「嗨，男朋友。」然後就跑開了。\\n\\nIt’s mind blowing.\\n\\n這簡直讓人傻眼。\\n\\nI try to tell him, “Hey, you gotta be careful down here, son.”\\n\\n我跟兒子說：「嘿，你在這裡要當心喔，兒子。」\\n\\nHe’s not hearing it.\\n\\n但他根本沒聽進去。\\n\\nHopefully, we found a home down here. However it shakes out, this has been a\\nhell of a ride this season, and now that you know a little bit about where I\\ncome from, and what I’ve seen, you know I’m being real with you when I say\\nthat I’m just thankful.\\n\\n希望我們能在這裡找到一個家。不管後來怎麼發展，這都是精采的一季。\\n現在你知道我從哪裡來、我經歷過什麼，\\n你知道，當我說我心存感激時，完全是發自內心的。\\n\\n(I know Kev is reading this right now, like, “Thank God this dude is at home\\ndoing articles instead of lurking in the playoffs.”)\\n\\n（我知道KD會讀這篇文章，然後會想：「謝謝老天這傢伙現在只能在家寫文章，\\n而不是在打季後賽。」）\\n\\nYou didn’t wanna see us, Kev!\\n\\nKD, 你不會想在季後賽遇到我們！\\n\\n（全文完）\\n\\n--\",\n",
       " 'ip': '36.224.6.88',\n",
       " 'pushs': [{'push_author': 'efbnm753',\n",
       "   'push_content': '好文章 熱火真的是可惜了',\n",
       "   'push_tm': '04/27 02:31',\n",
       "   'push_type': '推'},\n",
       "  {'push_author': 'blur13',\n",
       "   'push_content': '你是虎撲那個翻譯的嗎?',\n",
       "   'push_tm': '04/27 02:32',\n",
       "   'push_type': '→'},\n",
       "  {'push_author': 'event1408472',\n",
       "   'push_content': '帥',\n",
       "   'push_tm': '04/27 02:33',\n",
       "   'push_type': '推'},\n",
       "  {'push_author': 'w926316',\n",
       "   'push_content': '推',\n",
       "   'push_tm': '04/27 02:34',\n",
       "   'push_type': '推'},\n",
       "  {'push_author': 'efbnm753',\n",
       "   'push_content': '萊里的訓練貌似是真的操到爆表 歐肥以前也抱怨過蠻',\n",
       "   'push_tm': '04/27 02:34',\n",
       "   'push_type': '→'},\n",
       "  {'push_author': 'efbnm753',\n",
       "   'push_content': '多次的 這跟熱火的傷兵問題有關聯性嗎？',\n",
       "   'push_tm': '04/27 02:34',\n",
       "   'push_type': '→'},\n",
       "  {'push_author': 'dogville',\n",
       "   'push_content': '這是誰翻的? 原po嗎?',\n",
       "   'push_tm': '04/27 02:36',\n",
       "   'push_type': '推'},\n",
       "  {'push_author': 'dogville',\n",
       "   'push_content': '文章這麼長 而且翻得很好 辛苦了',\n",
       "   'push_tm': '04/27 02:37',\n",
       "   'push_type': '→'},\n",
       "  {'push_author': 'allen2034',\n",
       "   'push_content': '熱火的訓練一向超鬼神...',\n",
       "   'push_tm': '04/27 02:38',\n",
       "   'push_type': '推'},\n",
       "  {'push_author': 'blur13',\n",
       "   'push_content': '看完這篇會對服務生改觀 不過他投籃選擇還是很...',\n",
       "   'push_tm': '04/27 02:38',\n",
       "   'push_type': '推'},\n",
       "  {'push_author': 'xzxz6175179',\n",
       "   'push_content': '翻的很好',\n",
       "   'push_tm': '04/27 02:38',\n",
       "   'push_type': '推'},\n",
       "  {'push_author': 'stand1234',\n",
       "   'push_content': '原來Waiters有這樣的過去啊，難怪有這樣的意志力…',\n",
       "   'push_tm': '04/27 02:39',\n",
       "   'push_type': '推'},\n",
       "  {'push_author': 'arashicool',\n",
       "   'push_content': '好文章 NBA其實很多球員小時候的生活跟死亡走很近',\n",
       "   'push_tm': '04/27 02:42',\n",
       "   'push_type': '推'},\n",
       "  {'push_author': 'SeaBear',\n",
       "   'push_content': '讚',\n",
       "   'push_tm': '04/27 02:42',\n",
       "   'push_type': '推'},\n",
       "  {'push_author': 'Fearearth',\n",
       "   'push_content': '開始喜歡Waiters了，曾經覺得他就是一個不符期待不',\n",
       "   'push_tm': '04/27 02:42',\n",
       "   'push_type': '推'},\n",
       "  {'push_author': 'Fearearth',\n",
       "   'push_content': '努力的樂透秀而已',\n",
       "   'push_tm': '04/27 02:42',\n",
       "   'push_type': '→'},\n",
       "  {'push_author': 'yusuke362',\n",
       "   'push_content': '對服務生改觀了 加油',\n",
       "   'push_tm': '04/27 02:42',\n",
       "   'push_type': '推'},\n",
       "  {'push_author': 'madgame',\n",
       "   'push_content': '很感人',\n",
       "   'push_tm': '04/27 02:43',\n",
       "   'push_type': '推'},\n",
       "  {'push_author': 'asd2654033',\n",
       "   'push_content': '我默默的看完了...',\n",
       "   'push_tm': '04/27 02:44',\n",
       "   'push_type': '推'},\n",
       "  {'push_author': 'lafayee',\n",
       "   'push_content': 'MYSPACE?? HAHA',\n",
       "   'push_tm': '04/27 02:44',\n",
       "   'push_type': '→'},\n",
       "  {'push_author': 'arashicool',\n",
       "   'push_content': '小AI LBJ T-MAC 甜瓜 KG...等 小時候過著也很苦',\n",
       "   'push_tm': '04/27 02:45',\n",
       "   'push_type': '推'},\n",
       "  {'push_author': 'arashicool',\n",
       "   'push_content': '不是小AI AI才對',\n",
       "   'push_tm': '04/27 02:45',\n",
       "   'push_type': '→'},\n",
       "  {'push_author': 'philxiao',\n",
       "   'push_content': '小AI的成長家庭背景似乎還算正常，相較其他悲慘故事',\n",
       "   'push_tm': '04/27 02:49',\n",
       "   'push_type': '推'},\n",
       "  {'push_author': 'blur13',\n",
       "   'push_content': 'http://imgur.com/a/3p5Xh 服務生加盟熱火前後身材',\n",
       "   'push_tm': '04/27 02:49',\n",
       "   'push_type': '推'},\n",
       "  {'push_author': 'blur13',\n",
       "   'push_content': '對照圖',\n",
       "   'push_tm': '04/27 02:49',\n",
       "   'push_type': '→'},\n",
       "  {'push_author': 'philxiao',\n",
       "   'push_content': '不過小AI老爸是非洲移民',\n",
       "   'push_tm': '04/27 02:49',\n",
       "   'push_type': '→'},\n",
       "  {'push_author': 'baiweilo',\n",
       "   'push_content': '翻譯推',\n",
       "   'push_tm': '04/27 02:50',\n",
       "   'push_type': '推'},\n",
       "  {'push_author': 'efbnm753',\n",
       "   'push_content': '左邊看起來不像打籃球的',\n",
       "   'push_tm': '04/27 02:50',\n",
       "   'push_type': '推'},\n",
       "  {'push_author': 'amuro0126',\n",
       "   'push_content': '好文給推',\n",
       "   'push_tm': '04/27 02:51',\n",
       "   'push_type': '推'},\n",
       "  {'push_author': 's90523',\n",
       "   'push_content': '好感人',\n",
       "   'push_tm': '04/27 02:53',\n",
       "   'push_type': '推'},\n",
       "  {'push_author': 's90523',\n",
       "   'push_content': '謝謝原po翻譯:)',\n",
       "   'push_tm': '04/27 02:53',\n",
       "   'push_type': '→'},\n",
       "  {'push_author': 'yiyi7443',\n",
       "   'push_content': \"昨晚在player's tribune看完 覺得很感動就自己譯了\",\n",
       "   'push_tm': '04/27 02:55',\n",
       "   'push_type': '→'},\n",
       "  {'push_author': 'lebron860330',\n",
       "   'push_content': '看完了，推',\n",
       "   'push_tm': '04/27 02:55',\n",
       "   'push_type': '推'},\n",
       "  {'push_author': 'zteboom46',\n",
       "   'push_content': '神翻譯!! 服務生會撐起邁阿密一片天的!',\n",
       "   'push_tm': '04/27 02:55',\n",
       "   'push_type': '推'},\n",
       "  {'push_author': 'yiyi7443',\n",
       "   'push_content': '這篇應該是我在推特上看過被轉推最多的球員文:)',\n",
       "   'push_tm': '04/27 02:55',\n",
       "   'push_type': '→'},\n",
       "  {'push_author': 'kimimskimi',\n",
       "   'push_content': '改觀推',\n",
       "   'push_tm': '04/27 02:58',\n",
       "   'push_type': '推'},\n",
       "  {'push_author': 'AriesC',\n",
       "   'push_content': '優質好文 推',\n",
       "   'push_tm': '04/27 02:59',\n",
       "   'push_type': '推'},\n",
       "  {'push_author': 'rickya',\n",
       "   'push_content': '原來服務生真性情 跟KD交情這麼好',\n",
       "   'push_tm': '04/27 02:59',\n",
       "   'push_type': '推'},\n",
       "  {'push_author': 'e2167471',\n",
       "   'push_content': '推',\n",
       "   'push_tm': '04/27 02:59',\n",
       "   'push_type': '推'},\n",
       "  {'push_author': 'yiyi7443',\n",
       "   'push_content': '去年3月Waiters的一個弟弟也在南費城槍戰中身亡',\n",
       "   'push_tm': '04/27 03:01',\n",
       "   'push_type': '→'},\n",
       "  {'push_author': 'onespring',\n",
       "   'push_content': '推',\n",
       "   'push_tm': '04/27 03:01',\n",
       "   'push_type': '推'},\n",
       "  {'push_author': 'BoatLord',\n",
       "   'push_content': '有看有推',\n",
       "   'push_tm': '04/27 03:02',\n",
       "   'push_type': '推'},\n",
       "  {'push_author': 'blackxmas',\n",
       "   'push_content': '好文',\n",
       "   'push_tm': '04/27 03:03',\n",
       "   'push_type': '推'},\n",
       "  {'push_author': 'Gilbertsky',\n",
       "   'push_content': '這篇很有內容 值得一讀',\n",
       "   'push_tm': '04/27 03:03',\n",
       "   'push_type': '推'},\n",
       "  {'push_author': 'pointer258',\n",
       "   'push_content': '推翻譯',\n",
       "   'push_tm': '04/27 03:05',\n",
       "   'push_type': '推'},\n",
       "  {'push_author': 'echizen0225',\n",
       "   'push_content': '推個',\n",
       "   'push_tm': '04/27 03:06',\n",
       "   'push_type': '推'},\n",
       "  {'push_author': 'Lmkcat',\n",
       "   'push_content': '這篇好讚',\n",
       "   'push_tm': '04/27 03:08',\n",
       "   'push_type': '推'},\n",
       "  {'push_author': 'royan0609',\n",
       "   'push_content': '很棒的翻譯 感謝～',\n",
       "   'push_tm': '04/27 03:09',\n",
       "   'push_type': '推'},\n",
       "  {'push_author': 'jokerxl',\n",
       "   'push_content': '翻得真好 感謝',\n",
       "   'push_tm': '04/27 03:12',\n",
       "   'push_type': '推'},\n",
       "  {'push_author': 'DearDaniel',\n",
       "   'push_content': '整篇看完發現bug..12歲爸媽遭槍殺 然後15歲媽媽要他',\n",
       "   'push_tm': '04/27 03:12',\n",
       "   'push_type': '推'},\n",
       "  {'push_author': 'DearDaniel',\n",
       "   'push_content': '去外地打球？？',\n",
       "   'push_tm': '04/27 03:12',\n",
       "   'push_type': '→'},\n",
       "  {'push_author': 'hssz',\n",
       "   'push_content': '他不跟我談籃球。他要我談談我的人生。<-好熟的橋段',\n",
       "   'push_tm': '04/27 03:12',\n",
       "   'push_type': '推'},\n",
       "  {'push_author': 'tn00371115',\n",
       "   'push_content': '期待他的成長',\n",
       "   'push_tm': '04/27 03:13',\n",
       "   'push_type': '推'},\n",
       "  {'push_author': 'DearDaniel',\n",
       "   'push_content': '啊...... 沒事 他沒說媽媽叫他離開費城的時間',\n",
       "   'push_tm': '04/27 03:13',\n",
       "   'push_type': '→'},\n",
       "  {'push_author': 'baiweilo',\n",
       "   'push_content': '媽媽小時候講的，不是當下',\n",
       "   'push_tm': '04/27 03:13',\n",
       "   'push_type': '→'},\n",
       "  {'push_author': 'blur13',\n",
       "   'push_content': '他媽在他12歲前講得吧 要他看看外面的環境',\n",
       "   'push_tm': '04/27 03:14',\n",
       "   'push_type': '推'},\n",
       "  {'push_author': 'demonro1475',\n",
       "   'push_content': '推',\n",
       "   'push_tm': '04/27 03:15',\n",
       "   'push_type': '推'},\n",
       "  {'push_author': 'yl9140509',\n",
       "   'push_content': '好聞推個',\n",
       "   'push_tm': '04/27 03:16',\n",
       "   'push_type': '推'},\n",
       "  {'push_author': 'Ensidia',\n",
       "   'push_content': '出生在安全的國度與城市 好難想像這麼可怕的童年',\n",
       "   'push_tm': '04/27 03:17',\n",
       "   'push_type': '推'},\n",
       "  {'push_author': 'TheVerve',\n",
       "   'push_content': '推好文',\n",
       "   'push_tm': '04/27 03:17',\n",
       "   'push_type': '推'},\n",
       "  {'push_author': 'creampie123',\n",
       "   'push_content': '感動',\n",
       "   'push_tm': '04/27 03:17',\n",
       "   'push_type': '推'},\n",
       "  {'push_author': 'Ensidia',\n",
       "   'push_content': '難怪他們進NBA的意志是這麼的堅定跟瘋狂',\n",
       "   'push_tm': '04/27 03:18',\n",
       "   'push_type': '→'},\n",
       "  {'push_author': 'ice0719033',\n",
       "   'push_content': '推',\n",
       "   'push_tm': '04/27 03:18',\n",
       "   'push_type': '推'},\n",
       "  {'push_author': 'runwild1023',\n",
       "   'push_content': '好文推',\n",
       "   'push_tm': '04/27 03:19',\n",
       "   'push_type': '推'},\n",
       "  {'push_author': 'schumi7401',\n",
       "   'push_content': '每個nba球星都要有好兄弟然後英年早逝',\n",
       "   'push_tm': '04/27 03:19',\n",
       "   'push_type': '推'},\n",
       "  {'push_author': 'dogville',\n",
       "   'push_content': '出身不好的球員太多了 數都數不完',\n",
       "   'push_tm': '04/27 03:19',\n",
       "   'push_type': '→'},\n",
       "  {'push_author': 'blur13',\n",
       "   'push_content': '的確 不過12歲就父母雙亡好像有點慘',\n",
       "   'push_tm': '04/27 03:21',\n",
       "   'push_type': '推'},\n",
       "  {'push_author': 'greatkevin',\n",
       "   'push_content': '推一個',\n",
       "   'push_tm': '04/27 03:27',\n",
       "   'push_type': '推'},\n",
       "  {'push_author': 'teeeeee',\n",
       "   'push_content': '之前都不知道他這麼小就無依無靠 很高興這季能打出',\n",
       "   'push_tm': '04/27 03:28',\n",
       "   'push_type': '推'},\n",
       "  {'push_author': 'teeeeee',\n",
       "   'push_content': '來',\n",
       "   'push_tm': '04/27 03:28',\n",
       "   'push_type': '→'},\n",
       "  {'push_author': 'Illusionyo',\n",
       "   'push_content': '推服務生 很喜歡這種故事！',\n",
       "   'push_tm': '04/27 03:29',\n",
       "   'push_type': '推'},\n",
       "  {'push_author': 'sylviehsiang',\n",
       "   'push_content': 'KD:先問問LBJ吧(打哈欠)',\n",
       "   'push_tm': '04/27 03:29',\n",
       "   'push_type': '推'},\n",
       "  {'push_author': 'pp787753',\n",
       "   'push_content': '3歲兒子有女友 屌打鄉民',\n",
       "   'push_tm': '04/27 03:29',\n",
       "   'push_type': '推'},\n",
       "  {'push_author': 'derder9',\n",
       "   'push_content': '感人',\n",
       "   'push_tm': '04/27 03:31',\n",
       "   'push_type': '推'},\n",
       "  {'push_author': 'critical2002',\n",
       "   'push_content': '推',\n",
       "   'push_tm': '04/27 03:31',\n",
       "   'push_type': '推'},\n",
       "  {'push_author': 'Iversonchi',\n",
       "   'push_content': '默默的想為他加油了，也覺得出生在台灣真是幸福',\n",
       "   'push_tm': '04/27 03:31',\n",
       "   'push_type': '推'},\n",
       "  {'push_author': 'ai5859132',\n",
       "   'push_content': '呼 終於看完了 好文章推推推',\n",
       "   'push_tm': '04/27 03:35',\n",
       "   'push_type': '推'},\n",
       "  {'push_author': 'whatrudoing',\n",
       "   'push_content': '感謝翻譯好文 推推',\n",
       "   'push_tm': '04/27 03:37',\n",
       "   'push_type': '推'},\n",
       "  {'push_author': 'AIRJEREMYLIN',\n",
       "   'push_content': '好文',\n",
       "   'push_tm': '04/27 03:40',\n",
       "   'push_type': '推'},\n",
       "  {'push_author': 'jk952840',\n",
       "   'push_content': '推',\n",
       "   'push_tm': '04/27 03:41',\n",
       "   'push_type': '推'},\n",
       "  {'push_author': 'gorbykuo',\n",
       "   'push_content': '推 2K都被他打爆',\n",
       "   'push_tm': '04/27 03:46',\n",
       "   'push_type': '推'},\n",
       "  {'push_author': 'meipialoha',\n",
       "   'push_content': '優文推',\n",
       "   'push_tm': '04/27 03:52',\n",
       "   'push_type': '推'},\n",
       "  {'push_author': 'jior',\n",
       "   'push_content': '文章好，翻譯的也很好，能多翻一些嗎XDDD',\n",
       "   'push_tm': '04/27 03:57',\n",
       "   'push_type': '推'},\n",
       "  {'push_author': 'JoeDeltaArt',\n",
       "   'push_content': '推',\n",
       "   'push_tm': '04/27 03:59',\n",
       "   'push_type': '推'},\n",
       "  {'push_author': 'miniwish',\n",
       "   'push_content': '美國街頭真可怕',\n",
       "   'push_tm': '04/27 04:00',\n",
       "   'push_type': '推'},\n",
       "  {'push_author': 'djching',\n",
       "   'push_content': '翻得很好',\n",
       "   'push_tm': '04/27 04:04',\n",
       "   'push_type': '推'},\n",
       "  {'push_author': 'hawk920412',\n",
       "   'push_content': '這篇超棒!! 是說南費城到底多可怕..',\n",
       "   'push_tm': '04/27 04:05',\n",
       "   'push_type': '推'},\n",
       "  {'push_author': 'silver00',\n",
       "   'push_content': '推優質翻譯',\n",
       "   'push_tm': '04/27 04:06',\n",
       "   'push_type': '推'},\n",
       "  {'push_author': 'retre77',\n",
       "   'push_content': '必推',\n",
       "   'push_tm': '04/27 04:12',\n",
       "   'push_type': '推'},\n",
       "  {'push_author': 'dusted',\n",
       "   'push_content': '前面旗就插很大了，但看到事情發生還是令人難過',\n",
       "   'push_tm': '04/27 04:14',\n",
       "   'push_type': '推'},\n",
       "  {'push_author': 'asd860079',\n",
       "   'push_content': '雷霆出來的沒一個是廢咖 !!',\n",
       "   'push_tm': '04/27 04:21',\n",
       "   'push_type': '推'},\n",
       "  {'push_author': 'hiarpu',\n",
       "   'push_content': '推推',\n",
       "   'push_tm': '04/27 04:23',\n",
       "   'push_type': '推'},\n",
       "  {'push_author': 'GATSBYsolid',\n",
       "   'push_content': '翻超棒的！',\n",
       "   'push_tm': '04/27 04:23',\n",
       "   'push_type': '推'},\n",
       "  {'push_author': 'Nappa',\n",
       "   'push_content': '賭國風雲可怕的是Joe Pesci',\n",
       "   'push_tm': '04/27 04:38',\n",
       "   'push_type': '→'},\n",
       "  {'push_author': 'mnbvc456',\n",
       "   'push_content': '推',\n",
       "   'push_tm': '04/27 04:41',\n",
       "   'push_type': '推'},\n",
       "  {'push_author': 'ocean921',\n",
       "   'push_content': '推，好文！',\n",
       "   'push_tm': '04/27 05:02',\n",
       "   'push_type': '推'},\n",
       "  {'push_author': 'lanver1220',\n",
       "   'push_content': '推',\n",
       "   'push_tm': '04/27 05:03',\n",
       "   'push_type': '推'},\n",
       "  {'push_author': 'Ethan45',\n",
       "   'push_content': '推 這故事很詳細',\n",
       "   'push_tm': '04/27 05:14',\n",
       "   'push_type': '推'},\n",
       "  {'push_author': 'yoshro',\n",
       "   'push_content': '推',\n",
       "   'push_tm': '04/27 05:23',\n",
       "   'push_type': '推'},\n",
       "  {'push_author': 'diegod',\n",
       "   'push_content': '這不推不行！！',\n",
       "   'push_tm': '04/27 05:46',\n",
       "   'push_type': '推'},\n",
       "  {'push_author': 'girlkissme',\n",
       "   'push_content': '推',\n",
       "   'push_tm': '04/27 05:46',\n",
       "   'push_type': '推'},\n",
       "  {'push_author': 'diegod',\n",
       "   'push_content': '…',\n",
       "   'push_tm': '04/27 05:47',\n",
       "   'push_type': '→'},\n",
       "  {'push_author': 'oldTim',\n",
       "   'push_content': '萊里:別談籃球，先來談人生..........真是Top Sales',\n",
       "   'push_tm': '04/27 06:04',\n",
       "   'push_type': '推'},\n",
       "  {'push_author': 'kuloda',\n",
       "   'push_content': '推原po',\n",
       "   'push_tm': '04/27 06:08',\n",
       "   'push_type': '推'},\n",
       "  {'push_author': 'summersuns',\n",
       "   'push_content': '讚!',\n",
       "   'push_tm': '04/27 06:10',\n",
       "   'push_type': '推'},\n",
       "  {'push_author': 'wtao',\n",
       "   'push_content': '好像小說喔XDD',\n",
       "   'push_tm': '04/27 06:27',\n",
       "   'push_type': '推'},\n",
       "  {'push_author': 'space0418',\n",
       "   'push_content': '推推',\n",
       "   'push_tm': '04/27 06:28',\n",
       "   'push_type': '推'},\n",
       "  {'push_author': 'mouscat',\n",
       "   'push_content': '推Waiters 推翻譯',\n",
       "   'push_tm': '04/27 06:29',\n",
       "   'push_type': '推'},\n",
       "  {'push_author': 'CV234',\n",
       "   'push_content': '推',\n",
       "   'push_tm': '04/27 06:40',\n",
       "   'push_type': '推'},\n",
       "  {'push_author': 'odom0413',\n",
       "   'push_content': '優質好文推',\n",
       "   'push_tm': '04/27 06:45',\n",
       "   'push_type': '推'},\n",
       "  {'push_author': 'sunny15',\n",
       "   'push_content': '這篇好棒!',\n",
       "   'push_tm': '04/27 06:48',\n",
       "   'push_type': '推'},\n",
       "  {'push_author': 'kenny781558',\n",
       "   'push_content': '謝謝翻譯  油頭那段超像電影場景XDD',\n",
       "   'push_tm': '04/27 06:49',\n",
       "   'push_type': '推'},\n",
       "  {'push_author': 'gun60224',\n",
       "   'push_content': '好文推！辛苦了！',\n",
       "   'push_tm': '04/27 06:51',\n",
       "   'push_type': '推'},\n",
       "  {'push_author': 'MorikonHase',\n",
       "   'push_content': '好文 推',\n",
       "   'push_tm': '04/27 06:56',\n",
       "   'push_type': '推'},\n",
       "  {'push_author': 'guesswho',\n",
       "   'push_content': '原來他跟KD感情還不錯，讓人五味雜陳的文章，加油！',\n",
       "   'push_tm': '04/27 06:56',\n",
       "   'push_type': '推'},\n",
       "  {'push_author': 'wynton',\n",
       "   'push_content': '推',\n",
       "   'push_tm': '04/27 07:07',\n",
       "   'push_type': '推'},\n",
       "  {'push_author': 'jetrider',\n",
       "   'push_content': '感人',\n",
       "   'push_tm': '04/27 07:08',\n",
       "   'push_type': '推'},\n",
       "  {'push_author': 'bcqqa7785',\n",
       "   'push_content': '想知道油頭敢對詹皇這樣談判嗎XDD',\n",
       "   'push_tm': '04/27 07:13',\n",
       "   'push_type': '推'},\n",
       "  {'push_author': 'notice50',\n",
       "   'push_content': '優質好文',\n",
       "   'push_tm': '04/27 07:14',\n",
       "   'push_type': '推'},\n",
       "  {'push_author': 'tcod',\n",
       "   'push_content': '好',\n",
       "   'push_tm': '04/27 07:15',\n",
       "   'push_type': '推'},\n",
       "  {'push_author': 'jnov',\n",
       "   'push_content': '推推',\n",
       "   'push_tm': '04/27 07:18',\n",
       "   'push_type': '推'},\n",
       "  {'push_author': 'JT0827',\n",
       "   'push_content': '推',\n",
       "   'push_tm': '04/27 07:18',\n",
       "   'push_type': '推'},\n",
       "  {'push_author': 'blackflag',\n",
       "   'push_content': '推推',\n",
       "   'push_tm': '04/27 07:19',\n",
       "   'push_type': '推'},\n",
       "  {'push_author': 'MK12',\n",
       "   'push_content': '文筆厲害喔！',\n",
       "   'push_tm': '04/27 07:21',\n",
       "   'push_type': '推'},\n",
       "  {'push_author': 'Kreen',\n",
       "   'push_content': '翻得很通順推～',\n",
       "   'push_tm': '04/27 07:30',\n",
       "   'push_type': '推'},\n",
       "  {'push_author': 'kenny781558',\n",
       "   'push_content': '看這個文章就想到Waiter今年絕殺勇殺後的表情動作XD',\n",
       "   'push_tm': '04/27 07:31',\n",
       "   'push_type': '推'},\n",
       "  {'push_author': 'bowenwin',\n",
       "   'push_content': '翻得好',\n",
       "   'push_tm': '04/27 07:32',\n",
       "   'push_type': '推'},\n",
       "  {'push_author': 'ENCOREH33456',\n",
       "   'push_content': '24樓那個…真的是熱火沒胖子耶XD',\n",
       "   'push_tm': '04/27 07:33',\n",
       "   'push_type': '推'},\n",
       "  {'push_author': 'rong1994',\n",
       "   'push_content': '文筆不錯欸',\n",
       "   'push_tm': '04/27 07:36',\n",
       "   'push_type': '推'},\n",
       "  {'push_author': 'sumo3310',\n",
       "   'push_content': '小時這麼黑暗的環境下長大,現在這麼有錢...不會被',\n",
       "   'push_tm': '04/27 07:36',\n",
       "   'push_type': '推'},\n",
       "  {'push_author': 'sumo3310',\n",
       "   'push_content': '恐嚇嗎',\n",
       "   'push_tm': '04/27 07:36',\n",
       "   'push_type': '→'},\n",
       "  {'push_author': 'james80351',\n",
       "   'push_content': '推翻譯 辛苦了！',\n",
       "   'push_tm': '04/27 07:37',\n",
       "   'push_type': '推'},\n",
       "  {'push_author': 'alex53001',\n",
       "   'push_content': '推服務生 也推原po翻譯',\n",
       "   'push_tm': '04/27 07:38',\n",
       "   'push_type': '推'},\n",
       "  {'push_author': 'donkilu',\n",
       "   'push_content': '翻得很好',\n",
       "   'push_tm': '04/27 07:38',\n",
       "   'push_type': '推'},\n",
       "  {'push_author': 'oeibei',\n",
       "   'push_content': '推!',\n",
       "   'push_tm': '04/27 07:40',\n",
       "   'push_type': '推'},\n",
       "  {'push_author': 'chichung',\n",
       "   'push_content': '根本卡特教頭真人版 可以拍電影了',\n",
       "   'push_tm': '04/27 07:40',\n",
       "   'push_type': '推'},\n",
       "  {'push_author': 'kobby',\n",
       "   'push_content': 'Hit it with the pose應該是在說他那絕殺後抱胸姿勢',\n",
       "   'push_tm': '04/27 07:41',\n",
       "   'push_type': '→'},\n",
       "  {'push_author': 'hidelensman',\n",
       "   'push_content': '翻得很好，可以轉火板嗎',\n",
       "   'push_tm': '04/27 07:42',\n",
       "   'push_type': '推'},\n",
       "  {'push_author': 'doyouknowhow',\n",
       "   'push_content': '推 翻的好',\n",
       "   'push_tm': '04/27 07:43',\n",
       "   'push_type': '推'},\n",
       "  {'push_author': 'redick15',\n",
       "   'push_content': '翻的好！推',\n",
       "   'push_tm': '04/27 07:43',\n",
       "   'push_type': '推'},\n",
       "  {'push_author': 'ee25025',\n",
       "   'push_content': '推',\n",
       "   'push_tm': '04/27 07:43',\n",
       "   'push_type': '推'},\n",
       "  {'push_author': 'twoquarters',\n",
       "   'push_content': '推~~~~~~~~~~~~~ 翻得很棒!!!!!!!! 原PO繼續加油~~~',\n",
       "   'push_tm': '04/27 07:44',\n",
       "   'push_type': '推'},\n",
       "  {'push_author': 'kkjjkkjj',\n",
       "   'push_content': '推，看了很感動',\n",
       "   'push_tm': '04/27 07:47',\n",
       "   'push_type': '推'},\n",
       "  {'push_author': 'Toy17',\n",
       "   'push_content': '推翻譯 服務生背後原來還有這些小故事 對他改觀',\n",
       "   'push_tm': '04/27 07:48',\n",
       "   'push_type': '推'},\n",
       "  {'push_author': 'gcar',\n",
       "   'push_content': '很好看的故事，謝謝你原po',\n",
       "   'push_tm': '04/27 07:50',\n",
       "   'push_type': '推'},\n",
       "  {'push_author': 'monmo',\n",
       "   'push_content': '推!',\n",
       "   'push_tm': '04/27 07:52',\n",
       "   'push_type': '推'},\n",
       "  {'push_author': 'jessica35354',\n",
       "   'push_content': '推推',\n",
       "   'push_tm': '04/27 07:53',\n",
       "   'push_type': '推'},\n",
       "  {'push_author': 'tactical',\n",
       "   'push_content': '推翻譯，辛苦了',\n",
       "   'push_tm': '04/27 07:54',\n",
       "   'push_type': '推'},\n",
       "  {'push_author': 'Acrono',\n",
       "   'push_content': '好文  推個!',\n",
       "   'push_tm': '04/27 07:55',\n",
       "   'push_type': '推'},\n",
       "  {'push_author': 'NBALin',\n",
       "   'push_content': '好棒的文章',\n",
       "   'push_tm': '04/27 07:56',\n",
       "   'push_type': '推'},\n",
       "  {'push_author': 'kerogunpla',\n",
       "   'push_content': '黑人球員十個至少有八個是這種背景  所以Grant Hill',\n",
       "   'push_tm': '04/27 07:57',\n",
       "   'push_type': '推'},\n",
       "  {'push_author': 'QQdouble',\n",
       "   'push_content': '好文章，推',\n",
       "   'push_tm': '04/27 07:57',\n",
       "   'push_type': '推'},\n",
       "  {'push_author': 'kerogunpla',\n",
       "   'push_content': '才會被某些人討厭',\n",
       "   'push_tm': '04/27 07:57',\n",
       "   'push_type': '→'},\n",
       "  {'push_author': 'seedhorse',\n",
       "   'push_content': '大推 好翻譯 也好感人',\n",
       "   'push_tm': '04/27 07:57',\n",
       "   'push_type': '推'},\n",
       "  {'push_author': 'simon0131',\n",
       "   'push_content': '大讚 請大神多翻一點',\n",
       "   'push_tm': '04/27 07:57',\n",
       "   'push_type': '推'},\n",
       "  {'push_author': 'longreen',\n",
       "   'push_content': '讚',\n",
       "   'push_tm': '04/27 07:58',\n",
       "   'push_type': '推'},\n",
       "  {'push_author': 'zane21',\n",
       "   'push_content': '好文推',\n",
       "   'push_tm': '04/27 07:58',\n",
       "   'push_type': '推'},\n",
       "  {'push_author': 'kjm1104',\n",
       "   'push_content': '推',\n",
       "   'push_tm': '04/27 07:59',\n",
       "   'push_type': '推'},\n",
       "  {'push_author': 'Angel0724',\n",
       "   'push_content': '有洋蔥，推',\n",
       "   'push_tm': '04/27 08:01',\n",
       "   'push_type': '推'},\n",
       "  {'push_author': 'lmf770410',\n",
       "   'push_content': '推服務生',\n",
       "   'push_tm': '04/27 08:02',\n",
       "   'push_type': '推'},\n",
       "  {'push_author': 'kenny606',\n",
       "   'push_content': '推',\n",
       "   'push_tm': '04/27 08:02',\n",
       "   'push_type': '推'},\n",
       "  {'push_author': 'silencepap',\n",
       "   'push_content': '這傢伙什麼咖小',\n",
       "   'push_tm': '04/27 08:04',\n",
       "   'push_type': '噓'},\n",
       "  {'push_author': 'yellowlin',\n",
       "   'push_content': '推',\n",
       "   'push_tm': '04/27 08:05',\n",
       "   'push_type': '推'},\n",
       "  {'push_author': 'Chtgo',\n",
       "   'push_content': '堆   希望這種有水準的文章多點',\n",
       "   'push_tm': '04/27 08:06',\n",
       "   'push_type': '推'},\n",
       "  {'push_author': 'ikeepcool',\n",
       "   'push_content': '推翻譯！',\n",
       "   'push_tm': '04/27 08:07',\n",
       "   'push_type': '推'},\n",
       "  {'push_author': 'Nobodyesi',\n",
       "   'push_content': '好文 推',\n",
       "   'push_tm': '04/27 08:11',\n",
       "   'push_type': '推'},\n",
       "  {'push_author': 'hdjj',\n",
       "   'push_content': '推,翻釋辛苦了.  話說原來他和KD感情這麼好',\n",
       "   'push_tm': '04/27 08:14',\n",
       "   'push_type': '推'},\n",
       "  {'push_author': 'OuterLander',\n",
       "   'push_content': '操到暴',\n",
       "   'push_tm': '04/27 08:14',\n",
       "   'push_type': '推'},\n",
       "  {'push_author': 'imnotjeffery',\n",
       "   'push_content': '推推勇士',\n",
       "   'push_tm': '04/27 08:16',\n",
       "   'push_type': '推'},\n",
       "  {'push_author': 'jiatodao',\n",
       "   'push_content': '一開始就猜到Rhamik必死 每個故事都這樣',\n",
       "   'push_tm': '04/27 08:16',\n",
       "   'push_type': '噓'},\n",
       "  {'push_author': 'lawagav',\n",
       "   'push_content': '給推',\n",
       "   'push_tm': '04/27 08:17',\n",
       "   'push_type': '推'},\n",
       "  {'push_author': 'henrylinsj',\n",
       "   'push_content': '推',\n",
       "   'push_tm': '04/27 08:17',\n",
       "   'push_type': '推'},\n",
       "  {'push_author': 'btohsa',\n",
       "   'push_content': '推',\n",
       "   'push_tm': '04/27 08:18',\n",
       "   'push_type': '推'},\n",
       "  {'push_author': 'ssabjm',\n",
       "   'push_content': '好文',\n",
       "   'push_tm': '04/27 08:18',\n",
       "   'push_type': '推'},\n",
       "  {'push_author': 'a2815963',\n",
       "   'push_content': '每個故事都這樣 可是在南費城這是現實...',\n",
       "   'push_tm': '04/27 08:20',\n",
       "   'push_type': '推'},\n",
       "  {'push_author': 'silencepap',\n",
       "   'push_content': '原來是年薪300萬的零冠雜魚   XDDD',\n",
       "   'push_tm': '04/27 08:21',\n",
       "   'push_type': '噓'},\n",
       "  {'push_author': 'samsam80821',\n",
       "   'push_content': '萊利真的直銷一哥',\n",
       "   'push_tm': '04/27 08:23',\n",
       "   'push_type': '推'},\n",
       "  {'push_author': 'themomo12',\n",
       "   'push_content': '推翻譯好文',\n",
       "   'push_tm': '04/27 08:24',\n",
       "   'push_type': '推'},\n",
       "  {'push_author': 'ilirloiikkk',\n",
       "   'push_content': '還蠻喜歡萊利那段的描述 好殺阿！',\n",
       "   'push_tm': '04/27 08:24',\n",
       "   'push_type': '推'},\n",
       "  {'push_author': 'ismena',\n",
       "   'push_content': '推翻譯 雖然NBA不乏這樣的故事 但每次看感觸都很深',\n",
       "   'push_tm': '04/27 08:24',\n",
       "   'push_type': '推'},\n",
       "  {'push_author': 'ismena',\n",
       "   'push_content': ' 台灣治安真的很好',\n",
       "   'push_tm': '04/27 08:24',\n",
       "   'push_type': '→'},\n",
       "  {'push_author': 'fish24685',\n",
       "   'push_content': '好看 感謝',\n",
       "   'push_tm': '04/27 08:25',\n",
       "   'push_type': '推'},\n",
       "  {'push_author': 'kevin51521',\n",
       "   'push_content': '看完了 可惡 差點哭',\n",
       "   'push_tm': '04/27 08:26',\n",
       "   'push_type': '推'},\n",
       "  {'push_author': 'ericf129',\n",
       "   'push_content': '推個',\n",
       "   'push_tm': '04/27 08:28',\n",
       "   'push_type': '推'},\n",
       "  {'push_author': 'brother8185',\n",
       "   'push_content': '推！',\n",
       "   'push_tm': '04/27 08:30',\n",
       "   'push_type': '推'},\n",
       "  {'push_author': 'Michaelpipen',\n",
       "   'push_content': '台灣真的算幸福了',\n",
       "   'push_tm': '04/27 08:32',\n",
       "   'push_type': '推'},\n",
       "  {'push_author': 'rubyyl0701',\n",
       "   'push_content': '好文推',\n",
       "   'push_tm': '04/27 08:33',\n",
       "   'push_type': '推'},\n",
       "  {'push_author': 'anoymouse',\n",
       "   'push_content': 'silence你又什麼咖小?',\n",
       "   'push_tm': '04/27 08:34',\n",
       "   'push_type': '推'},\n",
       "  {'push_author': 'itssoeazy',\n",
       "   'push_content': '好好看，感謝翻譯，讓我們更了解服務生',\n",
       "   'push_tm': '04/27 08:36',\n",
       "   'push_type': '推'},\n",
       "  {'push_author': 'cupidysean',\n",
       "   'push_content': '推',\n",
       "   'push_tm': '04/27 08:36',\n",
       "   'push_type': '推'},\n",
       "  {'push_author': 'iamaq18c',\n",
       "   'push_content': '辛苦了 翻得超讚!!!',\n",
       "   'push_tm': '04/27 08:36',\n",
       "   'push_type': '推'},\n",
       "  {'push_author': 'poypoy',\n",
       "   'push_content': '好文推',\n",
       "   'push_tm': '04/27 08:37',\n",
       "   'push_type': '推'},\n",
       "  {'push_author': 'joveryant',\n",
       "   'push_content': 'good',\n",
       "   'push_tm': '04/27 08:38',\n",
       "   'push_type': '推'},\n",
       "  {'push_author': 'mayeve',\n",
       "   'push_content': '有洋蔥',\n",
       "   'push_tm': '04/27 08:40',\n",
       "   'push_type': '推'},\n",
       "  {'push_author': 'adu79',\n",
       "   'push_content': '推翻譯，很激勵人心',\n",
       "   'push_tm': '04/27 08:43',\n",
       "   'push_type': '推'},\n",
       "  {'push_author': 'ssd123698745',\n",
       "   'push_content': '純好奇這些文章是有人修飾過還是真的完全球員自己打',\n",
       "   'push_tm': '04/27 08:44',\n",
       "   'push_type': '推'},\n",
       "  {'push_author': 'Eneg',\n",
       "   'push_content': '美國黑人真的一堆這種經歷 打球是他們翻轉人生的最',\n",
       "   'push_tm': '04/27 08:44',\n",
       "   'push_type': '→'},\n",
       "  {'push_author': 'Eneg',\n",
       "   'push_content': '大機會',\n",
       "   'push_tm': '04/27 08:44',\n",
       "   'push_type': '→'},\n",
       "  {'push_author': 'gogoegg',\n",
       "   'push_content': 'NBA裡一堆朋友被槍殺的 但父母朋友都被SHOT的不多',\n",
       "   'push_tm': '04/27 08:46',\n",
       "   'push_type': '推'},\n",
       "  {'push_author': 'hungchannnn',\n",
       "   'push_content': '好看 推',\n",
       "   'push_tm': '04/27 08:49',\n",
       "   'push_type': '推'},\n",
       "  {'push_author': 'aidsai',\n",
       "   'push_content': '他今年有上場的時間都打很好，可惜有點痛痛',\n",
       "   'push_tm': '04/27 08:50',\n",
       "   'push_type': '推'},\n",
       "  {'push_author': 'JaysonX',\n",
       "   'push_content': '翻的超級棒！',\n",
       "   'push_tm': '04/27 08:52',\n",
       "   'push_type': '推'},\n",
       "  {'push_author': 'naker',\n",
       "   'push_content': '這篇超有趣 哈哈',\n",
       "   'push_tm': '04/27 08:52',\n",
       "   'push_type': '推'},\n",
       "  {'push_author': 'REI3173',\n",
       "   'push_content': '兒子有女友',\n",
       "   'push_tm': '04/27 08:53',\n",
       "   'push_type': '推'},\n",
       "  {'push_author': 'lp1029',\n",
       "   'push_content': '帥 謝翻譯！！',\n",
       "   'push_tm': '04/27 08:53',\n",
       "   'push_type': '推'},\n",
       "  {'push_author': 'MadStanley',\n",
       "   'push_content': ':',\n",
       "   'push_tm': '04/27 08:54',\n",
       "   'push_type': '推'},\n",
       "  {'push_author': 'torres0326',\n",
       "   'push_content': '推',\n",
       "   'push_tm': '04/27 08:55',\n",
       "   'push_type': '推'},\n",
       "  {'push_author': 'gogoegg',\n",
       "   'push_content': '原文很口語啊 應該是服務生自己打的',\n",
       "   'push_tm': '04/27 08:55',\n",
       "   'push_type': '推'},\n",
       "  {'push_author': 's891234',\n",
       "   'push_content': '好文推',\n",
       "   'push_tm': '04/27 08:56',\n",
       "   'push_type': '推'},\n",
       "  {'push_author': 'willie40105',\n",
       "   'push_content': '辛苦了 翻譯的很好',\n",
       "   'push_tm': '04/27 08:56',\n",
       "   'push_type': '推'},\n",
       "  {'push_author': 'newtypeL9',\n",
       "   'push_content': '推',\n",
       "   'push_tm': '04/27 08:57',\n",
       "   'push_type': '推'},\n",
       "  {'push_author': 'outstanding1',\n",
       "   'push_content': '推',\n",
       "   'push_tm': '04/27 08:57',\n",
       "   'push_type': '推'},\n",
       "  {'push_author': 'FinnTheHuman',\n",
       "   'push_content': '3歲就有女友.......',\n",
       "   'push_tm': '04/27 08:59',\n",
       "   'push_type': '推'},\n",
       "  {'push_author': 'finalmf',\n",
       "   'push_content': '推，希望明年熱火保持健康',\n",
       "   'push_tm': '04/27 09:02',\n",
       "   'push_type': '推'},\n",
       "  {'push_author': 'blazerwind',\n",
       "   'push_content': '有故事的人 推',\n",
       "   'push_tm': '04/27 09:02',\n",
       "   'push_type': '推'},\n",
       "  {'push_author': 'aloser',\n",
       "   'push_content': '推好文',\n",
       "   'push_tm': '04/27 09:04',\n",
       "   'push_type': '推'},\n",
       "  {'push_author': 'sclbtlove',\n",
       "   'push_content': '推',\n",
       "   'push_tm': '04/27 09:04',\n",
       "   'push_type': '推'},\n",
       "  {'push_author': 'guestone',\n",
       "   'push_content': '超棒的翻譯啊啊啊啊',\n",
       "   'push_tm': '04/27 09:07',\n",
       "   'push_type': '推'},\n",
       "  {'push_author': 'AinalRami',\n",
       "   'push_content': '非常感人 謝謝你',\n",
       "   'push_tm': '04/27 09:07',\n",
       "   'push_type': '推'},\n",
       "  {'push_author': 'kcismyson',\n",
       "   'push_content': '翻得很棒，服務生也加油～',\n",
       "   'push_tm': '04/27 09:07',\n",
       "   'push_type': '推'},\n",
       "  {'push_author': 'RonaldPan',\n",
       "   'push_content': '好文推 翻譯推',\n",
       "   'push_tm': '04/27 09:08',\n",
       "   'push_type': '推'},\n",
       "  {'push_author': 'Farger',\n",
       "   'push_content': '感謝翻譯 可惜有人秀下限糟蹋推文',\n",
       "   'push_tm': '04/27 09:09',\n",
       "   'push_type': '推'},\n",
       "  {'push_author': 'Cage1027',\n",
       "   'push_content': '好文!',\n",
       "   'push_tm': '04/27 09:10',\n",
       "   'push_type': '推'},\n",
       "  {'push_author': 'marsai',\n",
       "   'push_content': '推',\n",
       "   'push_tm': '04/27 09:10',\n",
       "   'push_type': '推'},\n",
       "  {'push_author': 'kevinire0113',\n",
       "   'push_content': '推 翻的很棒',\n",
       "   'push_tm': '04/27 09:10',\n",
       "   'push_type': '推'},\n",
       "  {'push_author': 'hank3432002',\n",
       "   'push_content': '翻的好棒～推一下！',\n",
       "   'push_tm': '04/27 09:11',\n",
       "   'push_type': '推'},\n",
       "  {'push_author': 'handsomecat',\n",
       "   'push_content': '你有聽過熱火嗎？',\n",
       "   'push_tm': '04/27 09:15',\n",
       "   'push_type': '推'},\n",
       "  {'push_author': 'semicoma',\n",
       "   'push_content': '現-象-級-der',\n",
       "   'push_tm': '04/27 09:16',\n",
       "   'push_type': '推'},\n",
       "  {'push_author': 'LittleDollar',\n",
       "   'push_content': '翻得超好',\n",
       "   'push_tm': '04/27 09:16',\n",
       "   'push_type': '推'},\n",
       "  {'push_author': 'syuanfeng',\n",
       "   'push_content': '推推',\n",
       "   'push_tm': '04/27 09:17',\n",
       "   'push_type': '推'},\n",
       "  {'push_author': 'orange7986',\n",
       "   'push_content': 'U文',\n",
       "   'push_tm': '04/27 09:22',\n",
       "   'push_type': '推'},\n",
       "  {'push_author': 'CC97',\n",
       "   'push_content': '這篇怎麼這麼好看!!',\n",
       "   'push_tm': '04/27 09:23',\n",
       "   'push_type': '推'},\n",
       "  {'push_author': 'ldeathkiller',\n",
       "   'push_content': 'Leonard的故事也是失去家人',\n",
       "   'push_tm': '04/27 09:24',\n",
       "   'push_type': '推'},\n",
       "  {'push_author': 'paselalps',\n",
       "   'push_content': '感人',\n",
       "   'push_tm': '04/27 09:25',\n",
       "   'push_type': '推'},\n",
       "  {'push_author': 'sam9595',\n",
       "   'push_content': '真猛 所以今年熱火季後賽目前打得如何',\n",
       "   'push_tm': '04/27 09:25',\n",
       "   'push_type': '推'},\n",
       "  {'push_author': 'kay16victor',\n",
       "   'push_content': '感人 阿不過3歲就有路人女友是哪招',\n",
       "   'push_tm': '04/27 09:28',\n",
       "   'push_type': '推'},\n",
       "  {'push_author': 'cody7052',\n",
       "   'push_content': '相當精彩，值得推薦',\n",
       "   'push_tm': '04/27 09:29',\n",
       "   'push_type': '推'},\n",
       "  {'push_author': 'amarni333',\n",
       "   'push_content': '原po你也太猛了吧,謝謝你!',\n",
       "   'push_tm': '04/27 09:31',\n",
       "   'push_type': '推'},\n",
       "  {'push_author': 'smaller',\n",
       "   'push_content': '好文給推阿阿',\n",
       "   'push_tm': '04/27 09:32',\n",
       "   'push_type': '推'},\n",
       "  {'push_author': 'dreamtale',\n",
       "   'push_content': '這篇很感人 看到哭了',\n",
       "   'push_tm': '04/27 09:32',\n",
       "   'push_type': '推'},\n",
       "  {'push_author': 'dreamtale',\n",
       "   'push_content': '矮湯那段很好笑XD',\n",
       "   'push_tm': '04/27 09:32',\n",
       "   'push_type': '→'},\n",
       "  {'push_author': 'djviva',\n",
       "   'push_content': '感謝翻譯!!',\n",
       "   'push_tm': '04/27 09:32',\n",
       "   'push_type': '推'},\n",
       "  {'push_author': 'guardian128',\n",
       "   'push_content': '推',\n",
       "   'push_tm': '04/27 09:33',\n",
       "   'push_type': '推'},\n",
       "  {'push_author': 'monicamaki',\n",
       "   'push_content': '推好文',\n",
       "   'push_tm': '04/27 09:33',\n",
       "   'push_type': '推'},\n",
       "  {'push_author': 'nerv3890',\n",
       "   'push_content': '好想哭QQ',\n",
       "   'push_tm': '04/27 09:34',\n",
       "   'push_type': '推'},\n",
       "  {'push_author': 'willie052800',\n",
       "   'push_content': '感謝翻譯',\n",
       "   'push_tm': '04/27 09:35',\n",
       "   'push_type': '推'},\n",
       "  {'push_author': 'RaysLongoria',\n",
       "   'push_content': '翻的超棒',\n",
       "   'push_tm': '04/27 09:39',\n",
       "   'push_type': '推'},\n",
       "  {'push_author': 'ecolife',\n",
       "   'push_content': '推 我們不談籃球 談人生XDDD 超強',\n",
       "   'push_tm': '04/27 09:42',\n",
       "   'push_type': '推'},\n",
       "  {'push_author': 'ichichen',\n",
       "   'push_content': '感謝翻譯 感人!',\n",
       "   'push_tm': '04/27 09:45',\n",
       "   'push_type': '推'},\n",
       "  {'push_author': 'PKming',\n",
       "   'push_content': '推推',\n",
       "   'push_tm': '04/27 09:46',\n",
       "   'push_type': '推'},\n",
       "  {'push_author': 'AIWUYA',\n",
       "   'push_content': '好感人！雖然不喜歡油頭但為服務生加油！',\n",
       "   'push_tm': '04/27 09:47',\n",
       "   'push_type': '推'},\n",
       "  {'push_author': 'pickoff',\n",
       "   'push_content': '萊里根本鑽石級直銷，你有夢想嗎先談談人生吧',\n",
       "   'push_tm': '04/27 09:47',\n",
       "   'push_type': '推'},\n",
       "  {'push_author': 'robin52114',\n",
       "   'push_content': '有些人不噓就吃不下飯睡不著覺',\n",
       "   'push_tm': '04/27 09:48',\n",
       "   'push_type': '推'},\n",
       "  {'push_author': 'hotsizzle',\n",
       "   'push_content': '推葛',\n",
       "   'push_tm': '04/27 09:48',\n",
       "   'push_type': '推'},\n",
       "  {'push_author': 'may60524',\n",
       "   'push_content': '感謝翻譯 世—界—級的XDDDD',\n",
       "   'push_tm': '04/27 09:48',\n",
       "   'push_type': '推'},\n",
       "  {'push_author': 'sakaizawa',\n",
       "   'push_content': '勵志好文',\n",
       "   'push_tm': '04/27 09:48',\n",
       "   'push_type': '推'},\n",
       "  {'push_author': 'imuthat',\n",
       "   'push_content': '油頭真的猛',\n",
       "   'push_tm': '04/27 09:50',\n",
       "   'push_type': '推'},\n",
       "  {'push_author': 'bokituto',\n",
       "   'push_content': '翻的很棒 推',\n",
       "   'push_tm': '04/27 09:51',\n",
       "   'push_type': '推'},\n",
       "  {'push_author': 'alicelee1218',\n",
       "   'push_content': '推',\n",
       "   'push_tm': '04/27 09:52',\n",
       "   'push_type': '推'},\n",
       "  {'push_author': 'pokemonmen',\n",
       "   'push_content': '翻譯翻的很好 超加分',\n",
       "   'push_tm': '04/27 09:55',\n",
       "   'push_type': '推'},\n",
       "  {'push_author': 'wayne64001',\n",
       "   'push_content': '故事不錯  原本以為他只是想鬥走隊上主控的小咖而已',\n",
       "   'push_tm': '04/27 09:56',\n",
       "   'push_type': '推'},\n",
       "  {'push_author': 'bagamanslim',\n",
       "   'push_content': '感謝翻譯',\n",
       "   'push_tm': '04/27 09:59',\n",
       "   'push_type': '推'},\n",
       "  {'push_author': 'tadshift2',\n",
       "   'push_content': 'good fun yi',\n",
       "   'push_tm': '04/27 10:00',\n",
       "   'push_type': '推'},\n",
       "  {'push_author': 'sam010829',\n",
       "   'push_content': '推',\n",
       "   'push_tm': '04/27 10:02',\n",
       "   'push_type': '推'},\n",
       "  {'push_author': 'gameking16',\n",
       "   'push_content': '推了',\n",
       "   'push_tm': '04/27 10:03',\n",
       "   'push_type': '推'},\n",
       "  {'push_author': 'veq',\n",
       "   'push_content': 'PUSH',\n",
       "   'push_tm': '04/27 10:04',\n",
       "   'push_type': '推'},\n",
       "  {'push_author': 'nastycurry',\n",
       "   'push_content': '明年加油！',\n",
       "   'push_tm': '04/27 10:06',\n",
       "   'push_type': '推'},\n",
       "  {'push_author': 'ThreeNG',\n",
       "   'push_content': '油頭給了LBJ一個無法拒絕的選擇，但他後來發現LBJ',\n",
       "   'push_tm': '04/27 10:06',\n",
       "   'push_type': '推'},\n",
       "  {'push_author': 'ThreeNG',\n",
       "   'push_content': '根本沒在聽他說話。XD',\n",
       "   'push_tm': '04/27 10:06',\n",
       "   'push_type': '→'},\n",
       "  {'push_author': 'iloveben75',\n",
       "   'push_content': '寫得不錯 也推翻譯 難怪騎士要閃老八 熱火公牛都很',\n",
       "   'push_tm': '04/27 10:09',\n",
       "   'push_type': '推'},\n",
       "  {'push_author': 'iloveben75',\n",
       "   'push_content': '難打啊',\n",
       "   'push_tm': '04/27 10:09',\n",
       "   'push_type': '→'},\n",
       "  {'push_author': 'ben36',\n",
       "   'push_content': 'world class!! 借轉臉書 感謝^^',\n",
       "   'push_tm': '04/27 10:12',\n",
       "   'push_type': '推'},\n",
       "  {'push_author': 'imbestbill',\n",
       "   'push_content': '油頭真的很像黑幫老大',\n",
       "   'push_tm': '04/27 10:17',\n",
       "   'push_type': '推'},\n",
       "  {'push_author': 'dick929',\n",
       "   'push_content': '好文~翻譯也推',\n",
       "   'push_tm': '04/27 10:17',\n",
       "   'push_type': '推'},\n",
       "  {'push_author': 'teapot43',\n",
       "   'push_content': '推 翻的很好 更了解Dion這個人了',\n",
       "   'push_tm': '04/27 10:17',\n",
       "   'push_type': '推'},\n",
       "  {'push_author': 'gidens',\n",
       "   'push_content': '靠寫得真好',\n",
       "   'push_tm': '04/27 10:19',\n",
       "   'push_type': '推'},\n",
       "  {'push_author': 'yakamikazuya',\n",
       "   'push_content': '勵志推',\n",
       "   'push_tm': '04/27 10:20',\n",
       "   'push_type': '推'},\n",
       "  {'push_author': 'jerrykuo0518',\n",
       "   'push_content': '推',\n",
       "   'push_tm': '04/27 10:20',\n",
       "   'push_type': '推'},\n",
       "  {'push_author': 'yuuchen',\n",
       "   'push_content': '推',\n",
       "   'push_tm': '04/27 10:21',\n",
       "   'push_type': '推'},\n",
       "  {'push_author': 'Iluhopeless',\n",
       "   'push_content': '推好文',\n",
       "   'push_tm': '04/27 10:22',\n",
       "   'push_type': '推'},\n",
       "  {'push_author': 'home10272',\n",
       "   'push_content': ':',\n",
       "   'push_tm': '04/27 10:24',\n",
       "   'push_type': '推'},\n",
       "  {'push_author': 'e04112233',\n",
       "   'push_content': '感謝翻譯',\n",
       "   'push_tm': '04/27 10:24',\n",
       "   'push_type': '推'},\n",
       "  {'push_author': 'vlsan',\n",
       "   'push_content': '感謝翻譯!!',\n",
       "   'push_tm': '04/27 10:26',\n",
       "   'push_type': '推'},\n",
       "  {'push_author': 'TDKnight',\n",
       "   'push_content': '在東區要怎麼季後賽打KD阿?',\n",
       "   'push_tm': '04/27 10:26',\n",
       "   'push_type': '推'},\n",
       "  {'push_author': 'littlehsu',\n",
       "   'push_content': '謝謝你',\n",
       "   'push_tm': '04/27 10:27',\n",
       "   'push_type': '推'},\n",
       "  {'push_author': 'Vincent1219',\n",
       "   'push_content': '讚好文',\n",
       "   'push_tm': '04/27 10:27',\n",
       "   'push_type': '推'},\n",
       "  {'push_author': 'cchch',\n",
       "   'push_content': '感恩大大',\n",
       "   'push_tm': '04/27 10:30',\n",
       "   'push_type': '推'},\n",
       "  {'push_author': 'micbrimac',\n",
       "   'push_content': '靠背 在美國家裡有人被槍殺 好像很正常的事一樣= =',\n",
       "   'push_tm': '04/27 10:31',\n",
       "   'push_type': '推'},\n",
       "  {'push_author': 'jcto04',\n",
       "   'push_content': '推',\n",
       "   'push_tm': '04/27 10:32',\n",
       "   'push_type': '推'},\n",
       "  {'push_author': 'nwojessy',\n",
       "   'push_content': '推',\n",
       "   'push_tm': '04/27 10:34',\n",
       "   'push_type': '推'},\n",
       "  {'push_author': 'vua',\n",
       "   'push_content': '大推啊!',\n",
       "   'push_tm': '04/27 10:37',\n",
       "   'push_type': '推'},\n",
       "  {'push_author': 'austin7037',\n",
       "   'push_content': '推',\n",
       "   'push_tm': '04/27 10:40',\n",
       "   'push_type': '推'},\n",
       "  {'push_author': 'chi12345678',\n",
       "   'push_content': '先別管籃球了，你聽過萊利嗎？',\n",
       "   'push_tm': '04/27 10:41',\n",
       "   'push_type': '推'},\n",
       "  {'push_author': 'leo07251413',\n",
       "   'push_content': '推',\n",
       "   'push_tm': '04/27 10:43',\n",
       "   'push_type': '推'},\n",
       "  {'push_author': 'cw910911',\n",
       "   'push_content': '好文給推！謝謝翻譯',\n",
       "   'push_tm': '04/27 10:44',\n",
       "   'push_type': '推'},\n",
       "  {'push_author': 'Yushuo7',\n",
       "   'push_content': '好看耶～',\n",
       "   'push_tm': '04/27 10:44',\n",
       "   'push_type': '推'},\n",
       "  {'push_author': 'ilwe106',\n",
       "   'push_content': '推',\n",
       "   'push_tm': '04/27 10:46',\n",
       "   'push_type': '推'},\n",
       "  {'push_author': 'willis0401',\n",
       "   'push_content': '有些區域治安真的很差吧，槍枝又容易取得',\n",
       "   'push_tm': '04/27 10:48',\n",
       "   'push_type': '推'},\n",
       "  {'push_author': 'timmy2153200',\n",
       "   'push_content': '好翻譯 推服務生和原po',\n",
       "   'push_tm': '04/27 10:48',\n",
       "   'push_type': '推'},\n",
       "  {'push_author': 'small314',\n",
       "   'push_content': '推',\n",
       "   'push_tm': '04/27 10:57',\n",
       "   'push_type': '推'},\n",
       "  {'push_author': 'varcs',\n",
       "   'push_content': '油頭：「典尾～別談薪水了，來聊聊人生」。',\n",
       "   'push_tm': '04/27 10:58',\n",
       "   'push_type': '推'},\n",
       "  {'push_author': 'doleful',\n",
       "   'push_content': '感謝翻譯,內容也很棒',\n",
       "   'push_tm': '04/27 11:01',\n",
       "   'push_type': '推'},\n",
       "  {'push_author': 'SIMPLEPLAN',\n",
       "   'push_content': '推',\n",
       "   'push_tm': '04/27 11:02',\n",
       "   'push_type': '推'},\n",
       "  {'push_author': 'k28829982',\n",
       "   'push_content': '一種不對命運屈服的精神!!!',\n",
       "   'push_tm': '04/27 11:02',\n",
       "   'push_type': '推'},\n",
       "  {'push_author': 'bigheadkobe',\n",
       "   'push_content': '好文，雖然不喜歡他但欣賞他的求勝心',\n",
       "   'push_tm': '04/27 11:04',\n",
       "   'push_type': '推'},\n",
       "  {'push_author': 'a0025068',\n",
       "   'push_content': '他是高年級生，而且跟現在一樣高，我說真的。',\n",
       "   'push_tm': '04/27 11:05',\n",
       "   'push_type': '推'},\n",
       "  {'push_author': 'realG',\n",
       "   'push_content': '上班默默看完了XDDD 你好厲害',\n",
       "   'push_tm': '04/27 11:06',\n",
       "   'push_type': '推'},\n",
       "  {'push_author': 'realG',\n",
       "   'push_content': 'varcs那句推文好好笑',\n",
       "   'push_tm': '04/27 11:06',\n",
       "   'push_type': '→'},\n",
       "  {'push_author': 'andyd',\n",
       "   'push_content': '好文！',\n",
       "   'push_tm': '04/27 11:08',\n",
       "   'push_type': '推'},\n",
       "  {'push_author': 'shadow0326',\n",
       "   'push_content': '好狂',\n",
       "   'push_tm': '04/27 11:08',\n",
       "   'push_type': '推'},\n",
       "  {'push_author': 'dalinman',\n",
       "   'push_content': '翻的真好 推!',\n",
       "   'push_tm': '04/27 11:09',\n",
       "   'push_type': '推'},\n",
       "  {'push_author': 'maiyuy',\n",
       "   'push_content': '推故事',\n",
       "   'push_tm': '04/27 11:09',\n",
       "   'push_type': '推'},\n",
       "  {'push_author': 'brotherjhao',\n",
       "   'push_content': 'QQ',\n",
       "   'push_tm': '04/27 11:09',\n",
       "   'push_type': '推'},\n",
       "  {'push_author': 'surreallin',\n",
       "   'push_content': '感謝翻譯 好故事呢',\n",
       "   'push_tm': '04/27 11:10',\n",
       "   'push_type': '推'},\n",
       "  {'push_author': 'Seadogking',\n",
       "   'push_content': '推好文',\n",
       "   'push_tm': '04/27 11:11',\n",
       "   'push_type': '推'},\n",
       "  {'push_author': 'canomvp24',\n",
       "   'push_content': 'love it!!!',\n",
       "   'push_tm': '04/27 11:15',\n",
       "   'push_type': '推'},\n",
       "  {'push_author': 'tony900735',\n",
       "   'push_content': '推',\n",
       "   'push_tm': '04/27 11:16',\n",
       "   'push_type': '推'},\n",
       "  {'push_author': 'minishrike',\n",
       "   'push_content': '謝謝翻譯，好故事！',\n",
       "   'push_tm': '04/27 11:20',\n",
       "   'push_type': '推'},\n",
       "  {'push_author': 'l151281',\n",
       "   'push_content': '「對未來想的太多,可能會心碎」',\n",
       "   'push_tm': '04/27 11:23',\n",
       "   'push_type': '推'},\n",
       "  {'push_author': 'taylor0607',\n",
       "   'push_content': '翻得好好 感動～',\n",
       "   'push_tm': '04/27 11:23',\n",
       "   'push_type': '推'},\n",
       "  {'push_author': 'l151281',\n",
       "   'push_content': '這句話太讓人難過了',\n",
       "   'push_tm': '04/27 11:23',\n",
       "   'push_type': '→'},\n",
       "  {'push_author': 'originalblue',\n",
       "   'push_content': '推  激勵人心',\n",
       "   'push_tm': '04/27 11:24',\n",
       "   'push_type': '推'},\n",
       "  {'push_author': 'thetakerone',\n",
       "   'push_content': '推',\n",
       "   'push_tm': '04/27 11:25',\n",
       "   'push_type': '推'},\n",
       "  {'push_author': 'a8084123',\n",
       "   'push_content': '推',\n",
       "   'push_tm': '04/27 11:25',\n",
       "   'push_type': '推'},\n",
       "  {'push_author': 'sinben',\n",
       "   'push_content': '天啊，人生故事像電影，對服務生改觀了',\n",
       "   'push_tm': '04/27 11:26',\n",
       "   'push_type': '推'},\n",
       "  {'push_author': 'sinben',\n",
       "   'push_content': '原Po翻得太好了',\n",
       "   'push_tm': '04/27 11:26',\n",
       "   'push_type': '→'},\n",
       "  {'push_author': 'lxorzxl',\n",
       "   'push_content': '好文推，感謝翻譯',\n",
       "   'push_tm': '04/27 11:27',\n",
       "   'push_type': '推'},\n",
       "  {'push_author': 'andrew1357',\n",
       "   'push_content': '靠你翻的超好，要向你看齊XD',\n",
       "   'push_tm': '04/27 11:27',\n",
       "   'push_type': '推'},\n",
       "  {'push_author': 'GAinvisible',\n",
       "   'push_content': '優質文 推！',\n",
       "   'push_tm': '04/27 11:37',\n",
       "   'push_type': '推'},\n",
       "  {'push_author': 'kosha',\n",
       "   'push_content': '好文！翻很好！',\n",
       "   'push_tm': '04/27 11:39',\n",
       "   'push_type': '推'},\n",
       "  {'push_author': 'vince0729',\n",
       "   'push_content': '好文推',\n",
       "   'push_tm': '04/27 11:41',\n",
       "   'push_type': '推'},\n",
       "  {'push_author': 'faker007',\n",
       "   'push_content': '好感人哦 打籃球翻身真的很難',\n",
       "   'push_tm': '04/27 11:44',\n",
       "   'push_type': '推'},\n",
       "  {'push_author': 'developers',\n",
       "   'push_content': '推推',\n",
       "   'push_tm': '04/27 11:48',\n",
       "   'push_type': '推'},\n",
       "  {'push_author': 'starchiang',\n",
       "   'push_content': '請問可以轉火火版嗎？',\n",
       "   'push_tm': '04/27 11:53',\n",
       "   'push_type': '推'},\n",
       "  {'push_author': 'OneCell',\n",
       "   'push_content': '推',\n",
       "   'push_tm': '04/27 11:54',\n",
       "   'push_type': '推'},\n",
       "  {'push_author': 'homkei',\n",
       "   'push_content': '優質好文',\n",
       "   'push_tm': '04/27 12:00',\n",
       "   'push_type': '推'},\n",
       "  {'push_author': 'bye5566',\n",
       "   'push_content': '有點像2K16 的劇情 QQ',\n",
       "   'push_tm': '04/27 12:01',\n",
       "   'push_type': '推'},\n",
       "  {'push_author': 'flyingcolor',\n",
       "   'push_content': 'QQ太感人了',\n",
       "   'push_tm': '04/27 12:12',\n",
       "   'push_type': '推'},\n",
       "  {'push_author': 'biung',\n",
       "   'push_content': '好文推',\n",
       "   'push_tm': '04/27 12:15',\n",
       "   'push_type': '推'},\n",
       "  {'push_author': 'bbsbbbbsbb',\n",
       "   'push_content': '對他改觀',\n",
       "   'push_tm': '04/27 12:22',\n",
       "   'push_type': '推'},\n",
       "  {'push_author': 'Gsun',\n",
       "   'push_content': '費城治安其實不太好 之前在費城南邊的Woodbury找朋',\n",
       "   'push_tm': '04/27 12:25',\n",
       "   'push_type': '推'},\n",
       "  {'push_author': 'Gsun',\n",
       "   'push_content': '友 親眼看到兩派黑人槍戰 馬的立馬躲進旁邊超商 兩',\n",
       "   'push_tm': '04/27 12:25',\n",
       "   'push_type': '→'},\n",
       "  {'push_author': 'Gsun',\n",
       "   'push_content': '方先幹架 叫囂 然後斷斷續續開槍五分鐘左右 傳來警',\n",
       "   'push_tm': '04/27 12:25',\n",
       "   'push_type': '→'},\n",
       "  {'push_author': 'Gsun',\n",
       "   'push_content': '笛聲就各自開車落跑',\n",
       "   'push_tm': '04/27 12:25',\n",
       "   'push_type': '→'},\n",
       "  {'push_author': 'Gsun',\n",
       "   'push_content': '然後在巴爾地摩也在街頭看過黑人腰間插著小槍',\n",
       "   'push_tm': '04/27 12:26',\n",
       "   'push_type': '→'},\n",
       "  {'push_author': 'bomeiking',\n",
       "   'push_content': '帥炸 必須推',\n",
       "   'push_tm': '04/27 12:27',\n",
       "   'push_type': '推'},\n",
       "  {'push_author': 'Gsun',\n",
       "   'push_content': '只能說老美玩很大',\n",
       "   'push_tm': '04/27 12:27',\n",
       "   'push_type': '→'},\n",
       "  {'push_author': 'alwaysstrong',\n",
       "   'push_content': '推',\n",
       "   'push_tm': '04/27 12:27',\n",
       "   'push_type': '推'},\n",
       "  {'push_author': 'eric10000',\n",
       "   'push_content': '推',\n",
       "   'push_tm': '04/27 12:30',\n",
       "   'push_type': '推'},\n",
       "  {'push_author': 'bluemei',\n",
       "   'push_content': '服務生也太慘了',\n",
       "   'push_tm': '04/27 12:31',\n",
       "   'push_type': '推'},\n",
       "  {'push_author': 'ddrose',\n",
       "   'push_content': '推好文',\n",
       "   'push_tm': '04/27 12:34',\n",
       "   'push_type': '推'},\n",
       "  {'push_author': 'bbsbbbbsbb',\n",
       "   'push_content': '很感人',\n",
       "   'push_tm': '04/27 12:34',\n",
       "   'push_type': '推'},\n",
       "  {'push_author': 'oldmoon',\n",
       "   'push_content': '靠么萊利根本做直銷的料xD',\n",
       "   'push_tm': '04/27 12:39',\n",
       "   'push_type': '推'},\n",
       "  {'push_author': 'NoPush',\n",
       "   'push_content': 'word-class~. 洗腦調',\n",
       "   'push_tm': '04/27 12:40',\n",
       "   'push_type': '推'},\n",
       "  {'push_author': 'NoPush',\n",
       "   'push_content': '推翻譯，不過文中Pat譯名不太一致',\n",
       "   'push_tm': '04/27 12:43',\n",
       "   'push_type': '推'},\n",
       "  {'push_author': 'TimDuncan21',\n",
       "   'push_content': '翻的很棒 推',\n",
       "   'push_tm': '04/27 12:46',\n",
       "   'push_type': '推'},\n",
       "  {'push_author': 'bowenwin',\n",
       "   'push_content': '看來他真的不喜歡KI',\n",
       "   'push_tm': '04/27 12:48',\n",
       "   'push_type': '推'},\n",
       "  {'push_author': 'season1017',\n",
       "   'push_content': '謝大大的翻譯，我盡量都用原文看完～',\n",
       "   'push_tm': '04/27 12:49',\n",
       "   'push_type': '推'},\n",
       "  {'push_author': 'aihead03',\n",
       "   'push_content': '你翻的超棒！',\n",
       "   'push_tm': '04/27 12:54',\n",
       "   'push_type': '推'},\n",
       "  {'push_author': 'parkerlived',\n",
       "   'push_content': '看完要推一下是禮貌',\n",
       "   'push_tm': '04/27 13:00',\n",
       "   'push_type': '推'},\n",
       "  {'push_author': 'wu2183',\n",
       "   'push_content': '真猛啊',\n",
       "   'push_tm': '04/27 13:06',\n",
       "   'push_type': '推'},\n",
       "  {'push_author': 'h959',\n",
       "   'push_content': '推翻譯+好文',\n",
       "   'push_tm': '04/27 13:08',\n",
       "   'push_type': '推'},\n",
       "  {'push_author': 'ben1981neb',\n",
       "   'push_content': '推',\n",
       "   'push_tm': '04/27 13:15',\n",
       "   'push_type': '推'},\n",
       "  {'push_author': 'steeldeck',\n",
       "   'push_content': '看完只能淚推服務生了T__T',\n",
       "   'push_tm': '04/27 13:16',\n",
       "   'push_type': '推'},\n",
       "  {'push_author': 'leonightmare',\n",
       "   'push_content': '翻得真的很到位，以後再也不會笑他的大頭症了，這是',\n",
       "   'push_tm': '04/27 13:23',\n",
       "   'push_type': '推'},\n",
       "  {'push_author': 'leonightmare',\n",
       "   'push_content': '他生存的必備武器',\n",
       "   'push_tm': '04/27 13:23',\n",
       "   'push_type': '→'},\n",
       "  {'push_author': 'eskawater',\n",
       "   'push_content': '幹 翻得好 累推',\n",
       "   'push_tm': '04/27 13:27',\n",
       "   'push_type': '推'},\n",
       "  {'push_author': 'iamlindashen',\n",
       "   'push_content': '推',\n",
       "   'push_tm': '04/27 13:29',\n",
       "   'push_type': '推'},\n",
       "  {'push_author': 'singzion333',\n",
       "   'push_content': '很好看！感謝翻譯！',\n",
       "   'push_tm': '04/27 13:44',\n",
       "   'push_type': '推'},\n",
       "  {'push_author': 'melvinT',\n",
       "   'push_content': '推',\n",
       "   'push_tm': '04/27 13:45',\n",
       "   'push_type': '推'},\n",
       "  {'push_author': 'naruto007007',\n",
       "   'push_content': '推 好文',\n",
       "   'push_tm': '04/27 13:47',\n",
       "   'push_type': '推'},\n",
       "  {'push_author': 'ts00788832',\n",
       "   'push_content': '好文',\n",
       "   'push_tm': '04/27 14:04',\n",
       "   'push_type': '推'},\n",
       "  {'push_author': 'shortoneal',\n",
       "   'push_content': '他兒子三歲就有女朋友惹',\n",
       "   'push_tm': '04/27 14:17',\n",
       "   'push_type': '→'},\n",
       "  {'push_author': 'whalejack',\n",
       "   'push_content': '推服務生',\n",
       "   'push_tm': '04/27 14:18',\n",
       "   'push_type': '推'},\n",
       "  {'push_author': 'ku461215',\n",
       "   'push_content': '推一下',\n",
       "   'push_tm': '04/27 14:24',\n",
       "   'push_type': '推'},\n",
       "  {'push_author': 'dancehow',\n",
       "   'push_content': '好文 蠻感人的',\n",
       "   'push_tm': '04/27 14:39',\n",
       "   'push_type': '推'},\n",
       "  {'push_author': 'bejou',\n",
       "   'push_content': '推啊~~~~~~',\n",
       "   'push_tm': '04/27 14:45',\n",
       "   'push_type': '推'},\n",
       "  {'push_author': 'XiCheng',\n",
       "   'push_content': '好故事 好翻譯',\n",
       "   'push_tm': '04/27 15:06',\n",
       "   'push_type': '推'},\n",
       "  {'push_author': 'chi12345678',\n",
       "   'push_content': '不就狼性嗎 換個國家就推了？',\n",
       "   'push_tm': '04/27 15:11',\n",
       "   'push_type': '→'},\n",
       "  {'push_author': 'glyandwwc',\n",
       "   'push_content': '推翻譯',\n",
       "   'push_tm': '04/27 15:12',\n",
       "   'push_type': '推'},\n",
       "  {'push_author': 'ken1206',\n",
       "   'push_content': '感人',\n",
       "   'push_tm': '04/27 15:16',\n",
       "   'push_type': '推'},\n",
       "  {'push_author': 'user1120',\n",
       "   'push_content': '推',\n",
       "   'push_tm': '04/27 15:40',\n",
       "   'push_type': '推'},\n",
       "  {'push_author': 'Riemann',\n",
       "   'push_content': '他要我談談我的人生 <----這不就是直銷起手式嗎 XD',\n",
       "   'push_tm': '04/27 15:47',\n",
       "   'push_type': '推'},\n",
       "  {'push_author': 'mark0204',\n",
       "   'push_content': ':',\n",
       "   'push_tm': '04/27 16:27',\n",
       "   'push_type': '推'},\n",
       "  {'push_author': 'demon77885',\n",
       "   'push_content': '推~',\n",
       "   'push_tm': '04/27 16:52',\n",
       "   'push_type': '推'},\n",
       "  {'push_author': 'fredchan1992',\n",
       "   'push_content': '好文 好翻譯 感謝',\n",
       "   'push_tm': '04/27 17:00',\n",
       "   'push_type': '推'},\n",
       "  {'push_author': 'CycleEnergy',\n",
       "   'push_content': '推推服務生 這篇讓我對你好感++',\n",
       "   'push_tm': '04/27 17:09',\n",
       "   'push_type': '推'},\n",
       "  {'push_author': 'fghfghfhg',\n",
       "   'push_content': '好文推推',\n",
       "   'push_tm': '04/27 17:18',\n",
       "   'push_type': '推'},\n",
       "  {'push_author': 'john556556',\n",
       "   'push_content': '看完好文給推',\n",
       "   'push_tm': '04/27 18:06',\n",
       "   'push_type': '推'},\n",
       "  {'push_author': 'Thriller0816',\n",
       "   'push_content': '帥 我欣賞！別人總說球員太自大，但要知道，沒自信',\n",
       "   'push_tm': '04/27 18:52',\n",
       "   'push_type': '推'},\n",
       "  {'push_author': 'Thriller0816',\n",
       "   'push_content': '根本無法生存',\n",
       "   'push_tm': '04/27 18:52',\n",
       "   'push_type': '→'},\n",
       "  {'push_author': 'umyiwen',\n",
       "   'push_content': '推',\n",
       "   'push_tm': '04/27 19:01',\n",
       "   'push_type': '推'},\n",
       "  {'push_author': 'A0908',\n",
       "   'push_content': '好文，推辛苦翻譯跟服務生',\n",
       "   'push_tm': '04/27 19:20',\n",
       "   'push_type': '推'},\n",
       "  {'push_author': 'ZaneTrout',\n",
       "   'push_content': '推',\n",
       "   'push_tm': '04/27 20:09',\n",
       "   'push_type': '推'},\n",
       "  {'push_author': 'ed6410',\n",
       "   'push_content': '他態度真的沒問題 但是球風就是這樣 騎士也只能選當',\n",
       "   'push_tm': '04/27 20:13',\n",
       "   'push_type': '推'},\n",
       "  {'push_author': 'ed6410',\n",
       "   'push_content': '時看起來更搶眼的IRVING 祝福服務生',\n",
       "   'push_tm': '04/27 20:14',\n",
       "   'push_type': '→'},\n",
       "  {'push_author': 'trh',\n",
       "   'push_content': '好文要推',\n",
       "   'push_tm': '04/27 21:07',\n",
       "   'push_type': '推'},\n",
       "  {'push_author': 'jms790607',\n",
       "   'push_content': '這樣就能理解為什麼他這麼跩了，已改觀',\n",
       "   'push_tm': '04/27 21:42',\n",
       "   'push_type': '推'},\n",
       "  {'push_author': 'ArchiVanRyan',\n",
       "   'push_content': 'Waiters帥爆啦！開始愛上他了',\n",
       "   'push_tm': '04/27 22:22',\n",
       "   'push_type': '推'},\n",
       "  {'push_author': 'barbeilt',\n",
       "   'push_content': '翻得真好，謝謝你。',\n",
       "   'push_tm': '04/27 22:58',\n",
       "   'push_type': '推'},\n",
       "  {'push_author': 'Guguguguu',\n",
       "   'push_content': '優質好文',\n",
       "   'push_tm': '04/27 23:41',\n",
       "   'push_type': '推'},\n",
       "  {'push_author': 'yeiloud',\n",
       "   'push_content': '好文',\n",
       "   'push_tm': '04/28 00:10',\n",
       "   'push_type': '推'},\n",
       "  {'push_author': 'sinben',\n",
       "   'push_content': '感謝原Po 最喜歡看這種文章 翻得太好了',\n",
       "   'push_tm': '04/28 00:51',\n",
       "   'push_type': '推'},\n",
       "  {'push_author': 'sinben',\n",
       "   'push_content': '再看一次還是覺得很感慨 黑人只能靠打球翻轉命運',\n",
       "   'push_tm': '04/28 00:52',\n",
       "   'push_type': '→'},\n",
       "  {'push_author': 'lalauya',\n",
       "   'push_content': 'end',\n",
       "   'push_tm': '04/28 02:35',\n",
       "   'push_type': '→'},\n",
       "  {'push_author': 'flyingfish71',\n",
       "   'push_content': '推！好文',\n",
       "   'push_tm': '04/28 08:29',\n",
       "   'push_type': '推'},\n",
       "  {'push_author': 'kgfight',\n",
       "   'push_content': '推好文!!!!',\n",
       "   'push_tm': '04/28 11:27',\n",
       "   'push_type': '推'}],\n",
       " 'title': '[外絮] NBA算你們走運 - Dion Waiters',\n",
       " 'tm': 'Thu Apr 27 02:25:07 2017'}"
      ]
     },
     "execution_count": 7,
     "metadata": {},
     "output_type": "execute_result"
    }
   ],
   "source": [
    "nba_data"
   ]
  },
  {
   "cell_type": "code",
   "execution_count": 8,
   "metadata": {
    "collapsed": true
   },
   "outputs": [],
   "source": [
    "# Javascrpt rendered websites...."
   ]
  },
  {
   "cell_type": "code",
   "execution_count": 9,
   "metadata": {
    "collapsed": true
   },
   "outputs": [],
   "source": [
    "res = requests.get('https://www.airbnb.com.tw/')"
   ]
  },
  {
   "cell_type": "code",
   "execution_count": 10,
   "metadata": {
    "scrolled": false
   },
   "outputs": [
    {
     "data": {
      "text/plain": [
       "<Response [200]>"
      ]
     },
     "execution_count": 10,
     "metadata": {},
     "output_type": "execute_result"
    }
   ],
   "source": [
    "res"
   ]
  },
  {
   "cell_type": "code",
   "execution_count": 11,
   "metadata": {
    "collapsed": true
   },
   "outputs": [],
   "source": [
    "with open('./airbnb.html', 'w') as f:\n",
    "    f.write(res.text)"
   ]
  },
  {
   "cell_type": "code",
   "execution_count": 12,
   "metadata": {
    "collapsed": true
   },
   "outputs": [],
   "source": [
    "# honestbee\n",
    "from lib import toolbox\n",
    "headers = toolbox.gen_header(\"\"\"Accept:application/vnd.honestbee+json;version=2\n",
    "Accept-Encoding:gzip, deflate, sdch, br\n",
    "Accept-Language:en\n",
    "Cache-Control:no-cache\n",
    "Connection:keep-alive\n",
    "Cookie:ajs_group_id=null; ajs_anonymous_id=%226ac7567b-76fd-4050-9aa9-bc9543845fbb%22; ajs_user_id=%226ac7567b-76fd-4050-9aa9-bc9543845fbb%22; ab.storage.sessionId.36d2d68f-6109-4fba-baa2-17f85da40cd5=%7B%22g%22%3A%22abab41b5-ed84-c5db-c152-faf0b087f13c%22%2C%22e%22%3A1493261233665%2C%22c%22%3A1493259433665%2C%22l%22%3A1493259433665%7D; ab.storage.deviceId.36d2d68f-6109-4fba-baa2-17f85da40cd5=%7B%22g%22%3A%2290381acb-7bfa-0249-d8f8-e228102b68a8%22%2C%22c%22%3A1493259433670%2C%22l%22%3A1493259433670%7D; _uetsid=_uetc75a543d; _TUCI_T=sessionNumber+17283&pageView+17283; _TUCS=1; _TUCI=sessionNumber+1000&ECId+727&hostname+honestbee.tw&pageView+1000&Member; _omappvp=true; _omappvs=true; _ga=GA1.2.686160775.1493259433; om-531426=true\n",
    "Host:honestbee.tw\n",
    "Pragma:no-cache\n",
    "Referer:https://honestbee.tw/en/\n",
    "User-Agent:Mozilla/5.0 (Macintosh; Intel Mac OS X 10_12_4) AppleWebKit/537.36 (KHTML, like Gecko) Chrome/58.0.3029.81 Safari/537.36\"\"\")\n",
    "\n",
    "\n",
    "res = requests.get(\"https://honestbee.tw/api/api/stores/547?sort=ranking&pageSize=48&page=2\",\n",
    "                  headers=headers)"
   ]
  },
  {
   "cell_type": "code",
   "execution_count": 13,
   "metadata": {},
   "outputs": [
    {
     "data": {
      "text/plain": [
       "<Response [200]>"
      ]
     },
     "execution_count": 13,
     "metadata": {},
     "output_type": "execute_result"
    }
   ],
   "source": [
    "res"
   ]
  },
  {
   "cell_type": "code",
   "execution_count": 1,
   "metadata": {
    "scrolled": true
   },
   "outputs": [
    {
     "ename": "NameError",
     "evalue": "name 'res' is not defined",
     "output_type": "error",
     "traceback": [
      "\u001b[0;31m---------------------------------------------------------------------------\u001b[0m",
      "\u001b[0;31mNameError\u001b[0m                                 Traceback (most recent call last)",
      "\u001b[0;32m<ipython-input-1-ed1532757802>\u001b[0m in \u001b[0;36m<module>\u001b[0;34m()\u001b[0m\n\u001b[0;32m----> 1\u001b[0;31m \u001b[0mres\u001b[0m\u001b[0;34m.\u001b[0m\u001b[0mjson\u001b[0m\u001b[0;34m(\u001b[0m\u001b[0;34m)\u001b[0m\u001b[0;34m[\u001b[0m\u001b[0;34m'products'\u001b[0m\u001b[0;34m]\u001b[0m\u001b[0;34m\u001b[0m\u001b[0m\n\u001b[0m",
      "\u001b[0;31mNameError\u001b[0m: name 'res' is not defined"
     ]
    }
   ],
   "source": [
    "res.json()['products']"
   ]
  },
  {
   "cell_type": "code",
   "execution_count": 2,
   "metadata": {},
   "outputs": [
    {
     "name": "stdout",
     "output_type": "stream",
     "text": [
      "\u001b[31mInvalid requirement: 'splinter#載入splinter'\r\n",
      "Traceback (most recent call last):\r\n",
      "  File \"/home/skydream37/.pyenv/versions/3.6.1/lib/python3.6/site-packages/pip/_vendor/packaging/requirements.py\", line 92, in __init__\r\n",
      "    req = REQUIREMENT.parseString(requirement_string)\r\n",
      "  File \"/home/skydream37/.pyenv/versions/3.6.1/lib/python3.6/site-packages/pip/_vendor/pyparsing.py\", line 1617, in parseString\r\n",
      "    raise exc\r\n",
      "  File \"/home/skydream37/.pyenv/versions/3.6.1/lib/python3.6/site-packages/pip/_vendor/pyparsing.py\", line 1607, in parseString\r\n",
      "    loc, tokens = self._parse( instring, 0 )\r\n",
      "  File \"/home/skydream37/.pyenv/versions/3.6.1/lib/python3.6/site-packages/pip/_vendor/pyparsing.py\", line 1379, in _parseNoCache\r\n",
      "    loc,tokens = self.parseImpl( instring, preloc, doActions )\r\n",
      "  File \"/home/skydream37/.pyenv/versions/3.6.1/lib/python3.6/site-packages/pip/_vendor/pyparsing.py\", line 3376, in parseImpl\r\n",
      "    loc, exprtokens = e._parse( instring, loc, doActions )\r\n",
      "  File \"/home/skydream37/.pyenv/versions/3.6.1/lib/python3.6/site-packages/pip/_vendor/pyparsing.py\", line 1383, in _parseNoCache\r\n",
      "    loc,tokens = self.parseImpl( instring, preloc, doActions )\r\n",
      "  File \"/home/skydream37/.pyenv/versions/3.6.1/lib/python3.6/site-packages/pip/_vendor/pyparsing.py\", line 3164, in parseImpl\r\n",
      "    raise ParseException(instring, loc, self.errmsg, self)\r\n",
      "pip._vendor.pyparsing.ParseException: Expected stringEnd (at char 8), (line:1, col:9)\r\n",
      "\r\n",
      "During handling of the above exception, another exception occurred:\r\n",
      "\r\n",
      "Traceback (most recent call last):\r\n",
      "  File \"/home/skydream37/.pyenv/versions/3.6.1/lib/python3.6/site-packages/pip/req/req_install.py\", line 82, in __init__\r\n",
      "    req = Requirement(req)\r\n",
      "  File \"/home/skydream37/.pyenv/versions/3.6.1/lib/python3.6/site-packages/pip/_vendor/packaging/requirements.py\", line 96, in __init__\r\n",
      "    requirement_string[e.loc:e.loc + 8]))\r\n",
      "pip._vendor.packaging.requirements.InvalidRequirement: Invalid requirement, parse error at \"'#載入splin'\"\r\n",
      "\u001b[0m\r\n"
     ]
    }
   ],
   "source": [
    "!pip install splinter#載入splinter"
   ]
  },
  {
   "cell_type": "code",
   "execution_count": 20,
   "metadata": {},
   "outputs": [
    {
     "ename": "WebDriverException",
     "evalue": "Message: 'chromedriver' executable needs to be in PATH. Please see https://sites.google.com/a/chromium.org/chromedriver/home\n",
     "output_type": "error",
     "traceback": [
      "\u001b[0;31m---------------------------------------------------------------------------\u001b[0m",
      "\u001b[0;31mFileNotFoundError\u001b[0m                         Traceback (most recent call last)",
      "\u001b[0;32m/home/skydream37/.pyenv/versions/3.6.1/lib/python3.6/site-packages/selenium/webdriver/common/service.py\u001b[0m in \u001b[0;36mstart\u001b[0;34m(self)\u001b[0m\n\u001b[1;32m     73\u001b[0m                                             \u001b[0mclose_fds\u001b[0m\u001b[0;34m=\u001b[0m\u001b[0mplatform\u001b[0m\u001b[0;34m.\u001b[0m\u001b[0msystem\u001b[0m\u001b[0;34m(\u001b[0m\u001b[0;34m)\u001b[0m \u001b[0;34m!=\u001b[0m \u001b[0;34m'Windows'\u001b[0m\u001b[0;34m,\u001b[0m\u001b[0;34m\u001b[0m\u001b[0m\n\u001b[0;32m---> 74\u001b[0;31m                                             stdout=self.log_file, stderr=self.log_file)\n\u001b[0m\u001b[1;32m     75\u001b[0m         \u001b[0;32mexcept\u001b[0m \u001b[0mTypeError\u001b[0m\u001b[0;34m:\u001b[0m\u001b[0;34m\u001b[0m\u001b[0m\n",
      "\u001b[0;32m/home/skydream37/.pyenv/versions/3.6.1/lib/python3.6/subprocess.py\u001b[0m in \u001b[0;36m__init__\u001b[0;34m(self, args, bufsize, executable, stdin, stdout, stderr, preexec_fn, close_fds, shell, cwd, env, universal_newlines, startupinfo, creationflags, restore_signals, start_new_session, pass_fds, encoding, errors)\u001b[0m\n\u001b[1;32m    706\u001b[0m                                 \u001b[0merrread\u001b[0m\u001b[0;34m,\u001b[0m \u001b[0merrwrite\u001b[0m\u001b[0;34m,\u001b[0m\u001b[0;34m\u001b[0m\u001b[0m\n\u001b[0;32m--> 707\u001b[0;31m                                 restore_signals, start_new_session)\n\u001b[0m\u001b[1;32m    708\u001b[0m         \u001b[0;32mexcept\u001b[0m\u001b[0;34m:\u001b[0m\u001b[0;34m\u001b[0m\u001b[0m\n",
      "\u001b[0;32m/home/skydream37/.pyenv/versions/3.6.1/lib/python3.6/subprocess.py\u001b[0m in \u001b[0;36m_execute_child\u001b[0;34m(self, args, executable, preexec_fn, close_fds, pass_fds, cwd, env, startupinfo, creationflags, shell, p2cread, p2cwrite, c2pread, c2pwrite, errread, errwrite, restore_signals, start_new_session)\u001b[0m\n\u001b[1;32m   1325\u001b[0m                                 \u001b[0merr_msg\u001b[0m \u001b[0;34m+=\u001b[0m \u001b[0;34m': '\u001b[0m \u001b[0;34m+\u001b[0m \u001b[0mrepr\u001b[0m\u001b[0;34m(\u001b[0m\u001b[0morig_executable\u001b[0m\u001b[0;34m)\u001b[0m\u001b[0;34m\u001b[0m\u001b[0m\n\u001b[0;32m-> 1326\u001b[0;31m                     \u001b[0;32mraise\u001b[0m \u001b[0mchild_exception_type\u001b[0m\u001b[0;34m(\u001b[0m\u001b[0merrno_num\u001b[0m\u001b[0;34m,\u001b[0m \u001b[0merr_msg\u001b[0m\u001b[0;34m)\u001b[0m\u001b[0;34m\u001b[0m\u001b[0m\n\u001b[0m\u001b[1;32m   1327\u001b[0m                 \u001b[0;32mraise\u001b[0m \u001b[0mchild_exception_type\u001b[0m\u001b[0;34m(\u001b[0m\u001b[0merr_msg\u001b[0m\u001b[0;34m)\u001b[0m\u001b[0;34m\u001b[0m\u001b[0m\n",
      "\u001b[0;31mFileNotFoundError\u001b[0m: [Errno 2] No such file or directory: 'chromedriver'",
      "\nDuring handling of the above exception, another exception occurred:\n",
      "\u001b[0;31mWebDriverException\u001b[0m                        Traceback (most recent call last)",
      "\u001b[0;32m<ipython-input-20-d84051271689>\u001b[0m in \u001b[0;36m<module>\u001b[0;34m()\u001b[0m\n\u001b[1;32m      1\u001b[0m \u001b[0;32mfrom\u001b[0m \u001b[0msplinter\u001b[0m \u001b[0;32mimport\u001b[0m \u001b[0mBrowser\u001b[0m \u001b[0;31m#開啟spliter中的Browser\u001b[0m\u001b[0;34m\u001b[0m\u001b[0m\n\u001b[1;32m      2\u001b[0m \u001b[0;34m\u001b[0m\u001b[0m\n\u001b[0;32m----> 3\u001b[0;31m \u001b[0mbrowser\u001b[0m \u001b[0;34m=\u001b[0m \u001b[0mBrowser\u001b[0m\u001b[0;34m(\u001b[0m\u001b[0;34m'chrome'\u001b[0m\u001b[0;34m)\u001b[0m \u001b[0;31m#以chrome開啟\u001b[0m\u001b[0;34m\u001b[0m\u001b[0m\n\u001b[0m\u001b[1;32m      4\u001b[0m \u001b[0;34m\u001b[0m\u001b[0m\n\u001b[1;32m      5\u001b[0m \u001b[0murl\u001b[0m \u001b[0;34m=\u001b[0m \u001b[0;34m\"http://www.google.com\"\u001b[0m\u001b[0;34m\u001b[0m\u001b[0m\n",
      "\u001b[0;32m/home/skydream37/.pyenv/versions/3.6.1/lib/python3.6/site-packages/splinter/browser.py\u001b[0m in \u001b[0;36mBrowser\u001b[0;34m(driver_name, *args, **kwargs)\u001b[0m\n\u001b[1;32m     61\u001b[0m     \u001b[0;32mexcept\u001b[0m \u001b[0mKeyError\u001b[0m\u001b[0;34m:\u001b[0m\u001b[0;34m\u001b[0m\u001b[0m\n\u001b[1;32m     62\u001b[0m         \u001b[0;32mraise\u001b[0m \u001b[0mDriverNotFoundError\u001b[0m\u001b[0;34m(\u001b[0m\u001b[0;34m\"No driver for %s\"\u001b[0m \u001b[0;34m%\u001b[0m \u001b[0mdriver_name\u001b[0m\u001b[0;34m)\u001b[0m\u001b[0;34m\u001b[0m\u001b[0m\n\u001b[0;32m---> 63\u001b[0;31m     \u001b[0;32mreturn\u001b[0m \u001b[0mdriver\u001b[0m\u001b[0;34m(\u001b[0m\u001b[0;34m*\u001b[0m\u001b[0margs\u001b[0m\u001b[0;34m,\u001b[0m \u001b[0;34m**\u001b[0m\u001b[0mkwargs\u001b[0m\u001b[0;34m)\u001b[0m\u001b[0;34m\u001b[0m\u001b[0m\n\u001b[0m",
      "\u001b[0;32m/home/skydream37/.pyenv/versions/3.6.1/lib/python3.6/site-packages/splinter/driver/webdriver/chrome.py\u001b[0m in \u001b[0;36m__init__\u001b[0;34m(self, options, user_agent, wait_time, fullscreen, incognito, **kwargs)\u001b[0m\n\u001b[1;32m     29\u001b[0m             \u001b[0moptions\u001b[0m\u001b[0;34m.\u001b[0m\u001b[0madd_argument\u001b[0m\u001b[0;34m(\u001b[0m\u001b[0;34m'--kiosk'\u001b[0m\u001b[0;34m)\u001b[0m\u001b[0;34m\u001b[0m\u001b[0m\n\u001b[1;32m     30\u001b[0m \u001b[0;34m\u001b[0m\u001b[0m\n\u001b[0;32m---> 31\u001b[0;31m         \u001b[0mself\u001b[0m\u001b[0;34m.\u001b[0m\u001b[0mdriver\u001b[0m \u001b[0;34m=\u001b[0m \u001b[0mChrome\u001b[0m\u001b[0;34m(\u001b[0m\u001b[0mchrome_options\u001b[0m\u001b[0;34m=\u001b[0m\u001b[0moptions\u001b[0m\u001b[0;34m,\u001b[0m \u001b[0;34m**\u001b[0m\u001b[0mkwargs\u001b[0m\u001b[0;34m)\u001b[0m\u001b[0;34m\u001b[0m\u001b[0m\n\u001b[0m\u001b[1;32m     32\u001b[0m \u001b[0;34m\u001b[0m\u001b[0m\n\u001b[1;32m     33\u001b[0m         \u001b[0mself\u001b[0m\u001b[0;34m.\u001b[0m\u001b[0melement_class\u001b[0m \u001b[0;34m=\u001b[0m \u001b[0mWebDriverElement\u001b[0m\u001b[0;34m\u001b[0m\u001b[0m\n",
      "\u001b[0;32m/home/skydream37/.pyenv/versions/3.6.1/lib/python3.6/site-packages/selenium/webdriver/chrome/webdriver.py\u001b[0m in \u001b[0;36m__init__\u001b[0;34m(self, executable_path, port, chrome_options, service_args, desired_capabilities, service_log_path)\u001b[0m\n\u001b[1;32m     60\u001b[0m             \u001b[0mservice_args\u001b[0m\u001b[0;34m=\u001b[0m\u001b[0mservice_args\u001b[0m\u001b[0;34m,\u001b[0m\u001b[0;34m\u001b[0m\u001b[0m\n\u001b[1;32m     61\u001b[0m             log_path=service_log_path)\n\u001b[0;32m---> 62\u001b[0;31m         \u001b[0mself\u001b[0m\u001b[0;34m.\u001b[0m\u001b[0mservice\u001b[0m\u001b[0;34m.\u001b[0m\u001b[0mstart\u001b[0m\u001b[0;34m(\u001b[0m\u001b[0;34m)\u001b[0m\u001b[0;34m\u001b[0m\u001b[0m\n\u001b[0m\u001b[1;32m     63\u001b[0m \u001b[0;34m\u001b[0m\u001b[0m\n\u001b[1;32m     64\u001b[0m         \u001b[0;32mtry\u001b[0m\u001b[0;34m:\u001b[0m\u001b[0;34m\u001b[0m\u001b[0m\n",
      "\u001b[0;32m/home/skydream37/.pyenv/versions/3.6.1/lib/python3.6/site-packages/selenium/webdriver/common/service.py\u001b[0m in \u001b[0;36mstart\u001b[0;34m(self)\u001b[0m\n\u001b[1;32m     79\u001b[0m                 raise WebDriverException(\n\u001b[1;32m     80\u001b[0m                     \"'%s' executable needs to be in PATH. %s\" % (\n\u001b[0;32m---> 81\u001b[0;31m                         os.path.basename(self.path), self.start_error_message)\n\u001b[0m\u001b[1;32m     82\u001b[0m                 )\n\u001b[1;32m     83\u001b[0m             \u001b[0;32melif\u001b[0m \u001b[0merr\u001b[0m\u001b[0;34m.\u001b[0m\u001b[0merrno\u001b[0m \u001b[0;34m==\u001b[0m \u001b[0merrno\u001b[0m\u001b[0;34m.\u001b[0m\u001b[0mEACCES\u001b[0m\u001b[0;34m:\u001b[0m\u001b[0;34m\u001b[0m\u001b[0m\n",
      "\u001b[0;31mWebDriverException\u001b[0m: Message: 'chromedriver' executable needs to be in PATH. Please see https://sites.google.com/a/chromium.org/chromedriver/home\n"
     ]
    }
   ],
   "source": [
    "from splinter import Browser #開啟spliter中的Browser\n",
    "\n",
    "browser = Browser('chrome') #以chrome開啟\n",
    "\n",
    "url = \"http://www.google.com\"\n",
    "# browser.visit(url)\n",
    "# browser.fill('q', 'ianchenhq\\n')\n",
    "# if browser.is_text_present('ianchenhq.com'):\n",
    "#     print(\"Yes, the blog website was found!\")\n",
    "# else:\n",
    "#     print(\"No, it wasn't found... We need to improve our SEO techniques\")"
   ]
  },
  {
   "cell_type": "code",
   "execution_count": 38,
   "metadata": {},
   "outputs": [
    {
     "ename": "NameError",
     "evalue": "name 'browser' is not defined",
     "output_type": "error",
     "traceback": [
      "\u001b[0;31m---------------------------------------------------------------------------\u001b[0m",
      "\u001b[0;31mNameError\u001b[0m                                 Traceback (most recent call last)",
      "\u001b[0;32m<ipython-input-38-23bbafb0e03b>\u001b[0m in \u001b[0;36m<module>\u001b[0;34m()\u001b[0m\n\u001b[0;32m----> 1\u001b[0;31m \u001b[0mbrowser\u001b[0m\u001b[0;34m.\u001b[0m\u001b[0mvisit\u001b[0m\u001b[0;34m(\u001b[0m\u001b[0;34m\"http://google.com\"\u001b[0m\u001b[0;34m)\u001b[0m \u001b[0;31m#訪問google網站\u001b[0m\u001b[0;34m\u001b[0m\u001b[0m\n\u001b[0m",
      "\u001b[0;31mNameError\u001b[0m: name 'browser' is not defined"
     ]
    }
   ],
   "source": [
    "browser.visit(\"http://google.com\") #訪問google網站"
   ]
  },
  {
   "cell_type": "code",
   "execution_count": 39,
   "metadata": {},
   "outputs": [
    {
     "ename": "NameError",
     "evalue": "name 'browser' is not defined",
     "output_type": "error",
     "traceback": [
      "\u001b[0;31m---------------------------------------------------------------------------\u001b[0m",
      "\u001b[0;31mNameError\u001b[0m                                 Traceback (most recent call last)",
      "\u001b[0;32m<ipython-input-39-dc2286784c64>\u001b[0m in \u001b[0;36m<module>\u001b[0;34m()\u001b[0m\n\u001b[0;32m----> 1\u001b[0;31m \u001b[0msearch_input\u001b[0m \u001b[0;34m=\u001b[0m \u001b[0mbrowser\u001b[0m\u001b[0;34m.\u001b[0m\u001b[0mfind_by_xpath\u001b[0m\u001b[0;34m(\u001b[0m\u001b[0;34m'//*[@id=\"lst-ib\"]'\u001b[0m\u001b[0;34m)\u001b[0m\u001b[0;34m[\u001b[0m\u001b[0;36m0\u001b[0m\u001b[0;34m]\u001b[0m \u001b[0;31m#選取到搜尋列\u001b[0m\u001b[0;34m\u001b[0m\u001b[0m\n\u001b[0m",
      "\u001b[0;31mNameError\u001b[0m: name 'browser' is not defined"
     ]
    }
   ],
   "source": [
    "search_input = browser.find_by_xpath('//*[@id=\"lst-ib\"]')[0] #選取到搜尋列"
   ]
  },
  {
   "cell_type": "code",
   "execution_count": 40,
   "metadata": {},
   "outputs": [
    {
     "ename": "NameError",
     "evalue": "name 'search_input' is not defined",
     "output_type": "error",
     "traceback": [
      "\u001b[0;31m---------------------------------------------------------------------------\u001b[0m",
      "\u001b[0;31mNameError\u001b[0m                                 Traceback (most recent call last)",
      "\u001b[0;32m<ipython-input-40-1738a7a0778e>\u001b[0m in \u001b[0;36m<module>\u001b[0;34m()\u001b[0m\n\u001b[0;32m----> 1\u001b[0;31m \u001b[0mtype\u001b[0m\u001b[0;34m(\u001b[0m\u001b[0msearch_input\u001b[0m\u001b[0;34m)\u001b[0m\u001b[0;34m\u001b[0m\u001b[0m\n\u001b[0m",
      "\u001b[0;31mNameError\u001b[0m: name 'search_input' is not defined"
     ]
    }
   ],
   "source": [
    "type(search_input)"
   ]
  },
  {
   "cell_type": "code",
   "execution_count": 41,
   "metadata": {},
   "outputs": [
    {
     "ename": "NameError",
     "evalue": "name 'search_input' is not defined",
     "output_type": "error",
     "traceback": [
      "\u001b[0;31m---------------------------------------------------------------------------\u001b[0m",
      "\u001b[0;31mNameError\u001b[0m                                 Traceback (most recent call last)",
      "\u001b[0;32m<ipython-input-41-20661dc66dea>\u001b[0m in \u001b[0;36m<module>\u001b[0;34m()\u001b[0m\n\u001b[0;32m----> 1\u001b[0;31m \u001b[0msearch_input\u001b[0m\u001b[0;34m.\u001b[0m\u001b[0mfill\u001b[0m\u001b[0;34m(\u001b[0m\u001b[0;34m'ianchenhq\\n'\u001b[0m\u001b[0;34m)\u001b[0m \u001b[0;31m#搜尋ianchenhq按下enter\u001b[0m\u001b[0;34m\u001b[0m\u001b[0m\n\u001b[0m",
      "\u001b[0;31mNameError\u001b[0m: name 'search_input' is not defined"
     ]
    }
   ],
   "source": [
    "search_input.fill('ianchenhq\\n') #搜尋ianchenhq按下enter"
   ]
  },
  {
   "cell_type": "code",
   "execution_count": null,
   "metadata": {
    "collapsed": true
   },
   "outputs": [],
   "source": [
    "browser.is_text_present('https://ianchenhq.com') #搜尋內容是否有此網址"
   ]
  },
  {
   "cell_type": "code",
   "execution_count": null,
   "metadata": {
    "collapsed": true
   },
   "outputs": [],
   "source": [
    "blog_link = browser.find_by_xpath('//*[@id=\"rso\"]/div/div/div[6]/div/div/h3/a')[0]\n",
    "#選取第六個搜尋結果"
   ]
  },
  {
   "cell_type": "code",
   "execution_count": null,
   "metadata": {
    "collapsed": true
   },
   "outputs": [],
   "source": [
    "type(blog_link)"
   ]
  },
  {
   "cell_type": "code",
   "execution_count": null,
   "metadata": {
    "collapsed": true
   },
   "outputs": [],
   "source": [
    "blog_link.click() #點擊所選定的路徑"
   ]
  },
  {
   "cell_type": "code",
   "execution_count": null,
   "metadata": {
    "collapsed": true
   },
   "outputs": [],
   "source": [
    "browser.execute_script('window.scrollTo(0, document.body.scrollHeight)')#使用javascrip將捲軸拉到最下面"
   ]
  },
  {
   "cell_type": "code",
   "execution_count": null,
   "metadata": {
    "collapsed": true
   },
   "outputs": [],
   "source": [
    "browser.execute_script('window.scrollTo(0, 250)')#將捲軸拉到250的位置"
   ]
  },
  {
   "cell_type": "code",
   "execution_count": null,
   "metadata": {
    "collapsed": true
   },
   "outputs": [],
   "source": [
    "browser.screenshot('./ianchenhq.png')"
   ]
  },
  {
   "cell_type": "code",
   "execution_count": null,
   "metadata": {
    "collapsed": true,
    "scrolled": false
   },
   "outputs": [],
   "source": [
    "browser.html"
   ]
  },
  {
   "cell_type": "code",
   "execution_count": null,
   "metadata": {
    "collapsed": true
   },
   "outputs": [],
   "source": [
    "soup = BeautifulSoup(browser.html, 'lxml')"
   ]
  },
  {
   "cell_type": "code",
   "execution_count": null,
   "metadata": {
    "collapsed": true
   },
   "outputs": [],
   "source": [
    "for link in soup.select(\"h3.r > a\"):\n",
    "    print(link['href'])"
   ]
  },
  {
   "cell_type": "code",
   "execution_count": null,
   "metadata": {
    "collapsed": true
   },
   "outputs": [],
   "source": [
    "browser.quit()"
   ]
  },
  {
   "cell_type": "code",
   "execution_count": null,
   "metadata": {
    "collapsed": true
   },
   "outputs": [],
   "source": [
    "with Browser('chrome') as browser:\n",
    "    browser.visit('https://ianchenhq.com')\n",
    "    blog = browser.html"
   ]
  },
  {
   "cell_type": "code",
   "execution_count": null,
   "metadata": {
    "collapsed": true
   },
   "outputs": [],
   "source": [
    "blog"
   ]
  },
  {
   "cell_type": "code",
   "execution_count": null,
   "metadata": {
    "collapsed": true
   },
   "outputs": [],
   "source": [
    "browser = Browser('chrome')"
   ]
  },
  {
   "cell_type": "code",
   "execution_count": null,
   "metadata": {
    "collapsed": true
   },
   "outputs": [],
   "source": [
    "browser.visit(\"https://www.skyscanner.com.tw\")"
   ]
  },
  {
   "cell_type": "code",
   "execution_count": null,
   "metadata": {
    "collapsed": true
   },
   "outputs": [],
   "source": [
    "dest = browser.find_by_xpath('//*[@id=\"js-destination-input\"]')[0]"
   ]
  },
  {
   "cell_type": "code",
   "execution_count": null,
   "metadata": {
    "collapsed": true
   },
   "outputs": [],
   "source": [
    "dest.fill('Narita')"
   ]
  },
  {
   "cell_type": "code",
   "execution_count": null,
   "metadata": {
    "collapsed": true
   },
   "outputs": [],
   "source": [
    "dept_date = browser.find_by_xpath('//*[@id=\"js-depart-input\"]')[0]"
   ]
  },
  {
   "cell_type": "code",
   "execution_count": null,
   "metadata": {
    "collapsed": true
   },
   "outputs": [],
   "source": [
    "dept_date = browser.find_by_xpath('//*[@id=\"category-flights\"]/div[12]/div/div/div[2]/div/section/div[2]/table/tbody/tr[6]/td[1]/a')[0]"
   ]
  },
  {
   "cell_type": "code",
   "execution_count": null,
   "metadata": {
    "collapsed": true
   },
   "outputs": [],
   "source": [
    "dept_date.click()"
   ]
  },
  {
   "cell_type": "code",
   "execution_count": null,
   "metadata": {
    "collapsed": true
   },
   "outputs": [],
   "source": [
    "browser.find_by_xpath('//*[@id=\"js-return-input\"]')[0]"
   ]
  },
  {
   "cell_type": "code",
   "execution_count": null,
   "metadata": {
    "collapsed": true
   },
   "outputs": [],
   "source": [
    "browser.find_by_xpath('//*[@id=\"category-flights\"]/div[13]/div/div/div[2]/div/section/div[1]/button[2]')[0].click()"
   ]
  },
  {
   "cell_type": "code",
   "execution_count": null,
   "metadata": {
    "collapsed": true
   },
   "outputs": [],
   "source": [
    "browser.find_by_xpath('//*[@id=\"category-flights\"]/div[13]/div/div/div[2]/div/section/div[2]/table/tbody/tr[1]/td[3]/a')[0].click()"
   ]
  },
  {
   "cell_type": "code",
   "execution_count": null,
   "metadata": {
    "collapsed": true
   },
   "outputs": [],
   "source": [
    "browser.find_by_xpath('//*[@id=\"js-search-controls-container\"]/form/section[2]/button/span[1]')[0].click()"
   ]
  },
  {
   "cell_type": "code",
   "execution_count": null,
   "metadata": {
    "collapsed": true
   },
   "outputs": [],
   "source": [
    "browser.html"
   ]
  },
  {
   "cell_type": "code",
   "execution_count": null,
   "metadata": {
    "collapsed": true
   },
   "outputs": [],
   "source": [
    "soup = BeautifulSoup(browser.html, 'lxml')"
   ]
  },
  {
   "cell_type": "code",
   "execution_count": null,
   "metadata": {
    "collapsed": true
   },
   "outputs": [],
   "source": [
    "soup.select('div.card-body')"
   ]
  },
  {
   "cell_type": "code",
   "execution_count": null,
   "metadata": {
    "collapsed": true
   },
   "outputs": [],
   "source": [
    "browser.find_by_xpath('//*[@id=\"day-section\"]/div/div[3]/div[9]/div[2]/ul/li[6]/button')[0].click()"
   ]
  },
  {
   "cell_type": "code",
   "execution_count": null,
   "metadata": {
    "collapsed": true
   },
   "outputs": [],
   "source": [
    "browser = Browser('chrome')"
   ]
  },
  {
   "cell_type": "code",
   "execution_count": null,
   "metadata": {
    "collapsed": true
   },
   "outputs": [],
   "source": [
    "browser.visit('https://www.indiegogo.com')"
   ]
  },
  {
   "cell_type": "code",
   "execution_count": null,
   "metadata": {
    "collapsed": true
   },
   "outputs": [],
   "source": [
    "browser.find_by_xpath('/html/body/div[2]/div/div/div[1]/div[1]/div[1]/nav/a[1]')[0].click()"
   ]
  },
  {
   "cell_type": "code",
   "execution_count": null,
   "metadata": {
    "collapsed": true
   },
   "outputs": [],
   "source": [
    "browser.find_by_xpath('/html/body/div[2]/div/div/div[4]/div/explore-detail/div/div[2]/div[4]/div[1]/div/a[1]/div[2]/div[1]/div[2]')[0].click()"
   ]
  },
  {
   "cell_type": "markdown",
   "metadata": {},
   "source": [
    "# Python datetime transform"
   ]
  },
  {
   "cell_type": "code",
   "execution_count": null,
   "metadata": {
    "collapsed": true
   },
   "outputs": [],
   "source": [
    "nba_data = article_crawler(\"https://www.ptt.cc/bbs/NBA/M.1493231113.A.172.html\")"
   ]
  },
  {
   "cell_type": "code",
   "execution_count": null,
   "metadata": {
    "collapsed": true
   },
   "outputs": [],
   "source": [
    "nba_data['tm']"
   ]
  },
  {
   "cell_type": "code",
   "execution_count": null,
   "metadata": {
    "collapsed": true
   },
   "outputs": [],
   "source": [
    "from datetime import datetime, timedelta, timezone"
   ]
  },
  {
   "cell_type": "code",
   "execution_count": null,
   "metadata": {
    "collapsed": true
   },
   "outputs": [],
   "source": [
    "datetime.now()"
   ]
  },
  {
   "cell_type": "code",
   "execution_count": null,
   "metadata": {
    "collapsed": true
   },
   "outputs": [],
   "source": [
    "datetime.now().hour"
   ]
  },
  {
   "cell_type": "code",
   "execution_count": null,
   "metadata": {
    "collapsed": true
   },
   "outputs": [],
   "source": [
    "datetime.now().day"
   ]
  },
  {
   "cell_type": "code",
   "execution_count": null,
   "metadata": {
    "collapsed": true
   },
   "outputs": [],
   "source": [
    "datetime.now().strftime(\"%Y-%m-%d %H:%M\")"
   ]
  },
  {
   "cell_type": "code",
   "execution_count": null,
   "metadata": {
    "collapsed": true
   },
   "outputs": [],
   "source": [
    "nba_tm = datetime.strptime('Thu Apr 27 02:25:07 2017', \"%a %b %d %H:%M:%S %Y\")"
   ]
  },
  {
   "cell_type": "code",
   "execution_count": null,
   "metadata": {
    "collapsed": true
   },
   "outputs": [],
   "source": [
    "nba_tm"
   ]
  },
  {
   "cell_type": "code",
   "execution_count": null,
   "metadata": {
    "collapsed": true
   },
   "outputs": [],
   "source": [
    "nba_tm.day"
   ]
  },
  {
   "cell_type": "code",
   "execution_count": null,
   "metadata": {
    "collapsed": true
   },
   "outputs": [],
   "source": [
    "nba_tm.isoformat()"
   ]
  },
  {
   "cell_type": "code",
   "execution_count": null,
   "metadata": {
    "collapsed": true
   },
   "outputs": [],
   "source": [
    "nba_tm = article_crawler(\"https://www.ptt.cc/bbs/NBA/M.1491350418.A.B52.html\")['tm']"
   ]
  },
  {
   "cell_type": "code",
   "execution_count": null,
   "metadata": {
    "collapsed": true
   },
   "outputs": [],
   "source": [
    "nba_tm"
   ]
  },
  {
   "cell_type": "code",
   "execution_count": null,
   "metadata": {
    "collapsed": true
   },
   "outputs": [],
   "source": [
    "tm_list = nba_tm.split()"
   ]
  },
  {
   "cell_type": "code",
   "execution_count": null,
   "metadata": {
    "collapsed": true
   },
   "outputs": [],
   "source": [
    "tm_list"
   ]
  },
  {
   "cell_type": "code",
   "execution_count": null,
   "metadata": {
    "collapsed": true
   },
   "outputs": [],
   "source": [
    "if len(tm_list[2]) == 1:\n",
    "    tm_list[2] = '0' + tm_list[2]"
   ]
  },
  {
   "cell_type": "code",
   "execution_count": null,
   "metadata": {
    "collapsed": true
   },
   "outputs": [],
   "source": [
    "tm_list"
   ]
  },
  {
   "cell_type": "code",
   "execution_count": null,
   "metadata": {
    "collapsed": true
   },
   "outputs": [],
   "source": [
    "nba_tm = ' '.join(tm_list)"
   ]
  },
  {
   "cell_type": "code",
   "execution_count": null,
   "metadata": {
    "collapsed": true
   },
   "outputs": [],
   "source": [
    "nba_tm"
   ]
  },
  {
   "cell_type": "code",
   "execution_count": null,
   "metadata": {
    "collapsed": true
   },
   "outputs": [],
   "source": [
    "# timezone\n",
    "\n",
    "taipei = timezone(+timedelta(hours=8))\n",
    "\n",
    "tz_tm = datetime.now().replace(tzinfo=taipei)\n",
    "tz_tm"
   ]
  },
  {
   "cell_type": "code",
   "execution_count": null,
   "metadata": {
    "collapsed": true
   },
   "outputs": [],
   "source": [
    "tz_tm.isoformat()"
   ]
  },
  {
   "cell_type": "code",
   "execution_count": null,
   "metadata": {
    "collapsed": true
   },
   "outputs": [],
   "source": [
    "tz_tm.timestamp()"
   ]
  },
  {
   "cell_type": "code",
   "execution_count": null,
   "metadata": {
    "collapsed": true
   },
   "outputs": [],
   "source": [
    "from dateutil import parser\n",
    "# complete datetime ETL example\n",
    "gym_data = []\n",
    "with open('./datasets/gym.csv') as f:\n",
    "    for idx, row in enumerate(f): # enumerate -> 得到for loop的index\n",
    "        if idx == 0:\n",
    "            header = row.strip().split(\",\")\n",
    "        else:\n",
    "            # zip(['key1', 'key2], [1,2]) -> (key1, 1), (key2, 2)\n",
    "            # dictionary comprehension..\n",
    "            row_dict = {k:v for k,v in zip(header, row.strip().split(\",\"))}\n",
    "            row_dict['timestamp'] = parser.parse(row_dict['timestamp'])\n",
    "            gym_data.append(row_dict)\n",
    "        print(\"NO %s - %s\" % (idx, row.strip()))"
   ]
  },
  {
   "cell_type": "code",
   "execution_count": null,
   "metadata": {
    "collapsed": true
   },
   "outputs": [],
   "source": [
    "gym_data"
   ]
  },
  {
   "cell_type": "code",
   "execution_count": null,
   "metadata": {
    "collapsed": true
   },
   "outputs": [],
   "source": [
    "[row for row in gym_data if row['timestamp'] > datetime(year=2017, month=4, day=21, tzinfo=taipei)]"
   ]
  },
  {
   "cell_type": "code",
   "execution_count": null,
   "metadata": {
    "collapsed": true
   },
   "outputs": [],
   "source": [
    "!pip install arrow"
   ]
  },
  {
   "cell_type": "code",
   "execution_count": null,
   "metadata": {
    "collapsed": true
   },
   "outputs": [],
   "source": [
    "import arrow"
   ]
  },
  {
   "cell_type": "code",
   "execution_count": null,
   "metadata": {
    "collapsed": true
   },
   "outputs": [],
   "source": [
    "nba_tm = arrow.Arrow.strptime(\"Wed Apr 05 08:00:15 2017\", \"%a %b %d %H:%M:%S %Y\", tzinfo='Asia/Taipei')"
   ]
  },
  {
   "cell_type": "code",
   "execution_count": null,
   "metadata": {
    "collapsed": true
   },
   "outputs": [],
   "source": [
    "nba_tm.timestamp"
   ]
  },
  {
   "cell_type": "code",
   "execution_count": null,
   "metadata": {
    "collapsed": true
   },
   "outputs": [],
   "source": [
    "nba_tm.isoformat()"
   ]
  },
  {
   "cell_type": "code",
   "execution_count": null,
   "metadata": {
    "collapsed": true
   },
   "outputs": [],
   "source": [
    "arrow.get(\"Wed Apr 05 08:00:15 2017\", 'ddd MMM DD HH:mm:ss YYYY', tzinfo='Asia/Taipei').isoformat()"
   ]
  },
  {
   "cell_type": "markdown",
   "metadata": {},
   "source": [
    "# Pandas"
   ]
  },
  {
   "cell_type": "code",
   "execution_count": null,
   "metadata": {
    "collapsed": true
   },
   "outputs": [],
   "source": [
    "!pip install pandas"
   ]
  },
  {
   "cell_type": "code",
   "execution_count": null,
   "metadata": {
    "collapsed": true
   },
   "outputs": [],
   "source": [
    "import pandas as pd"
   ]
  },
  {
   "cell_type": "code",
   "execution_count": null,
   "metadata": {
    "collapsed": true
   },
   "outputs": [],
   "source": [
    "df = pd.read_csv('./datasets/gym.csv')"
   ]
  },
  {
   "cell_type": "code",
   "execution_count": null,
   "metadata": {
    "collapsed": true
   },
   "outputs": [],
   "source": [
    "df.head(10)"
   ]
  },
  {
   "cell_type": "code",
   "execution_count": null,
   "metadata": {
    "collapsed": true
   },
   "outputs": [],
   "source": [
    "df = pd.read_csv('./datasets/gym.csv', parse_dates=['timestamp'])"
   ]
  },
  {
   "cell_type": "code",
   "execution_count": null,
   "metadata": {
    "collapsed": true
   },
   "outputs": [],
   "source": [
    "df.head()"
   ]
  },
  {
   "cell_type": "code",
   "execution_count": null,
   "metadata": {
    "collapsed": true
   },
   "outputs": [],
   "source": [
    "df.head()['timestamp']"
   ]
  },
  {
   "cell_type": "code",
   "execution_count": null,
   "metadata": {
    "collapsed": true
   },
   "outputs": [],
   "source": [
    "# custom datetime parser\n",
    "#\n",
    "# def ________(x):\n",
    "#     return pd.Timestamp(x)\n",
    "tz_parser = lambda x: parser.parse(x)"
   ]
  },
  {
   "cell_type": "code",
   "execution_count": null,
   "metadata": {
    "collapsed": true
   },
   "outputs": [],
   "source": [
    "tz_parser('2017-04-19T16:14:02.360920+08:00')"
   ]
  },
  {
   "cell_type": "code",
   "execution_count": null,
   "metadata": {
    "collapsed": true
   },
   "outputs": [],
   "source": [
    "df = pd.read_csv('./datasets/gym.csv', parse_dates=['timestamp'], date_parser=tz_parser)"
   ]
  },
  {
   "cell_type": "code",
   "execution_count": null,
   "metadata": {
    "collapsed": true
   },
   "outputs": [],
   "source": [
    "df.head()"
   ]
  },
  {
   "cell_type": "code",
   "execution_count": null,
   "metadata": {
    "collapsed": true
   },
   "outputs": [],
   "source": [
    "df.head()['timestamp']"
   ]
  },
  {
   "cell_type": "code",
   "execution_count": null,
   "metadata": {
    "collapsed": true
   },
   "outputs": [],
   "source": [
    "df[(df.timestamp > '2017-04-21 00:00+0800') & (df.timestamp < '2017-04-22 00:00+0800')]"
   ]
  },
  {
   "cell_type": "code",
   "execution_count": null,
   "metadata": {
    "collapsed": true
   },
   "outputs": [],
   "source": [
    "df.index = df['timestamp']"
   ]
  },
  {
   "cell_type": "code",
   "execution_count": null,
   "metadata": {
    "collapsed": true
   },
   "outputs": [],
   "source": [
    "df.head()"
   ]
  },
  {
   "cell_type": "code",
   "execution_count": null,
   "metadata": {
    "collapsed": true
   },
   "outputs": [],
   "source": [
    "df[['gym']].plot()"
   ]
  },
  {
   "cell_type": "code",
   "execution_count": null,
   "metadata": {
    "collapsed": true
   },
   "outputs": [],
   "source": [
    "import matplotlib.pyplot as plt"
   ]
  },
  {
   "cell_type": "code",
   "execution_count": null,
   "metadata": {
    "collapsed": true
   },
   "outputs": [],
   "source": [
    "plt.show()"
   ]
  },
  {
   "cell_type": "code",
   "execution_count": null,
   "metadata": {
    "collapsed": true
   },
   "outputs": [],
   "source": [
    "df[['gym', 'pool']].plot()"
   ]
  },
  {
   "cell_type": "code",
   "execution_count": null,
   "metadata": {
    "collapsed": true
   },
   "outputs": [],
   "source": [
    "plt.show()"
   ]
  },
  {
   "cell_type": "code",
   "execution_count": null,
   "metadata": {
    "collapsed": true
   },
   "outputs": [],
   "source": [
    "df['2017-04-21'][['gym', 'pool']].plot()"
   ]
  },
  {
   "cell_type": "code",
   "execution_count": null,
   "metadata": {
    "collapsed": true
   },
   "outputs": [],
   "source": [
    "plt.show()"
   ]
  },
  {
   "cell_type": "code",
   "execution_count": null,
   "metadata": {
    "collapsed": true
   },
   "outputs": [],
   "source": [
    "df['2017-04-22'].head()"
   ]
  },
  {
   "cell_type": "code",
   "execution_count": null,
   "metadata": {
    "collapsed": true
   },
   "outputs": [],
   "source": [
    "df[df.gym > 60]"
   ]
  },
  {
   "cell_type": "code",
   "execution_count": null,
   "metadata": {
    "collapsed": true
   },
   "outputs": [],
   "source": [
    "for d in range(22,19,-1):\n",
    "    df['2017-04-%s'%d][['gym', 'pool']].plot()"
   ]
  },
  {
   "cell_type": "code",
   "execution_count": null,
   "metadata": {
    "collapsed": true
   },
   "outputs": [],
   "source": [
    "plt.show()"
   ]
  },
  {
   "cell_type": "code",
   "execution_count": null,
   "metadata": {
    "collapsed": true
   },
   "outputs": [],
   "source": [
    "df.resample('d').mean()"
   ]
  },
  {
   "cell_type": "code",
   "execution_count": null,
   "metadata": {
    "collapsed": true
   },
   "outputs": [],
   "source": [
    "df = pd.read_csv('./datasets/result.csv', error_bad_lines=False)"
   ]
  },
  {
   "cell_type": "code",
   "execution_count": null,
   "metadata": {
    "collapsed": true
   },
   "outputs": [],
   "source": [
    "df.head()"
   ]
  },
  {
   "cell_type": "code",
   "execution_count": null,
   "metadata": {
    "collapsed": true,
    "scrolled": true
   },
   "outputs": [],
   "source": [
    "df[df['更新頻率'].str.contains('分鐘', na=False)]"
   ]
  },
  {
   "cell_type": "code",
   "execution_count": null,
   "metadata": {
    "collapsed": true
   },
   "outputs": [],
   "source": [
    "# Regular Expression\n",
    "import re"
   ]
  },
  {
   "cell_type": "code",
   "execution_count": null,
   "metadata": {
    "collapsed": true
   },
   "outputs": [],
   "source": [
    "# 測試是否整個string都match pattern\n",
    "re.match('\\w*@', 'ianchen06@gmail.com')[0]"
   ]
  },
  {
   "cell_type": "code",
   "execution_count": null,
   "metadata": {
    "collapsed": true
   },
   "outputs": [],
   "source": [
    "# 自傳內符合規則的部分\n",
    "re.findall('[a-z0-9]+@[a-z0-9]+\\.[a-z0-9]+', 'asdfasdfs,ian@gmail.com,,,232jasdfosdf')"
   ]
  },
  {
   "cell_type": "code",
   "execution_count": null,
   "metadata": {
    "collapsed": true
   },
   "outputs": [],
   "source": []
  }
 ],
 "metadata": {
  "kernelspec": {
   "display_name": "Python 3",
   "language": "python",
   "name": "python3"
  },
  "language_info": {
   "codemirror_mode": {
    "name": "ipython",
    "version": 3
   },
   "file_extension": ".py",
   "mimetype": "text/x-python",
   "name": "python",
   "nbconvert_exporter": "python",
   "pygments_lexer": "ipython3",
   "version": "3.6.1"
  }
 },
 "nbformat": 4,
 "nbformat_minor": 2
}
