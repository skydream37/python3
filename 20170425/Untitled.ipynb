{
 "cells": [
  {
   "cell_type": "code",
   "execution_count": 112,
   "metadata": {
    "collapsed": true
   },
   "outputs": [],
   "source": [
    "header_str = \"\"\"Accept:text/html,application/xhtml+xml,application/xml;q=0.9,image/webp,*/*;q=0.8\n",
    "Accept-Encoding:gzip, deflate, sdch\n",
    "Accept-Language:en-US,en;q=0.8\n",
    "Connection:keep-alive\n",
    "Cookie:__asc=f9bad91c15b8a117b57e7112b10; __auc=f9bad91c15b8a117b57e7112b10; _ga=GA1.3.1354850009.1492670053; _gat=1; __gads=ID=173de187635fb21b:T=1492670053:S=ALNI_MaLUOXI06p68JrJhvo0dgEI3XLUaA\n",
    "Host:news.cts.com.tw\n",
    "Referer:http://www.cts.com.tw/\n",
    "Upgrade-Insecure-Requests:1\n",
    "User-Agent:Mozilla/5.0 (X11; Linux x86_64) AppleWebKit/537.36 (KHTML, like Gecko) Chrome/57.0.2987.133 Safari/537.36\"\"\"\n",
    "\n",
    "# 寫一個程式, 把上面的header_str傳換成下面的header_dict結構\n",
    "# 提示: str object的methods好用, konw your dictionary\n",
    "# header_dict = {\"Accept\": \"text/html,application/xhtml+xml,application/xml;q=0.9,image/webp,*/*;q=0.8\",\n",
    "#                \"Accept-Encoding\": \"gzip, deflate, sdch\",\n",
    "#                                 ...\n",
    "#               }\n"
   ]
  },
  {
   "cell_type": "code",
   "execution_count": 114,
   "metadata": {},
   "outputs": [
    {
     "data": {
      "text/plain": [
       "\"'Accept:text/html,application/xhtml+xml,application/xml;q=0.9,image/webp,*/*;q=0.8\\\\nAccept-Encoding:gzip, deflate, sdch\\\\nAccept-Language:en-US,en;q=0.8\\\\nConnection:keep-alive\\\\nCookie:__asc=f9bad91c15b8a117b57e7112b10; __auc=f9bad91c15b8a117b57e7112b10; _ga=GA1.3.1354850009.1492670053; _gat=1; __gads=ID=173de187635fb21b:T=1492670053:S=ALNI_MaLUOXI06p68JrJhvo0dgEI3XLUaA\\\\nHost:news.cts.com.tw\\\\nReferer:http://www.cts.com.tw/\\\\nUpgrade-Insecure-Requests:1\\\\nUser-Agent:Mozilla/5.0 (X11; Linux x86_64) AppleWebKit/537.36 (KHTML, like Gecko) Chrome/57.0.2987.133 Safari/537.36'\""
      ]
     },
     "execution_count": 114,
     "metadata": {},
     "output_type": "execute_result"
    }
   ],
   "source": [
    "repr(header_str)"
   ]
  },
  {
   "cell_type": "code",
   "execution_count": 123,
   "metadata": {},
   "outputs": [
    {
     "data": {
      "text/plain": [
       "['Accept:text/html,application/xhtml+xml,application/xml;q=0.9,image/webp,*/*;q=0.8',\n",
       " 'Accept-Encoding:gzip, deflate, sdch',\n",
       " 'Accept-Language:en-US,en;q=0.8',\n",
       " 'Connection:keep-alive',\n",
       " 'Cookie:__asc=f9bad91c15b8a117b57e7112b10; __auc=f9bad91c15b8a117b57e7112b10; _ga=GA1.3.1354850009.1492670053; _gat=1; __gads=ID=173de187635fb21b:T=1492670053:S=ALNI_MaLUOXI06p68JrJhvo0dgEI3XLUaA',\n",
       " 'Host:news.cts.com.tw',\n",
       " 'Referer:http://www.cts.com.tw/',\n",
       " 'Upgrade-Insecure-Requests:1',\n",
       " 'User-Agent:Mozilla/5.0 (X11; Linux x86_64) AppleWebKit/537.36 (KHTML, like Gecko) Chrome/57.0.2987.133 Safari/537.36']"
      ]
     },
     "execution_count": 123,
     "metadata": {},
     "output_type": "execute_result"
    }
   ],
   "source": [
    "raws=header_str.split('\\n')\n",
    "raw"
   ]
  },
  {
   "cell_type": "code",
   "execution_count": 132,
   "metadata": {},
   "outputs": [
    {
     "name": "stdout",
     "output_type": "stream",
     "text": [
      "key: Accept\n",
      "val: text/html,application/xhtml+xml,application/xml;q=0.9,image/webp,*/*;q=0.8\n",
      "key: Accept-Encoding\n",
      "val: gzip, deflate, sdch\n",
      "key: Accept-Language\n",
      "val: en-US,en;q=0.8\n",
      "key: Connection\n",
      "val: keep-alive\n",
      "key: Cookie\n",
      "val: __asc=f9bad91c15b8a117b57e7112b10; __auc=f9bad91c15b8a117b57e7112b10; _ga=GA1.3.1354850009.1492670053; _gat=1; __gads=ID=173de187635fb21b:T=1492670053:S=ALNI_MaLUOXI06p68JrJhvo0dgEI3XLUaA\n",
      "key: Host\n",
      "val: news.cts.com.tw\n",
      "key: Referer\n",
      "val: http://www.cts.com.tw/\n",
      "key: Upgrade-Insecure-Requests\n",
      "val: 1\n",
      "key: User-Agent\n",
      "val: Mozilla/5.0 (X11; Linux x86_64) AppleWebKit/537.36 (KHTML, like Gecko) Chrome/57.0.2987.133 Safari/537.36\n"
     ]
    },
    {
     "data": {
      "text/plain": [
       "{'Accept': 'text/html,application/xhtml+xml,application/xml;q=0.9,image/webp,*/*;q=0.8',\n",
       " 'Accept-Encoding': 'gzip, deflate, sdch',\n",
       " 'Accept-Language': 'en-US,en;q=0.8',\n",
       " 'Connection': 'keep-alive',\n",
       " 'Cookie': '__asc=f9bad91c15b8a117b57e7112b10; __auc=f9bad91c15b8a117b57e7112b10; _ga=GA1.3.1354850009.1492670053; _gat=1; __gads=ID=173de187635fb21b:T=1492670053:S=ALNI_MaLUOXI06p68JrJhvo0dgEI3XLUaA',\n",
       " 'Host': 'news.cts.com.tw',\n",
       " 'Referer': 'http://www.cts.com.tw/',\n",
       " 'Upgrade-Insecure-Requests': '1',\n",
       " 'User-Agent': 'Mozilla/5.0 (X11; Linux x86_64) AppleWebKit/537.36 (KHTML, like Gecko) Chrome/57.0.2987.133 Safari/537.36'}"
      ]
     },
     "execution_count": 132,
     "metadata": {},
     "output_type": "execute_result"
    }
   ],
   "source": [
    "header_dict = {}\n",
    "for raw in raws:\n",
    "    kv_list = raw.split(\":\")\n",
    "    key = kv_list[0]\n",
    "    print(\"key: \"+key)\n",
    "    val =':'.join(kv_list[1:])\n",
    "    print(\"val: \"+val)\n",
    "    header_dict[key]=val\n",
    "\n",
    "header_dict"
   ]
  },
  {
   "cell_type": "code",
   "execution_count": null,
   "metadata": {
    "collapsed": true
   },
   "outputs": [],
   "source": []
  }
 ],
 "metadata": {
  "kernelspec": {
   "display_name": "Python 3",
   "language": "python",
   "name": "python3"
  },
  "language_info": {
   "codemirror_mode": {
    "name": "ipython",
    "version": 3
   },
   "file_extension": ".py",
   "mimetype": "text/x-python",
   "name": "python",
   "nbconvert_exporter": "python",
   "pygments_lexer": "ipython3",
   "version": "3.6.1"
  }
 },
 "nbformat": 4,
 "nbformat_minor": 2
}
