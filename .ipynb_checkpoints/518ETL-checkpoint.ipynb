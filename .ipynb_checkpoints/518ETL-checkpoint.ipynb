{
 "cells": [
  {
   "cell_type": "code",
   "execution_count": 4,
   "metadata": {
    "collapsed": true
   },
   "outputs": [],
   "source": [
    "import requests\n",
    "from bs4 import BeautifulSoup\n",
    "import re\n",
    "from collections import Counter\n",
    "global static #增加一個全域變數用來紀錄統計結果\n",
    "static={}"
   ]
  },
  {
   "cell_type": "code",
   "execution_count": 5,
   "metadata": {},
   "outputs": [
    {
     "data": {
      "text/plain": [
       "['\\ufeffC',\n",
       " 'C++',\n",
       " 'C#',\n",
       " 'PYTHON',\n",
       " 'JAVA',\n",
       " 'JAVASCRIPT',\n",
       " 'PHP',\n",
       " 'HTML',\n",
       " 'SQL',\n",
       " 'CSS']"
      ]
     },
     "execution_count": 5,
     "metadata": {},
     "output_type": "execute_result"
    }
   ],
   "source": [
    "with open('./wordlen.txt') as f: #打開我們要比對的字典檔\n",
    "    wordlen = f.read().split('\\n')\n",
    "del wordlen[0]\n",
    "wordlen[:10] "
   ]
  },
  {
   "cell_type": "code",
   "execution_count": 6,
   "metadata": {
    "collapsed": true
   },
   "outputs": [],
   "source": [
    "def inner_word(url): #一個用來分析內頁的function\n",
    "    \n",
    "    inner = requests.get(url)  #用get連到網頁\n",
    "    innersoup = BeautifulSoup(inner.text, 'lxml')  #放到BeautifulSoup解析\n",
    "    innerselect2 = str(innersoup.select('div.job-detail-box > dl')).upper()  \n",
    "    #找到可能會出現找尋目標的區塊將全部英文變大寫\n",
    "    innerselect = str(innersoup.select('div > p')).upper()\n",
    "    #同上\n",
    "    lan1=re.findall('[A-Z]+[+#?]*' , innerselect)\n",
    "    #用正規法抓出每個英文單字\n",
    "    lan2=re.findall('[A-Z]+[+#?]*' , innerselect2)\n",
    "    #同上 第二區塊的\n",
    "    lan1.extend(lan2)\n",
    "    #將兩個list合併\n",
    "    if 'HTML#' in lan1:\n",
    "        lan1.remove('HTML#')\n",
    "    #排除調內文出現的雜訊\n",
    "    if 'HTML?' in lan1:\n",
    "        lan1.remove('HTML?')\n",
    "    #雜訊2\n",
    "    lan1 = list(set(lan1))\n",
    "    #清除調list內重複的部份\n",
    "    \n",
    "    for i in lan1: #將每個元素都跑過 內容會顯示在i\n",
    "        if i in wordlen: #如果list裡面的字有出現在我們的字典檔中\n",
    "            if i in static:  #如果static已經有這個字 就在value+1\n",
    "                static[i] += 1\n",
    "            else:\n",
    "                static[i] = 1 #如果static統計的字典檔還沒有這個字 就新增\n",
    "    return static\n"
   ]
  },
  {
   "cell_type": "code",
   "execution_count": 7,
   "metadata": {
    "collapsed": true
   },
   "outputs": [],
   "source": [
    "def page(url):  #這是用來抓出搜尋畫面中所有的case連結\n",
    "    res = requests.get(url)\n",
    "    soup = BeautifulSoup(res.text, 'lxml')\n",
    "    links = soup.select('li.title > a')\n",
    "    for link in links:\n",
    "        inner_word(str(link['href']))#把取得的連結丟到上面inner_word function去解析\n",
    "        print(\"%s\" %  link['href'])\n",
    "        print(\"=\" * 50)\n",
    "    return static\n",
    "    "
   ]
  },
  {
   "cell_type": "code",
   "execution_count": 8,
   "metadata": {},
   "outputs": [
    {
     "name": "stdout",
     "output_type": "stream",
     "text": [
      "Page1 Page1 Page1 Page1 Page1 Page1 Page1 Page1 Page1 Page1 Page1 Page1 Page1 Page1 Page1 Page1 Page1 Page1 Page1 Page1 Page1 Page1 Page1 Page1 Page1 Page1 Page1 Page1 Page1 Page1 Page1 Page1 Page1 Page1 Page1 Page1 Page1 Page1 Page1 Page1 Page1 Page1 Page1 Page1 Page1 Page1 Page1 Page1 Page1 Page1 \n",
      "https://www.518.com.tw/MIS網管(駐點香港)-中國-香港區-job-1349006.html?kw=&pi=1\n",
      "==================================================\n",
      "https://www.518.com.tw/V-最熱門-超簡易的 手工撕膜 也能高時薪206月領37K  近頂埔捷運-新北市-板橋區-job-1338811.html?kw=&pi=1\n",
      "==================================================\n",
      "https://www.518.com.tw/營運管理師 系統整合 ERP專案師-台北市-中山區-job-1352784.html?kw=&pi=1\n",
      "==================================================\n",
      "https://www.518.com.tw/程式設計助理工程師-台中市-南區-job-1340901.html?kw=&pi=1\n",
      "==================================================\n",
      "https://www.518.com.tw/資訊助理工程師-台北市-松山區-job-692075.html?kw=&pi=1\n",
      "==================================================\n",
      "https://www.518.com.tw/會計(具網拍經驗網站行銷企劃後台管理者)可兼-高雄市-鼓山區-job-952113.html?kw=&pi=1\n",
      "==================================================\n",
      "https://www.518.com.tw/牙科數位軟硬體工程師-新北市-三重區-job-523522.html?kw=&pi=1\n",
      "==================================================\n",
      "https://www.518.com.tw/網頁開發工程師-高雄市-楠梓區-job-1251140.html?kw=&pi=1\n",
      "==================================================\n",
      "https://www.518.com.tw/電子工程師-台中市-南區-job-444095.html?kw=&pi=1\n",
      "==================================================\n",
      "https://www.518.com.tw/777-(北區最高薪NO.1) 免輪班50K 8小時,際-新北市-全區-job-1337757.html?kw=&pi=1\n",
      "==================================================\n",
      "https://www.518.com.tw/777-(湖口)全新宿舍 月休10天 免輪班,際-新竹縣-新豐鄉-job-1337709.html?kw=&pi=1\n",
      "==================================================\n",
      "https://www.518.com.tw/專案執行專員-台北市-內湖區-job-1349315.html?kw=&pi=1\n",
      "==================================================\n",
      "https://www.518.com.tw/IT網管工程師-台中市-西區-job-1348801.html?kw=&pi=1\n",
      "==================================================\n",
      "https://www.518.com.tw/php internet web網頁程式設計師-台北市-中正區-job-1210421.html?kw=&pi=1\n",
      "==================================================\n",
      "https://www.518.com.tw/Internet程式設計師-台北市-中山區-job-1333649.html?kw=&pi=1\n",
      "==================================================\n",
      "https://www.518.com.tw/維修工程師-新北市-淡水區-job-202994.html?kw=&pi=1\n",
      "==================================================\n",
      "https://www.518.com.tw/網拍小幫手工讀計時人員  早班10-18-新北市-汐止區-job-1000915.html?kw=&pi=1\n",
      "==================================================\n",
      "https://www.518.com.tw/資訊工程師-台北市-中山區-job-1141237.html?kw=&pi=1\n",
      "==================================================\n",
      "https://www.518.com.tw/網路系統工程師-新北市-林口區-job-1341904.html?kw=&pi=1\n",
      "==================================================\n",
      "https://www.518.com.tw/電腦維護工程師-台北市-中山區-job-1039087.html?kw=&pi=1\n",
      "==================================================\n",
      "http://case.518.com.tw/casepage-detail-124639.html?from=518&a_id=2183\n",
      "==================================================\n",
      "http://case.518.com.tw/casepage-detail-124623.html?from=518&a_id=2183\n",
      "==================================================\n",
      "http://case.518.com.tw/casepage-detail-124627.html?from=518&a_id=2183\n",
      "==================================================\n",
      "Page2 Page2 Page2 Page2 Page2 Page2 Page2 Page2 Page2 Page2 Page2 Page2 Page2 Page2 Page2 Page2 Page2 Page2 Page2 Page2 Page2 Page2 Page2 Page2 Page2 Page2 Page2 Page2 Page2 Page2 Page2 Page2 Page2 Page2 Page2 Page2 Page2 Page2 Page2 Page2 Page2 Page2 Page2 Page2 Page2 Page2 Page2 Page2 Page2 Page2 \n",
      "https://www.518.com.tw/技術主管-台北市-全區-job-709716.html?kw=&pi=2\n",
      "==================================================\n",
      "https://www.518.com.tw/專案助理, 專案特助-台北市-中山區-job-192492.html?kw=&pi=2\n",
      "==================================================\n",
      "https://www.518.com.tw/網路行銷人員 豐原分店-台中市-豐原區-job-827764.html?kw=&pi=2\n",
      "==================================================\n",
      "https://www.518.com.tw/網頁程式工程師-台北市-內湖區-job-1213974.html?kw=&pi=2\n",
      "==================================================\n",
      "https://www.518.com.tw/系統 網路工程師-台北市-內湖區-job-1213981.html?kw=&pi=2\n",
      "==================================================\n",
      "https://www.518.com.tw/APP應用程式工程師-台北市-內湖區-job-1213983.html?kw=&pi=2\n",
      "==================================================\n",
      "https://www.518.com.tw/資料庫管理員-台北市-內湖區-job-1213997.html?kw=&pi=2\n",
      "==================================================\n",
      "https://www.518.com.tw/現場工程師-彰化縣-員林市-job-1276232.html?kw=&pi=2\n",
      "==================================================\n",
      "https://www.518.com.tw/西區 (代徵)PHP程式工程師-台中市-西區-job-1298430.html?kw=&pi=2\n",
      "==================================================\n",
      "https://www.518.com.tw/研發部門主管(台中)-台中市-南屯區-job-1322266.html?kw=&pi=2\n",
      "==================================================\n",
      "https://www.518.com.tw/WEB程式設計師(台中)-台中市-南屯區-job-496268.html?kw=&pi=2\n",
      "==================================================\n",
      "https://www.518.com.tw/購物網站管理人員-高雄市-仁武區-job-986664.html?kw=&pi=2\n",
      "==================================================\n",
      "https://www.518.com.tw/軟體設計工程師-高雄市-三民區-job-727489.html?kw=&pi=2\n",
      "==================================================\n",
      "https://www.518.com.tw/資訊助理-苗栗縣-三義鄉-job-980924.html?kw=&pi=2\n",
      "==================================================\n",
      "https://www.518.com.tw/網頁設計與網站商品上架管理人員-台北市-南港區-job-1203258.html?kw=&pi=2\n",
      "==================================================\n",
      "https://www.518.com.tw/資訊助理人員-高雄市-左營區-job-602256.html?kw=&pi=2\n",
      "==================================================\n",
      "https://www.518.com.tw/會計出納-高雄市-左營區-job-1269408.html?kw=&pi=2\n",
      "==================================================\n",
      "https://www.518.com.tw/硬體工程師-苗栗縣-竹南鎮-job-22243.html?kw=&pi=2\n",
      "==================================================\n",
      "https://www.518.com.tw/專利工程師-苗栗縣-竹南鎮-job-1174286.html?kw=&pi=2\n",
      "==================================================\n",
      "https://www.518.com.tw/軟軔體工程師-苗栗縣-竹南鎮-job-22239.html?kw=&pi=2\n",
      "==================================================\n",
      "http://case.518.com.tw/casepage-detail-124614.html?from=518&a_id=2183\n",
      "==================================================\n",
      "http://case.518.com.tw/casepage-detail-124609.html?from=518&a_id=2183\n",
      "==================================================\n",
      "http://case.518.com.tw/casepage-detail-124607.html?from=518&a_id=2183\n",
      "==================================================\n"
     ]
    }
   ],
   "source": [
    "for i in range(1,2+1): #換頁 爬的頁數\n",
    "    print(('Page'+str(i)+' ')*50) #顯示出現在爬到那一頁 讓我知道進度如何而已\n",
    "    page('https://www.518.com.tw/job-index-P-'+str(i)+'.html?i=1&am=1&ab=2032001,2032002,') \n",
    "    #把換頁後的url丟到上面的page function"
   ]
  },
  {
   "cell_type": "code",
   "execution_count": 9,
   "metadata": {},
   "outputs": [
    {
     "data": {
      "text/plain": [
       "{'C#': 4,\n",
       " 'C++': 3,\n",
       " 'CSS': 8,\n",
       " 'DELPHI': 1,\n",
       " 'HTML': 16,\n",
       " 'JAVA': 5,\n",
       " 'JAVASCRIPT': 5,\n",
       " 'PHP': 8,\n",
       " 'SQL': 8}"
      ]
     },
     "execution_count": 9,
     "metadata": {},
     "output_type": "execute_result"
    }
   ],
   "source": [
    "static\n",
    "#結果"
   ]
  },
  {
   "cell_type": "code",
   "execution_count": 10,
   "metadata": {
    "scrolled": true
   },
   "outputs": [
    {
     "data": {
      "text/plain": [
       "{'C#': 5,\n",
       " 'C++': 4,\n",
       " 'CSS': 8,\n",
       " 'DELPHI': 1,\n",
       " 'HTML': 16,\n",
       " 'JAVA': 6,\n",
       " 'JAVASCRIPT': 5,\n",
       " 'PHP': 8,\n",
       " 'SQL': 8}"
      ]
     },
     "execution_count": 10,
     "metadata": {},
     "output_type": "execute_result"
    }
   ],
   "source": [
    "inner_word(\"https://www.518.com.tw/unity%E5%B7%A5%E7%A8%8B%E5%B8%AB-%E9%AB%98%E9%9B%84%E5%B8%82-%E5%89%8D%E9%8E%AE%E5%8D%80-job-1344470.html?kw=C&pi=1\")"
   ]
  }
 ],
 "metadata": {
  "kernelspec": {
   "display_name": "Python 3",
   "language": "python",
   "name": "python3"
  },
  "language_info": {
   "codemirror_mode": {
    "name": "ipython",
    "version": 3
   },
   "file_extension": ".py",
   "mimetype": "text/x-python",
   "name": "python",
   "nbconvert_exporter": "python",
   "pygments_lexer": "ipython3",
   "version": "3.6.1"
  }
 },
 "nbformat": 4,
 "nbformat_minor": 2
}
